{
 "cells": [
  {
   "metadata": {},
   "cell_type": "markdown",
   "source": [
    "## [2주차] 심화과제 - Multi-head Attention으로 감정 분석 모델 구현하기\n",
    "\n",
    "이번 과제에서는 Transformer encoder의 완전한 형태를 구현합니다.<br/>\n",
    "Self-attention을 multi-head attention으로 확장하고 layer normalization, dropout, residual connection 등의 technique을 적용하여 감정 분석 성능을 확인해봅니다."
   ]
  },
  {
   "metadata": {},
   "cell_type": "code",
   "outputs": [],
   "execution_count": null,
   "source": "!pip install datasets sacremoses"
  },
  {
   "metadata": {},
   "cell_type": "markdown",
   "source": [
    "### 1. Last word prediction dataset 준비\n",
    "* collate_fn 함수 정의"
   ]
  },
  {
   "metadata": {
    "ExecuteTime": {
     "end_time": "2025-04-04T14:45:31.247183Z",
     "start_time": "2025-04-04T14:45:12.736343Z"
    }
   },
   "cell_type": "code",
   "source": [
    "import torch\n",
    "from datasets import load_dataset\n",
    "from torch.utils.data import DataLoader\n",
    "from transformers import BertTokenizerFast\n",
    "from torch.nn.utils.rnn import pad_sequence\n",
    "\n",
    "# 데이터셋 로드하기\n",
    "train_ds = load_dataset(\"imdb\", split=\"train[:5%]\")\n",
    "test_ds = load_dataset(\"imdb\", split=\"test[:5%]\")\n",
    "\n",
    "# 권장 방식으로 토크나이저 로드하기\n",
    "tokenizer = BertTokenizerFast.from_pretrained('bert-base-uncased')\n",
    "\n",
    "\n",
    "def collate_fn(batch):\n",
    "    max_len = 400\n",
    "    texts, labels = [], []\n",
    "    for row in batch:\n",
    "        # 문장을 토큰화하고, 마지막 세 번째 단어를 라벨로 설정\n",
    "        tokenized = tokenizer(row['text'], truncation=True, max_length=max_len).input_ids\n",
    "\n",
    "        if len(tokenized) < 3:  # 너무 짧은 문장은 건너뛰기\n",
    "            continue\n",
    "\n",
    "        labels.append(tokenized[-3])  # 마지막 세 번째 단어를 라벨로 사용\n",
    "        texts.append(torch.LongTensor(\n",
    "            tokenizer(row['text'], truncation=True, max_length=max_len).input_ids[:-3]))  # 마지막 세 단어를 제외한 입력 문장\n",
    "\n",
    "    # 입력 문장을 패딩 처리하여 동일한 길이로 맞춤\n",
    "    texts = pad_sequence(texts, batch_first=True, padding_value=tokenizer.pad_token_id)\n",
    "    labels = torch.LongTensor(labels)\n",
    "\n",
    "    return texts, labels\n",
    "\n",
    "\n",
    "train_loader = DataLoader(train_ds, batch_size=64, shuffle=True, collate_fn=collate_fn)\n",
    "test_loader = DataLoader(test_ds, batch_size=64, shuffle=False, collate_fn=collate_fn)"
   ],
   "outputs": [],
   "execution_count": 26
  },
  {
   "metadata": {},
   "cell_type": "markdown",
   "source": "### 2. SelfAttention 구현"
  },
  {
   "metadata": {
    "ExecuteTime": {
     "end_time": "2025-04-04T14:45:39.735563Z",
     "start_time": "2025-04-04T14:45:39.731055Z"
    }
   },
   "cell_type": "code",
   "source": [
    "from torch import nn\n",
    "from math import sqrt\n",
    "\n",
    "\n",
    "class SelfAttention(nn.Module):\n",
    "    def __init__(self, input_dim, d_model):\n",
    "        super().__init__()\n",
    "\n",
    "        self.input_dim = input_dim\n",
    "        self.d_model = d_model\n",
    "\n",
    "        self.wq = nn.Linear(input_dim, d_model)\n",
    "        self.wk = nn.Linear(input_dim, d_model)\n",
    "        self.wv = nn.Linear(input_dim, d_model)\n",
    "        self.dense = nn.Linear(d_model, d_model)\n",
    "\n",
    "        self.softmax = nn.Softmax(dim=-1)\n",
    "\n",
    "    def forward(self, x, mask):\n",
    "        q, k, v = self.wq(x), self.wk(x), self.wv(x)\n",
    "        score = torch.matmul(q, k.transpose(-1, -2))  # (B, S, D) * (B, D, S) = (B, S, S)\n",
    "        score = score / sqrt(self.d_model)\n",
    "\n",
    "        if mask is not None:\n",
    "            score = score + (mask * -1e9)\n",
    "\n",
    "        score = self.softmax(score)\n",
    "        result = torch.matmul(score, v)\n",
    "        result = self.dense(result)\n",
    "\n",
    "        return result"
   ],
   "outputs": [],
   "execution_count": 29
  },
  {
   "metadata": {},
   "cell_type": "markdown",
   "source": [
    "### 3. Multi-head Attention (MHA) 구현\n",
    "**(B, S, D)**\n",
    "* B: 배치 크기 (batch size)\n",
    "* S: 시퀀스 길이 (sequence length)\n",
    "* D: 임베딩 차원 (embedding dimension)\n",
    "\n",
    "**step2**\n",
    "* 각 Q, K, V는 batch_size와 sequence_length에 대한 `n_heads`개 Head를 가지도록 `view`와 `transpose`로 형태를 변환\n",
    "    * `view`를 사용해 `(B, S, n_heads, d_k)` 형태로 만들어 각 Head에 대해 값을 분할함\n",
    "    * `transpose(1, 2)`는 차원을 반환하여, **(B,H,S,D')** 형태로 만듬. (H는 Head의 수)\n",
    "\n",
    "**step3**\n",
    "* **Q**와 **K**를 내적한 후 `1/sqrt(D')`으로 스케일링하여 Attention score인 **A**를 계산\n",
    "    * **Q**와 **K**의 내적은 두 벡터의 유사도를 계산하는 방법\n",
    "    * `sqrt(self.d_k)`로 스케일링하여 큰 값들이 너무 커지지 않도록 조정\n",
    "\n",
    "**step4**\n",
    "* Mask가 제공되면, **A**에 추가하여 padding된 토큰들이 Attention 연산에서 무시되도록 함\n",
    "    * **mask**는 (B, S) 형태일 가능성이 있으며, unsqueeze(1)을 사용하여 (B, 1, S) 형태로 만들어 **A**와 동일한 차원에 맞춰 줌\n",
    "\n",
    "**step5**\n",
    "* **A**에 Softmax를 적용하여 Attention 확률 분포를 만들고, 그 확률을 **V**와 곱해 최종 Attention 결과인 **attn**을 계산\n",
    "\n",
    "**step6**\n",
    "* **attn**은 여러 Head에서 나온 값을 `transpose(1, 2)`와 `view()`로 결합하여 하나의 큰 차원으로 합침\n",
    "\n",
    "**step7**\n",
    "* 마지막으로 `self.dense`를 사용하여 최종 출력 `output`을 계산 -> **이 출력은 `(B, S, D)`차원**"
   ]
  },
  {
   "metadata": {
    "ExecuteTime": {
     "end_time": "2025-04-04T14:45:45.231052Z",
     "start_time": "2025-04-04T14:45:45.225820Z"
    }
   },
   "cell_type": "code",
   "source": [
    "class MultiHeadAttention(nn.Module):\n",
    "    def __init__(self, input_dim, d_model, n_heads):\n",
    "        super().__init__()\n",
    "\n",
    "        self.d_model = d_model\n",
    "        self.n_heads = n_heads\n",
    "        self.d_k = d_model // n_heads  # D' 값 - 각 Attention Head가 처리할 차원 크기\n",
    "        assert d_model % n_heads == 0, \"D must be divisible by H\"  # 제약 조건 설정 (D가 H로 나눠 떨어지는 값)\n",
    "\n",
    "        self.wq = nn.Linear(input_dim, d_model)  # Query (Q)\n",
    "        self.wk = nn.Linear(input_dim, d_model)  # Key (K)\n",
    "        self.wv = nn.Linear(input_dim, d_model)  # Value (V)\n",
    "        self.dense = nn.Linear(d_model, d_model)  # 최종 결과를 출력하기 위한 Linear Layer\n",
    "\n",
    "        self.softmax = nn.Softmax(dim=-1)\n",
    "\n",
    "    def forward(self, x, mask=None):\n",
    "        batch_size, seq_len, embed_dim = x.size()  # (B, S, D)\n",
    "\n",
    "        # Step 2: Reshape Q, K, V to (B, H, S, D')\n",
    "        Q = self.wq(x).view(batch_size, seq_len, self.n_heads, self.d_k).transpose(1, 2)  # (B, H, S, D')\n",
    "        K = self.wk(x).view(batch_size, seq_len, self.n_heads, self.d_k).transpose(1, 2)\n",
    "        V = self.wv(x).view(batch_size, seq_len, self.n_heads, self.d_k).transpose(1, 2)\n",
    "\n",
    "        # Step 3: Compute Attention Scores\n",
    "        A = torch.matmul(Q, K.transpose(-2, -1)) / sqrt(self.d_k)  # (B, H, S, S)\n",
    "\n",
    "        # Step 4: Apply mask if provided\n",
    "        if mask is not None:\n",
    "            A = A + mask.unsqueeze(1)  # (B, H, S, S)\n",
    "\n",
    "        # Step 5: Apply Softmax and attention to V\n",
    "        attn = torch.matmul(self.softmax(A), V)  # (B, H, S, D')\n",
    "\n",
    "        # Step 6: Reshape and combine heads\n",
    "        attn = attn.transpose(1, 2).contiguous().view(batch_size, seq_len, -1)  # (B, S, H * D')\n",
    "\n",
    "        # Step 7: Output projection\n",
    "        output = self.dense(attn)  # (B, S, D)\n",
    "\n",
    "        return output"
   ],
   "outputs": [],
   "execution_count": 30
  },
  {
   "metadata": {},
   "cell_type": "markdown",
   "source": [
    "### 4. TransformerLayer 구현\n",
    "* 기본적으로 `nn.Dropout()`의 비율은 0.5이지만, `dropout_prob=0.1` (10%)을 명시적으로 설정하여, 더 많은 정보를 학습할 수 있도록 해 줌"
   ]
  },
  {
   "metadata": {
    "ExecuteTime": {
     "end_time": "2025-04-04T14:45:47.299920Z",
     "start_time": "2025-04-04T14:45:47.295831Z"
    }
   },
   "cell_type": "code",
   "source": [
    "class TransformerLayer(nn.Module):\n",
    "    def __init__(self, input_dim, d_model, n_heads, dff, dropout_prob):\n",
    "        super().__init__()\n",
    "\n",
    "        self.input_dim = input_dim  # 입력 차원\n",
    "        self.d_model = d_model  # 모델 차원\n",
    "        self.n_heads = n_heads  # Attention 헤드 수\n",
    "        self.dff = dff  # Feed-Forward Network의 차원\n",
    "\n",
    "        # Multi-Head Attention\n",
    "        self.mha = MultiHeadAttention(input_dim, d_model, n_heads)\n",
    "\n",
    "        # Feed-Forward Network (FFN)\n",
    "        self.ffn = nn.Sequential(\n",
    "            nn.Linear(d_model, dff),\n",
    "            nn.ReLU(),\n",
    "            nn.Linear(dff, d_model)\n",
    "        )\n",
    "\n",
    "        # Layer Normalization\n",
    "        self.layer_norm1 = nn.LayerNorm(d_model)\n",
    "        self.layer_norm2 = nn.LayerNorm(d_model)\n",
    "\n",
    "        # Dropout\n",
    "        self.dropout1 = nn.Dropout(dropout_prob)\n",
    "        self.dropout2 = nn.Dropout(dropout_prob)\n",
    "\n",
    "    def forward(self, x, mask):\n",
    "        # Multi-Head Attention (MHA) 적용\n",
    "        x1 = self.mha(x, mask)  # (B, S, D)\n",
    "\n",
    "        # Residual Connection, Dropout, Layer Normalization 적용\n",
    "        x1 = self.dropout1(x1)  # Dropout 적용\n",
    "        x1 = self.layer_norm1(x1 + x)  # Residual Connection, Layer Normalization 적용\n",
    "\n",
    "        # Feed-Forward Network (FFN) 적용\n",
    "        x2 = self.ffn(x1)  # (B, S, D)\n",
    "\n",
    "        # Residual Connection, Dropout, Layer Normalization 적용\n",
    "        x2 = self.dropout2(x2)  # Dropout 적용\n",
    "        x2 = self.layer_norm2(x2 + x1)  # Residual Connection, Layer Normalization 적용\n",
    "\n",
    "        return x2"
   ],
   "outputs": [],
   "execution_count": 31
  },
  {
   "metadata": {},
   "cell_type": "markdown",
   "source": "### 5. positional_encoding 구현"
  },
  {
   "metadata": {
    "ExecuteTime": {
     "end_time": "2025-04-04T14:45:49.442081Z",
     "start_time": "2025-04-04T14:45:49.437080Z"
    }
   },
   "cell_type": "code",
   "source": [
    "import numpy as np\n",
    "\n",
    "\n",
    "def get_angles(pos, i, d_model):\n",
    "    angle_rates = 1 / np.power(10000, (2 * (i // 2)) / np.float32(d_model))\n",
    "    return pos * angle_rates\n",
    "\n",
    "\n",
    "def positional_encoding(position, d_model):\n",
    "    angle_rads = get_angles(np.arange(position)[:, None], np.arange(d_model)[None, :], d_model)\n",
    "    angle_rads[:, 0::2] = np.sin(angle_rads[:, 0::2])\n",
    "    angle_rads[:, 1::2] = np.cos(angle_rads[:, 1::2])\n",
    "    pos_encoding = angle_rads[None, ...]\n",
    "\n",
    "    return torch.FloatTensor(pos_encoding)\n",
    "\n",
    "\n",
    "max_len = 400\n",
    "print(positional_encoding(max_len, 256).shape)"
   ],
   "outputs": [
    {
     "name": "stdout",
     "output_type": "stream",
     "text": [
      "torch.Size([1, 400, 256])\n"
     ]
    }
   ],
   "execution_count": 32
  },
  {
   "metadata": {},
   "cell_type": "markdown",
   "source": [
    "### 6. TextClassifier 구현\n",
    "* TransformerLayer 과제에 맞게 Head를 **4**로 할당\n",
    "* model의 layers는 과제에 맞게 **5**로 할당\n",
    "* `d_model`(모델 차원)과 `dff`(FFN 차원)의 크기를 (32 -> 256)으로 변경하여 조금 더 많은 정보를 처리하도록 변경"
   ]
  },
  {
   "metadata": {
    "ExecuteTime": {
     "end_time": "2025-04-04T14:45:51.089696Z",
     "start_time": "2025-04-04T14:45:51.032097Z"
    }
   },
   "cell_type": "code",
   "source": [
    "class TextClassifier(nn.Module):\n",
    "    def __init__(self, vocab_size, d_model, n_layers, dff, dropout_rate):\n",
    "        super().__init__()\n",
    "\n",
    "        self.vocab_size = vocab_size\n",
    "        self.d_model = d_model\n",
    "        self.n_layers = n_layers\n",
    "        self.dff = dff\n",
    "\n",
    "        self.embedding = nn.Embedding(vocab_size, d_model)\n",
    "        self.pos_encoding = nn.parameter.Parameter(positional_encoding(max_len, d_model), requires_grad=False)\n",
    "        self.layers = nn.ModuleList([TransformerLayer(d_model, d_model, 4, dff, dropout_rate) for _ in range(n_layers)])  #  4-head\n",
    "        self.classification = nn.Linear(d_model, vocab_size)\n",
    "\n",
    "    def forward(self, x):\n",
    "        mask = (x == tokenizer.pad_token_id)\n",
    "        mask = mask[:, None, :]\n",
    "        seq_len = x.shape[1]\n",
    "\n",
    "        x = self.embedding(x)\n",
    "        x = x * sqrt(self.d_model)\n",
    "        x = x + self.pos_encoding[:, :seq_len]\n",
    "\n",
    "        for layer in self.layers:\n",
    "            x = layer(x, mask)\n",
    "\n",
    "        x = x[:, -1]\n",
    "        x = self.classification(x)\n",
    "\n",
    "        return x\n",
    "\n",
    "\n",
    "model = TextClassifier(len(tokenizer), 256, 5, 256, 0.1)  # 5 layer"
   ],
   "outputs": [],
   "execution_count": 33
  },
  {
   "metadata": {},
   "cell_type": "markdown",
   "source": "## 7. 손실함수 및 정확도(accuracy) 함수 정의"
  },
  {
   "metadata": {
    "ExecuteTime": {
     "end_time": "2025-04-04T14:45:53.027164Z",
     "start_time": "2025-04-04T14:45:52.979750Z"
    }
   },
   "cell_type": "code",
   "source": [
    "from torch.optim import Adam\n",
    "\n",
    "lr = 0.001\n",
    "model = model.to('cuda')\n",
    "loss_fn = nn.CrossEntropyLoss()  # General Classification (단어 예측)\n",
    "\n",
    "optimizer = Adam(model.parameters(), lr=lr)"
   ],
   "outputs": [],
   "execution_count": 34
  },
  {
   "metadata": {
    "ExecuteTime": {
     "end_time": "2025-04-04T14:45:54.367879Z",
     "start_time": "2025-04-04T14:45:54.363726Z"
    }
   },
   "cell_type": "code",
   "source": [
    "import numpy as np\n",
    "import matplotlib.pyplot as plt\n",
    "\n",
    "\n",
    "def accuracy(model, dataloader):\n",
    "    cnt = 0\n",
    "    acc = 0\n",
    "\n",
    "    for data in dataloader:\n",
    "        inputs, labels = data\n",
    "        inputs, labels = inputs.to('cuda'), labels.to('cuda')\n",
    "\n",
    "        preds = model(inputs)\n",
    "        preds = torch.argmax(preds, dim=-1)  # 가장 높은 확률의 단어를 예측 값으로 사용\n",
    "\n",
    "        cnt += labels.shape[0]\n",
    "        acc += (labels == preds).sum().item()\n",
    "\n",
    "    return acc / cnt"
   ],
   "outputs": [],
   "execution_count": 35
  },
  {
   "metadata": {},
   "cell_type": "markdown",
   "source": "### 8. 학습 함수 정의"
  },
  {
   "metadata": {
    "ExecuteTime": {
     "end_time": "2025-04-04T14:45:55.876824Z",
     "start_time": "2025-04-04T14:45:55.873063Z"
    }
   },
   "cell_type": "code",
   "source": [
    "def train(model, optimizer, n_epochs):\n",
    "    train_losses = []\n",
    "    train_accs = []\n",
    "    test_accs = []\n",
    "\n",
    "    for epoch in range(n_epochs):\n",
    "        total_loss = 0.\n",
    "        model.train()  # 모델을 훈련 모드로 설정\n",
    "        for data in train_loader:\n",
    "            model.zero_grad()\n",
    "            inputs, labels = data\n",
    "            inputs, labels = inputs.to('cuda'), labels.to('cuda')\n",
    "\n",
    "            preds = model(inputs)\n",
    "            loss = loss_fn(preds, labels)\n",
    "            loss.backward()\n",
    "            optimizer.step()\n",
    "\n",
    "            total_loss += loss.item()\n",
    "\n",
    "        # 평균 손실 계산\n",
    "        avg_loss = total_loss / len(train_loader)\n",
    "        train_losses.append(avg_loss)\n",
    "        print(f\"Epoch {epoch:3d} | Train Loss: {avg_loss:.4f}\")\n",
    "\n",
    "        with torch.no_grad():\n",
    "            model.eval()  # 모델을 평가모드로 설정\n",
    "\n",
    "            # Train Accuracy 계산\n",
    "            train_acc = accuracy(model, train_loader)\n",
    "            train_accs.append(train_acc)\n",
    "\n",
    "            # Test Accuracy 계산\n",
    "            test_acc = accuracy(model, test_loader)\n",
    "            test_accs.append(test_acc)\n",
    "\n",
    "            print(f\"=========> Train acc: {train_acc:.3f} | Test acc: {test_acc:.3f}\")\n",
    "\n",
    "    return train_losses, train_accs, test_accs, n_epochs"
   ],
   "outputs": [],
   "execution_count": 36
  },
  {
   "metadata": {},
   "cell_type": "markdown",
   "source": "### 9. 학습 결과 시각화 함수 정의"
  },
  {
   "metadata": {
    "ExecuteTime": {
     "end_time": "2025-04-04T14:45:57.880411Z",
     "start_time": "2025-04-04T14:45:57.877080Z"
    }
   },
   "cell_type": "code",
   "source": [
    "def plot_training_results(train_losses, train_accs, test_accs, n_epochs):\n",
    "    # 학습 결과 시각화\n",
    "    epochs = range(1, n_epochs + 1)\n",
    "\n",
    "    fig, (ax1, ax2) = plt.subplots(1, 2, figsize=(12, 6))\n",
    "\n",
    "    # 첫 번째 그래프: Train Loss\n",
    "    ax1.plot(epochs, train_losses, label='Train Loss', marker='o', color='b')\n",
    "    ax1.set_title('Train Loss over Epochs')\n",
    "    ax1.set_xlabel('Epochs')\n",
    "    ax1.set_ylabel('Loss')\n",
    "    ax1.legend(loc='upper right')\n",
    "    ax1.grid(True)\n",
    "\n",
    "    # 두 번째 그래프: Train & Test Accuracy\n",
    "    ax2.plot(epochs, train_accs, label='Train Accuracy', marker='o', color='g')\n",
    "    ax2.plot(epochs, test_accs, label='Test Accuracy', marker='x', color='r')\n",
    "    ax2.set_title('Train & Test Accuracy over Epochs')\n",
    "    ax2.set_xlabel('Epochs')\n",
    "    ax2.set_ylabel('Accuracy')\n",
    "    ax2.legend(loc='upper right')\n",
    "    ax2.grid(True)\n",
    "\n",
    "    plt.tight_layout()\n",
    "    plt.show()"
   ],
   "outputs": [],
   "execution_count": 37
  },
  {
   "metadata": {},
   "cell_type": "markdown",
   "source": "### 10. 학습"
  },
  {
   "metadata": {
    "ExecuteTime": {
     "end_time": "2025-04-04T14:46:58.110164Z",
     "start_time": "2025-04-04T14:46:00.319153Z"
    }
   },
   "cell_type": "code",
   "source": "train_losses, train_accs, test_accs, n_epochs = train(model, optimizer, 10)",
   "outputs": [
    {
     "name": "stdout",
     "output_type": "stream",
     "text": [
      "Epoch   0 | Train Loss: 8.9301\n",
      "=========> Train acc: 0.041 | Test acc: 0.024\n",
      "Epoch   1 | Train Loss: 6.3763\n",
      "=========> Train acc: 0.050 | Test acc: 0.031\n",
      "Epoch   2 | Train Loss: 5.9116\n",
      "=========> Train acc: 0.074 | Test acc: 0.057\n",
      "Epoch   3 | Train Loss: 5.5985\n",
      "=========> Train acc: 0.153 | Test acc: 0.054\n",
      "Epoch   4 | Train Loss: 5.1788\n",
      "=========> Train acc: 0.204 | Test acc: 0.051\n",
      "Epoch   5 | Train Loss: 4.8284\n",
      "=========> Train acc: 0.247 | Test acc: 0.058\n",
      "Epoch   6 | Train Loss: 4.4773\n",
      "=========> Train acc: 0.276 | Test acc: 0.054\n",
      "Epoch   7 | Train Loss: 4.1290\n",
      "=========> Train acc: 0.300 | Test acc: 0.059\n",
      "Epoch   8 | Train Loss: 3.7252\n",
      "=========> Train acc: 0.371 | Test acc: 0.051\n",
      "Epoch   9 | Train Loss: 3.3307\n",
      "=========> Train acc: 0.365 | Test acc: 0.076\n"
     ]
    }
   ],
   "execution_count": 38
  },
  {
   "metadata": {},
   "cell_type": "markdown",
   "source": "### 11. 학습한 결과 시각화"
  },
  {
   "metadata": {
    "ExecuteTime": {
     "end_time": "2025-04-04T14:47:00.746152Z",
     "start_time": "2025-04-04T14:47:00.632035Z"
    }
   },
   "cell_type": "code",
   "source": "plot_training_results(train_losses, train_accs, test_accs, n_epochs)",
   "outputs": [
    {
     "data": {
      "text/plain": [
       "<Figure size 1200x600 with 2 Axes>"
      ],
      "image/png": "[encoded data removed]"
     },
     "metadata": {},
     "output_type": "display_data"
    }
   ],
   "execution_count": 39
  },
  {
   "metadata": {},
   "cell_type": "markdown",
   "source": [
    "### 그래프 분석\n",
    "* **Train Loss**는 점차적으로 감소하고 있지만, **Train Accuracy**는 급격하게 상승\n",
    "* **Test Accuracy**는 매우 낮고 불규칙적인 변동을 보임\n",
    "\n",
    "**개선 사항**\n",
    "1. dropout_prob 값을 0.2로 변경\n",
    "2. FFN 차원을 512로 변경\n",
    "3. epoch를 20으로 변경 하여 학습을 조금 더 진행 시켜 보기\n",
    "<br/>"
   ]
  },
  {
   "metadata": {},
   "cell_type": "markdown",
   "source": [
    "`model2 = TextClassifier(len(tokenizer), 256, 5, 512, 0.2)`\n",
    "`model2 = model2.to('cuda')`\n",
    "\n",
    "위 코드를 사용해서 train 해보니, Train Loss 10.5026 이 나와서 train_acc, test_acc가 0으로 출력되는 현상 발생"
   ]
  }
 ],
 "metadata": {
  "accelerator": "GPU",
  "colab": {
   "gpuType": "T4",
   "provenance": []
  },
  "kernelspec": {
   "display_name": "Python 3 (ipykernel)",
   "language": "python",
   "name": "python3"
  },
  "language_info": {
   "codemirror_mode": {
    "name": "ipython",
    "version": 3
   },
   "file_extension": ".py",
   "mimetype": "text/x-python",
   "name": "python",
   "nbconvert_exporter": "python",
   "pygments_lexer": "ipython3",
   "version": "3.10.14"
  }
 },
 "nbformat": 4,
 "nbformat_minor": 0
}
