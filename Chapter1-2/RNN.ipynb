{
 "cells": [
  {
   "cell_type": "markdown",
   "metadata": {
    "id": "fIgpn15a2EOL"
   },
   "source": [
    "# RNN 실습\n",
    "\n",
    "이번 실습에서는 RNN을 사용하여 주어진 영화 리뷰의 감정 분석 모델을 구현하고 학습할 것 입니다. 우선 필요한 library들 부터 import합니다."
   ]
  },
  {
   "cell_type": "code",
   "metadata": {
    "colab": {
     "base_uri": "https://localhost:8080/"
    },
    "executionInfo": {
     "elapsed": 5086,
     "status": "ok",
     "timestamp": 1724034322123,
     "user": {
      "displayName": "조승혁",
      "userId": "15759752471844115325"
     },
     "user_tz": -540
    },
    "id": "oXsPIYjtndsf",
    "outputId": "7e4dae26-9730-4cfa-b826-0a860149b7f0",
    "ExecuteTime": {
     "end_time": "2025-04-04T09:43:40.903704Z",
     "start_time": "2025-04-04T09:43:38.870834Z"
    }
   },
   "source": [
    "!pip install datasets"
   ],
   "outputs": [
    {
     "name": "stdout",
     "output_type": "stream",
     "text": [
      "Defaulting to user installation because normal site-packages is not writeable\n",
      "Requirement already satisfied: datasets in c:\\users\\rlgus\\appdata\\roaming\\python\\python311\\site-packages (3.5.0)\n",
      "Requirement already satisfied: filelock in c:\\users\\rlgus\\appdata\\roaming\\python\\python311\\site-packages (from datasets) (3.18.0)\n",
      "Requirement already satisfied: numpy>=1.17 in c:\\users\\rlgus\\appdata\\roaming\\python\\python311\\site-packages (from datasets) (2.2.4)\n",
      "Requirement already satisfied: pyarrow>=15.0.0 in c:\\users\\rlgus\\appdata\\roaming\\python\\python311\\site-packages (from datasets) (19.0.1)\n",
      "Requirement already satisfied: dill<0.3.9,>=0.3.0 in c:\\users\\rlgus\\appdata\\roaming\\python\\python311\\site-packages (from datasets) (0.3.8)\n",
      "Requirement already satisfied: pandas in c:\\users\\rlgus\\appdata\\roaming\\python\\python311\\site-packages (from datasets) (2.2.3)\n",
      "Requirement already satisfied: requests>=2.32.2 in c:\\users\\rlgus\\appdata\\roaming\\python\\python311\\site-packages (from datasets) (2.32.3)\n",
      "Requirement already satisfied: tqdm>=4.66.3 in c:\\users\\rlgus\\appdata\\roaming\\python\\python311\\site-packages (from datasets) (4.67.1)\n",
      "Requirement already satisfied: xxhash in c:\\users\\rlgus\\appdata\\roaming\\python\\python311\\site-packages (from datasets) (3.5.0)\n",
      "Requirement already satisfied: multiprocess<0.70.17 in c:\\users\\rlgus\\appdata\\roaming\\python\\python311\\site-packages (from datasets) (0.70.16)\n",
      "Requirement already satisfied: fsspec[http]<=2024.12.0,>=2023.1.0 in c:\\users\\rlgus\\appdata\\roaming\\python\\python311\\site-packages (from datasets) (2024.12.0)\n",
      "Requirement already satisfied: aiohttp in c:\\users\\rlgus\\appdata\\roaming\\python\\python311\\site-packages (from datasets) (3.11.16)\n",
      "Requirement already satisfied: huggingface-hub>=0.24.0 in c:\\users\\rlgus\\appdata\\roaming\\python\\python311\\site-packages (from datasets) (0.30.1)\n",
      "Requirement already satisfied: packaging in c:\\users\\rlgus\\appdata\\roaming\\python\\python311\\site-packages (from datasets) (24.2)\n",
      "Requirement already satisfied: pyyaml>=5.1 in c:\\users\\rlgus\\appdata\\roaming\\python\\python311\\site-packages (from datasets) (6.0.2)\n",
      "Requirement already satisfied: aiohappyeyeballs>=2.3.0 in c:\\users\\rlgus\\appdata\\roaming\\python\\python311\\site-packages (from aiohttp->datasets) (2.6.1)\n",
      "Requirement already satisfied: aiosignal>=1.1.2 in c:\\users\\rlgus\\appdata\\roaming\\python\\python311\\site-packages (from aiohttp->datasets) (1.3.2)\n",
      "Requirement already satisfied: attrs>=17.3.0 in c:\\users\\rlgus\\appdata\\roaming\\python\\python311\\site-packages (from aiohttp->datasets) (25.3.0)\n",
      "Requirement already satisfied: frozenlist>=1.1.1 in c:\\users\\rlgus\\appdata\\roaming\\python\\python311\\site-packages (from aiohttp->datasets) (1.5.0)\n",
      "Requirement already satisfied: multidict<7.0,>=4.5 in c:\\users\\rlgus\\appdata\\roaming\\python\\python311\\site-packages (from aiohttp->datasets) (6.3.2)\n",
      "Requirement already satisfied: propcache>=0.2.0 in c:\\users\\rlgus\\appdata\\roaming\\python\\python311\\site-packages (from aiohttp->datasets) (0.3.1)\n",
      "Requirement already satisfied: yarl<2.0,>=1.17.0 in c:\\users\\rlgus\\appdata\\roaming\\python\\python311\\site-packages (from aiohttp->datasets) (1.18.3)\n",
      "Requirement already satisfied: typing-extensions>=3.7.4.3 in c:\\users\\rlgus\\appdata\\roaming\\python\\python311\\site-packages (from huggingface-hub>=0.24.0->datasets) (4.13.0)\n",
      "Requirement already satisfied: charset-normalizer<4,>=2 in c:\\users\\rlgus\\appdata\\roaming\\python\\python311\\site-packages (from requests>=2.32.2->datasets) (3.4.1)\n",
      "Requirement already satisfied: idna<4,>=2.5 in c:\\users\\rlgus\\appdata\\roaming\\python\\python311\\site-packages (from requests>=2.32.2->datasets) (3.10)\n",
      "Requirement already satisfied: urllib3<3,>=1.21.1 in c:\\users\\rlgus\\appdata\\roaming\\python\\python311\\site-packages (from requests>=2.32.2->datasets) (2.3.0)\n",
      "Requirement already satisfied: certifi>=2017.4.17 in c:\\users\\rlgus\\appdata\\roaming\\python\\python311\\site-packages (from requests>=2.32.2->datasets) (2025.1.31)\n",
      "Requirement already satisfied: colorama in c:\\users\\rlgus\\appdata\\roaming\\python\\python311\\site-packages (from tqdm>=4.66.3->datasets) (0.4.6)\n",
      "Requirement already satisfied: python-dateutil>=2.8.2 in c:\\users\\rlgus\\appdata\\roaming\\python\\python311\\site-packages (from pandas->datasets) (2.9.0.post0)\n",
      "Requirement already satisfied: pytz>=2020.1 in c:\\users\\rlgus\\appdata\\roaming\\python\\python311\\site-packages (from pandas->datasets) (2025.2)\n",
      "Requirement already satisfied: tzdata>=2022.7 in c:\\users\\rlgus\\appdata\\roaming\\python\\python311\\site-packages (from pandas->datasets) (2025.2)\n",
      "Requirement already satisfied: six>=1.5 in c:\\users\\rlgus\\appdata\\roaming\\python\\python311\\site-packages (from python-dateutil>=2.8.2->pandas->datasets) (1.17.0)\n"
     ]
    },
    {
     "name": "stderr",
     "output_type": "stream",
     "text": [
      "\n",
      "[notice] A new release of pip available: 22.3.1 -> 25.0.1\n",
      "[notice] To update, run: python.exe -m pip install --upgrade pip\n"
     ]
    }
   ],
   "execution_count": 1
  },
  {
   "cell_type": "code",
   "metadata": {
    "id": "nQ0boI90Mj5H",
    "ExecuteTime": {
     "end_time": "2025-04-04T09:43:51.062236Z",
     "start_time": "2025-04-04T09:43:44.516963Z"
    }
   },
   "source": [
    "import torch\n",
    "from datasets import load_dataset"
   ],
   "outputs": [
    {
     "name": "stderr",
     "output_type": "stream",
     "text": [
      "C:\\Users\\rlgus\\AppData\\Roaming\\Python\\Python311\\site-packages\\tqdm\\auto.py:21: TqdmWarning: IProgress not found. Please update jupyter and ipywidgets. See https://ipywidgets.readthedocs.io/en/stable/user_install.html\n",
      "  from .autonotebook import tqdm as notebook_tqdm\n"
     ]
    }
   ],
   "execution_count": 2
  },
  {
   "cell_type": "markdown",
   "metadata": {
    "id": "hvPw92WD2Vy9"
   },
   "source": [
    "## IMDB dataset\n",
    "\n",
    "이번에는 영화 리뷰 감정 분석을 위한 dataset인 IMDB를 불러옵니다.\n",
    "Huggingface에서 제공하는 `load_dataset` 함수를 사용하여 다음과 같이 불러올 수 있습니다."
   ]
  },
  {
   "cell_type": "code",
   "metadata": {
    "colab": {
     "base_uri": "https://localhost:8080/"
    },
    "executionInfo": {
     "elapsed": 6515,
     "status": "ok",
     "timestamp": 1724034334569,
     "user": {
      "displayName": "조승혁",
      "userId": "15759752471844115325"
     },
     "user_tz": -540
    },
    "id": "_b6MXMyX_5hb",
    "outputId": "23cb933e-0fc7-4465-e802-c6d3e44a7392",
    "ExecuteTime": {
     "end_time": "2025-04-04T09:44:05.765548Z",
     "start_time": "2025-04-04T09:43:56.241951Z"
    }
   },
   "source": [
    "ds = load_dataset(\"stanfordnlp/imdb\")\n",
    "ds"
   ],
   "outputs": [
    {
     "name": "stderr",
     "output_type": "stream",
     "text": [
      "C:\\Users\\rlgus\\AppData\\Roaming\\Python\\Python311\\site-packages\\huggingface_hub\\file_download.py:144: UserWarning: `huggingface_hub` cache-system uses symlinks by default to efficiently store duplicated files but your machine does not support them in C:\\Users\\rlgus\\.cache\\huggingface\\hub\\datasets--stanfordnlp--imdb. Caching files will still work but in a degraded version that might require more space on your disk. This warning can be disabled by setting the `HF_HUB_DISABLE_SYMLINKS_WARNING` environment variable. For more details, see https://huggingface.co/docs/huggingface_hub/how-to-cache#limitations.\n",
      "To support symlinks on Windows, you either need to activate Developer Mode or to run Python as an administrator. In order to activate developer mode, see this article: https://docs.microsoft.com/en-us/windows/apps/get-started/enable-your-device-for-development\n",
      "  warnings.warn(message)\n",
      "Generating train split: 100%|██████████| 25000/25000 [00:00<00:00, 574987.53 examples/s]\n",
      "Generating test split: 100%|██████████| 25000/25000 [00:00<00:00, 623922.12 examples/s]\n",
      "Generating unsupervised split: 100%|██████████| 50000/50000 [00:00<00:00, 708093.01 examples/s]\n"
     ]
    },
    {
     "data": {
      "text/plain": [
       "DatasetDict({\n",
       "    train: Dataset({\n",
       "        features: ['text', 'label'],\n",
       "        num_rows: 25000\n",
       "    })\n",
       "    test: Dataset({\n",
       "        features: ['text', 'label'],\n",
       "        num_rows: 25000\n",
       "    })\n",
       "    unsupervised: Dataset({\n",
       "        features: ['text', 'label'],\n",
       "        num_rows: 50000\n",
       "    })\n",
       "})"
      ]
     },
     "execution_count": 3,
     "metadata": {},
     "output_type": "execute_result"
    }
   ],
   "execution_count": 3
  },
  {
   "cell_type": "markdown",
   "metadata": {
    "id": "T9KZfSfA22jg"
   },
   "source": [
    "이외에도 다양한 dataset들을 다운받을 수 있습니다. 다음 링크에서 dataset 목록을 확인할 수 있습니다: https://huggingface.co/datasets.\n",
    "\n",
    "이번에는 data 형태를 확인하기 위해 train data의 첫 번째 data를 한 번 확인해봅시다."
   ]
  },
  {
   "cell_type": "code",
   "metadata": {
    "colab": {
     "base_uri": "https://localhost:8080/"
    },
    "executionInfo": {
     "elapsed": 18,
     "status": "ok",
     "timestamp": 1724034334569,
     "user": {
      "displayName": "조승혁",
      "userId": "15759752471844115325"
     },
     "user_tz": -540
    },
    "id": "yRU-oqJ_AO6C",
    "outputId": "2d17027b-b44a-4e6f-e308-0ccb00603b29",
    "ExecuteTime": {
     "end_time": "2025-04-04T09:44:22.018209Z",
     "start_time": "2025-04-04T09:44:22.012848Z"
    }
   },
   "source": [
    "ds['train'][0]"
   ],
   "outputs": [
    {
     "data": {
      "text/plain": [
       "{'text': 'I rented I AM CURIOUS-YELLOW from my video store because of all the controversy that surrounded it when it was first released in 1967. I also heard that at first it was seized by U.S. customs if it ever tried to enter this country, therefore being a fan of films considered \"controversial\" I really had to see this for myself.<br /><br />The plot is centered around a young Swedish drama student named Lena who wants to learn everything she can about life. In particular she wants to focus her attentions to making some sort of documentary on what the average Swede thought about certain political issues such as the Vietnam War and race issues in the United States. In between asking politicians and ordinary denizens of Stockholm about their opinions on politics, she has sex with her drama teacher, classmates, and married men.<br /><br />What kills me about I AM CURIOUS-YELLOW is that 40 years ago, this was considered pornographic. Really, the sex and nudity scenes are few and far between, even then it\\'s not shot like some cheaply made porno. While my countrymen mind find it shocking, in reality sex and nudity are a major staple in Swedish cinema. Even Ingmar Bergman, arguably their answer to good old boy John Ford, had sex scenes in his films.<br /><br />I do commend the filmmakers for the fact that any sex shown in the film is shown for artistic purposes rather than just to shock people and make money to be shown in pornographic theaters in America. I AM CURIOUS-YELLOW is a good film for anyone wanting to study the meat and potatoes (no pun intended) of Swedish cinema. But really, this film doesn\\'t have much of a plot.',\n",
       " 'label': 0}"
      ]
     },
     "execution_count": 4,
     "metadata": {},
     "output_type": "execute_result"
    }
   ],
   "execution_count": 4
  },
  {
   "cell_type": "markdown",
   "metadata": {
    "id": "7cWsV8W_3Nt9"
   },
   "source": [
    "보시다시피 각각의 data는 text와 긍정적인지 부정적인지 의미하는 label로 구성되어있습니다.\n",
    "여기서 label은 0 또는 1의 값을 가집니다."
   ]
  },
  {
   "cell_type": "markdown",
   "metadata": {
    "id": "NJeBOWwE2Z0p"
   },
   "source": [
    "## Tokenizer 제작\n",
    "\n",
    "이번에는 tokenizer를 huggingface library를 활용하여 직접 만들어 볼 것입니다.\n",
    "다음과 같이 필요한 library들을 import하고 tokenizer model을 만듭니다."
   ]
  },
  {
   "cell_type": "code",
   "metadata": {
    "id": "OxIEFi-vxrdR",
    "ExecuteTime": {
     "end_time": "2025-04-04T09:44:42.423672Z",
     "start_time": "2025-04-04T09:44:42.360028Z"
    }
   },
   "source": [
    "from tokenizers import (\n",
    "    decoders,\n",
    "    models,\n",
    "    normalizers,\n",
    "    pre_tokenizers,\n",
    "    processors,\n",
    "    trainers,\n",
    "    Tokenizer,\n",
    ")\n",
    "\n",
    "tokenizer = Tokenizer(models.WordPiece(unk_token=\"[UNK]\"))"
   ],
   "outputs": [],
   "execution_count": 5
  },
  {
   "cell_type": "markdown",
   "metadata": {
    "id": "tVKfSr8y3fvb"
   },
   "source": [
    "이번에는 WordPiece를 사용할 것 입니다.\n",
    "WordPiece 이외의 모델들도 많이 있습니다. 이전 챕터에서 배운 BPE 또한 지원을 하고 있습니다.\n",
    "지원하고 있는 tokenizer model들은 다음 링크에서 확인하실 수 있습니다:\n",
    "https://huggingface.co/docs/tokenizers/api/models.\n",
    "\n",
    "일반적으로 tokenizer는 text를 token들로 변환할 때 전부 소문자로 바꾼다든지 특수 문자를 지운다든지 등의 normalization 과정을 거칩니다.\n",
    "그리고 normalization을 거친 text를 어떻게 쪼갤 것인지 정의해줘야 합니다.\n",
    "각각에 대한 요소를 구현한 결과는 다음과 같습니다."
   ]
  },
  {
   "cell_type": "code",
   "metadata": {
    "id": "TkNINlgpxy5F",
    "ExecuteTime": {
     "end_time": "2025-04-04T09:44:45.615891Z",
     "start_time": "2025-04-04T09:44:45.612821Z"
    }
   },
   "source": [
    "tokenizer.normalizer = normalizers.BertNormalizer(lowercase=True)\n",
    "tokenizer.pre_tokenizer = pre_tokenizers.BertPreTokenizer()"
   ],
   "outputs": [],
   "execution_count": 6
  },
  {
   "cell_type": "markdown",
   "metadata": {
    "id": "ozEcAnux4kea"
   },
   "source": [
    "`BertNormalizer`는 소문자 변환이나 기타 무의미한 특수 문자들을 제거해줍니다.\n",
    "그리고 `BertPreTokenizer`는 BERT에서 사용하는 방식대로 text를 쪼갭니다. 자세한 설명은 뒤의 챕터에서 BERT를 설명할 때 해드리겠습니다.\n",
    "\n",
    "마지막으로 우리가 가지고 있는 데이터 `ds['train']`을 가지고 위에서 정의한 tokenizer의 사전을 학습합니다. 이를 구현한 것은 다음과 같습니다."
   ]
  },
  {
   "cell_type": "code",
   "metadata": {
    "executionInfo": {
     "elapsed": 20682,
     "status": "ok",
     "timestamp": 1724034355243,
     "user": {
      "displayName": "조승혁",
      "userId": "15759752471844115325"
     },
     "user_tz": -540
    },
    "id": "A2lBAjc04yMv",
    "outputId": "75d1a808-287e-4216-838d-20dfb44bc6a8",
    "ExecuteTime": {
     "end_time": "2025-04-04T09:44:50.415281Z",
     "start_time": "2025-04-04T09:44:48.871607Z"
    }
   },
   "source": [
    "def get_training_corpus():\n",
    "    for i in range(0, len(ds['train']), 1000):\n",
    "        yield ds['train'][i: i + 1000]['text']\n",
    "\n",
    "\n",
    "special_tokens = [\"[UNK]\", \"[PAD]\", \"[CLS]\", \"[SEP]\"]\n",
    "trainer = trainers.WordPieceTrainer(vocab_size=10000, special_tokens=special_tokens)\n",
    "tokenizer.train_from_iterator(get_training_corpus(), trainer=trainer)"
   ],
   "outputs": [],
   "execution_count": 7
  },
  {
   "cell_type": "markdown",
   "metadata": {
    "id": "AncCtNe65PxI"
   },
   "source": [
    "먼저 train data를 1000개씩 쪼개어 넘겨주는 `get_training_corpus` 함수를 선언합니다. 여기서 한 번에 넘기지 않고 쪼개어 넘겨주는 이유는 효율을 위한 것입니다. 그래서 1000 이외의 숫자를 쓰셔도 무방합니다.\n",
    "\n",
    "다음은 WordPiece model을 학습할 수 있는 trainer를 선언하고 `.train_from_iterator` 함수를 통해 tokenizer를 학습하는 모습입니다.\n",
    "학습한 결과는 다음과 같이 확인할 수 있습니다."
   ]
  },
  {
   "cell_type": "code",
   "metadata": {
    "colab": {
     "base_uri": "https://localhost:8080/"
    },
    "executionInfo": {
     "elapsed": 10,
     "status": "ok",
     "timestamp": 1724034355243,
     "user": {
      "displayName": "조승혁",
      "userId": "15759752471844115325"
     },
     "user_tz": -540
    },
    "id": "MnEFbmg-5rgL",
    "outputId": "2a0fb5b1-65a1-4df1-f11c-0d7f9fd66fbb",
    "ExecuteTime": {
     "end_time": "2025-04-04T09:44:57.606932Z",
     "start_time": "2025-04-04T09:44:57.603162Z"
    }
   },
   "source": [
    "tokenizer.encode(\"Hello, world!\")"
   ],
   "outputs": [
    {
     "data": {
      "text/plain": [
       "Encoding(num_tokens=4, attributes=[ids, type_ids, tokens, offsets, attention_mask, special_tokens_mask, overflowing])"
      ]
     },
     "execution_count": 8,
     "metadata": {},
     "output_type": "execute_result"
    }
   ],
   "execution_count": 8
  },
  {
   "cell_type": "markdown",
   "metadata": {
    "id": "QwmNL7_g54qW"
   },
   "source": [
    "마지막으로 tokenizer의 성능 향상을 위해 다음과 같이 `BertTokenizerFast`로 wrapping 해줍니다:"
   ]
  },
  {
   "cell_type": "code",
   "metadata": {
    "executionInfo": {
     "elapsed": 909,
     "status": "ok",
     "timestamp": 1724034356147,
     "user": {
      "displayName": "조승혁",
      "userId": "15759752471844115325"
     },
     "user_tz": -540
    },
    "id": "nGvo1o2U0CTd",
    "outputId": "7574ba0d-08bd-40d7-8d1d-9d46f2408080",
    "ExecuteTime": {
     "end_time": "2025-04-04T09:45:37.341942Z",
     "start_time": "2025-04-04T09:45:35.632782Z"
    }
   },
   "source": [
    "from transformers import BertTokenizerFast\n",
    "\n",
    "tokenizer = BertTokenizerFast(tokenizer_object=tokenizer)"
   ],
   "outputs": [],
   "execution_count": 10
  },
  {
   "cell_type": "markdown",
   "metadata": {
    "id": "wBwvs9UA5_nW"
   },
   "source": [
    "Wrapping한 tokenizer로 text list가 주어졌을 때 tokenizer하는 코드는 다음과 같이 구현할 수 있습니다."
   ]
  },
  {
   "cell_type": "code",
   "metadata": {
    "colab": {
     "base_uri": "https://localhost:8080/"
    },
    "executionInfo": {
     "elapsed": 27,
     "status": "ok",
     "timestamp": 1724034356148,
     "user": {
      "displayName": "조승혁",
      "userId": "15759752471844115325"
     },
     "user_tz": -540
    },
    "id": "CBL54JLkzFOE",
    "outputId": "54e33d82-42c5-4388-c50d-29c34748949c",
    "ExecuteTime": {
     "end_time": "2025-04-04T09:45:38.663616Z",
     "start_time": "2025-04-04T09:45:38.657114Z"
    }
   },
   "source": [
    "text_list = [\n",
    "    \"Hello, y'all!\",\n",
    "    \"How are you 😁 ?\",\n",
    "    \"I'm fine thank you and you?\"\n",
    "]\n",
    "\n",
    "tokens = tokenizer(text_list, padding=True)\n",
    "tokens.input_ids"
   ],
   "outputs": [
    {
     "data": {
      "text/plain": [
       "[[8694, 15, 66, 10, 269, 4, 1, 1, 1],\n",
       " [377, 248, 225, 0, 34, 1, 1, 1, 1],\n",
       " [50, 10, 54, 1561, 2409, 225, 164, 225, 34]]"
      ]
     },
     "execution_count": 11,
     "metadata": {},
     "output_type": "execute_result"
    }
   ],
   "execution_count": 11
  },
  {
   "cell_type": "markdown",
   "metadata": {
    "id": "Pepv32Zb6YnI"
   },
   "source": [
    "Tokenizer의 사전의 크기는 다음과 같이 접근할 수 있습니다."
   ]
  },
  {
   "cell_type": "code",
   "metadata": {
    "colab": {
     "base_uri": "https://localhost:8080/"
    },
    "executionInfo": {
     "elapsed": 22,
     "status": "ok",
     "timestamp": 1724034356148,
     "user": {
      "displayName": "조승혁",
      "userId": "15759752471844115325"
     },
     "user_tz": -540
    },
    "id": "5LH5jGgK0a3g",
    "outputId": "5cc7bc56-6c25-4dde-8682-359cba3869f2",
    "ExecuteTime": {
     "end_time": "2025-04-04T09:45:42.829785Z",
     "start_time": "2025-04-04T09:45:42.826500Z"
    }
   },
   "source": [
    "len(tokenizer)"
   ],
   "outputs": [
    {
     "data": {
      "text/plain": [
       "10001"
      ]
     },
     "execution_count": 12,
     "metadata": {},
     "output_type": "execute_result"
    }
   ],
   "execution_count": 12
  },
  {
   "cell_type": "markdown",
   "metadata": {
    "id": "919T7Rsh6cYt"
   },
   "source": [
    "마지막으로 tokenizer의 특수 token들과 그 index는 다음과 같이 접근할 수 있습니다."
   ]
  },
  {
   "cell_type": "code",
   "metadata": {
    "colab": {
     "base_uri": "https://localhost:8080/"
    },
    "executionInfo": {
     "elapsed": 10,
     "status": "ok",
     "timestamp": 1724034356148,
     "user": {
      "displayName": "조승혁",
      "userId": "15759752471844115325"
     },
     "user_tz": -540
    },
    "id": "z-OLE0zs6PJH",
    "outputId": "328568e1-0e68-4e9b-e534-568f1aea0ad9",
    "ExecuteTime": {
     "end_time": "2025-04-04T09:45:44.099866Z",
     "start_time": "2025-04-04T09:45:44.096866Z"
    }
   },
   "source": [
    "print(tokenizer.unk_token, tokenizer.unk_token_id)\n",
    "print(tokenizer.pad_token, tokenizer.pad_token_id)\n",
    "print(tokenizer.cls_token, tokenizer.cls_token_id)\n",
    "print(tokenizer.sep_token, tokenizer.sep_token_id)"
   ],
   "outputs": [
    {
     "name": "stdout",
     "output_type": "stream",
     "text": [
      "[UNK] 0\n",
      "[PAD] 1\n",
      "[CLS] 2\n",
      "[SEP] 3\n"
     ]
    }
   ],
   "execution_count": 13
  },
  {
   "cell_type": "markdown",
   "source": [
    "다음과 같이 tokenizer를 활용하여 data 별 token 개수의 분포를 확인할 수 있습니다."
   ],
   "metadata": {
    "id": "-4vBU7XU15p3"
   }
  },
  {
   "cell_type": "code",
   "metadata": {
    "colab": {
     "base_uri": "https://localhost:8080/",
     "height": 228
    },
    "executionInfo": {
     "elapsed": 25907,
     "status": "ok",
     "timestamp": 1724034382052,
     "user": {
      "displayName": "조승혁",
      "userId": "15759752471844115325"
     },
     "user_tz": -540
    },
    "id": "t2MtSoBLJB6c",
    "outputId": "146138b3-8d0a-4015-dfad-0d7ffc7d398b",
    "ExecuteTime": {
     "end_time": "2025-04-04T09:45:57.619393Z",
     "start_time": "2025-04-04T09:45:46.046692Z"
    }
   },
   "source": [
    "from matplotlib import pyplot as plt\n",
    "\n",
    "lengths = []\n",
    "for row in ds['train']:\n",
    "    ids = tokenizer(row['text']).input_ids\n",
    "    lengths.append(len(ids))\n",
    "\n",
    "plt.subplot(2, 2, 2)\n",
    "plt.hist(lengths, bins=50)\n",
    "plt.show()"
   ],
   "outputs": [
    {
     "data": {
      "text/plain": [
       "<Figure size 640x480 with 1 Axes>"
      ],
      "image/png": "[encoded data removed]"
     },
     "metadata": {},
     "output_type": "display_data"
    }
   ],
   "execution_count": 14
  },
  {
   "cell_type": "markdown",
   "source": [
    "Token 개수의 평균은 다음과 같습니다."
   ],
   "metadata": {
    "id": "kIMuF5_D1_eC"
   }
  },
  {
   "cell_type": "code",
   "metadata": {
    "colab": {
     "base_uri": "https://localhost:8080/"
    },
    "executionInfo": {
     "elapsed": 29,
     "status": "ok",
     "timestamp": 1724034382053,
     "user": {
      "displayName": "조승혁",
      "userId": "15759752471844115325"
     },
     "user_tz": -540
    },
    "id": "hgiiw0XaJvxk",
    "outputId": "a5868a8d-b0d1-45a0-fbfd-8e6b8e842ef0",
    "ExecuteTime": {
     "end_time": "2025-04-04T09:46:00.850716Z",
     "start_time": "2025-04-04T09:46:00.844459Z"
    }
   },
   "source": [
    "sum(lengths) / len(lengths)"
   ],
   "outputs": [
    {
     "data": {
      "text/plain": [
       "323.03248"
      ]
     },
     "execution_count": 15,
     "metadata": {},
     "output_type": "execute_result"
    }
   ],
   "execution_count": 15
  },
  {
   "cell_type": "markdown",
   "metadata": {
    "id": "9j5FkKBL2jA_"
   },
   "source": [
    "## Dataloader 만들기\n",
    "\n",
    "이번에는 주어진 dataset `ds['train'], ds['test']`를 가지고 dataloader를 구현할 것입니다.\n",
    "Text data와 같은 data는 각각의 입력이 가변적이기 때문에 dataloader를 구현하는 것이 까다로워집니다.\n",
    "이처럼 matrix로 예쁘게 모을 수 없는 경우를 처리하기 위해 dataloader는 `collate_fn`이라는 인자로 batch를 처리할 수 있는 함수를 직접 구현할 수 있는 옵션을 제공합니다. 여기서 batch는 입력들의 list를 의미합니다.\n",
    "\n",
    "입력들의 list가 주어졌을 때 text들은 tokenize와 padding을 동시에 진행하여 하나의 matrix로 만드는 것은 다음과 같이 구현할 수 있습니다."
   ]
  },
  {
   "cell_type": "code",
   "metadata": {
    "id": "B3YIWRrGNgjI",
    "ExecuteTime": {
     "end_time": "2025-04-04T09:46:26.820069Z",
     "start_time": "2025-04-04T09:46:26.816759Z"
    }
   },
   "source": [
    "from torch.utils.data import DataLoader\n",
    "\n",
    "\n",
    "def collate_fn(batch):\n",
    "    max_len = 400\n",
    "    texts, labels = [], []\n",
    "    for row in batch:\n",
    "        labels.append(row['label'])\n",
    "        texts.append(row['text'])\n",
    "\n",
    "    texts = torch.LongTensor(tokenizer(texts, padding=True, truncation=True, max_length=max_len).input_ids)\n",
    "    labels = torch.LongTensor(labels)\n",
    "\n",
    "    return texts, labels"
   ],
   "outputs": [],
   "execution_count": 16
  },
  {
   "cell_type": "markdown",
   "metadata": {
    "id": "cnl9tN3p7OVQ"
   },
   "source": [
    "`tokenizer`의 인자로 들어가는 `truncation`과 `max_length`는 길이가 max_length를 넘는 data들은 max_length에서 자르라는 옵션입니다. 나머지는 위에서 설명한 tokenizer를 활용하는 방법과 동일합니다. Dataloader에서 원하는 collate_fn의 형태가 무엇인지 아는 것이 중요합니다.\n",
    "이렇게 구현한 `collate_fn`을 가지고 dataloader를 구현한 것은 다음과 같습니다."
   ]
  },
  {
   "cell_type": "code",
   "metadata": {
    "id": "S8Iz3nkx6lI-",
    "ExecuteTime": {
     "end_time": "2025-04-04T09:46:35.850198Z",
     "start_time": "2025-04-04T09:46:35.847199Z"
    }
   },
   "source": [
    "train_loader = DataLoader(\n",
    "    ds['train'], batch_size=64, shuffle=True, collate_fn=collate_fn\n",
    ")\n",
    "test_loader = DataLoader(\n",
    "    ds['test'], batch_size=64, shuffle=False, collate_fn=collate_fn\n",
    ")"
   ],
   "outputs": [],
   "execution_count": 17
  },
  {
   "cell_type": "markdown",
   "metadata": {
    "id": "vb5zJAAB7e15"
   },
   "source": [
    "다른 부분들은 이전 실습과 동일합니다. 차이는 `collate_fn`을 인자로 넘겨주는 부분입니다.\n",
    "\n",
    "이렇게 만들어진 dataloader에서 첫 번째 batch를 출력한 결과는 다음과 같습니다."
   ]
  },
  {
   "cell_type": "code",
   "metadata": {
    "colab": {
     "base_uri": "https://localhost:8080/"
    },
    "executionInfo": {
     "elapsed": 19,
     "status": "ok",
     "timestamp": 1724034382053,
     "user": {
      "displayName": "조승혁",
      "userId": "15759752471844115325"
     },
     "user_tz": -540
    },
    "id": "4pb8ABt6OQ7t",
    "outputId": "a08af718-c4f6-4f4e-cd1f-660b98387c46",
    "ExecuteTime": {
     "end_time": "2025-04-04T09:46:38.477919Z",
     "start_time": "2025-04-04T09:46:38.463596Z"
    }
   },
   "source": [
    "text, label = next(iter(train_loader))\n",
    "print(text.shape, label.shape)"
   ],
   "outputs": [
    {
     "name": "stdout",
     "output_type": "stream",
     "text": [
      "torch.Size([64, 400]) torch.Size([64])\n"
     ]
    }
   ],
   "execution_count": 18
  },
  {
   "cell_type": "markdown",
   "metadata": {
    "id": "qGBvJpO17oKe"
   },
   "source": [
    "보시다시피 우리가 지정한 batch size로 잘 반환하는 것을 알 수 있습니다.\n",
    "여기서 text의 shape은 (B, S)의 형태인데, 이 S의 값은 batch 안에서 가장 긴 text로 결정되기 때문에 각각의 batch마다 값이 달라질 수 있다는 점 유의하시길 바랍니다."
   ]
  },
  {
   "cell_type": "markdown",
   "metadata": {
    "id": "4GToPIM_2l8p"
   },
   "source": [
    " ## RNN 구현\n",
    "\n",
    " 이번에는 본격적으로 주어진 token list가 긍정적인지 부정적인지를 출력해주는 model을 구현합니다.\n",
    " 이 model의 중요한 점은 세 가지입니다:\n",
    "\n",
    " 1. Token list를 `nn.Embedding`으로 전처리해줍니다.\n",
    " 2. `nn.RNN`으로 선언된 RNN을 통과시켜 representation을 얻습니다.\n",
    " 3. 주어진 token list의 마지막 token에 해당하는 representation을 얻어 `nn.Linear`를 통과시켜 출력을 구합니다.\n",
    "\n",
    "\n",
    "이를 구현한 것은 다음과 같습니다."
   ]
  },
  {
   "cell_type": "code",
   "metadata": {
    "id": "Upf_MXf1OUIg",
    "ExecuteTime": {
     "end_time": "2025-04-04T09:47:42.366254Z",
     "start_time": "2025-04-04T09:47:42.359609Z"
    }
   },
   "source": [
    "from torch import nn\n",
    "\n",
    "\n",
    "class TextClassifier(nn.Module):\n",
    "    def __init__(self, vocab_size, hidden_dim, n_layers):\n",
    "        super().__init__()\n",
    "\n",
    "        self.vocab_size = vocab_size\n",
    "        self.hidden_dim = hidden_dim\n",
    "        self.n_layers = n_layers\n",
    "\n",
    "        self.embedding = nn.Embedding(vocab_size, hidden_dim, padding_idx=tokenizer.pad_token_id)\n",
    "        self.rnn = nn.RNN(hidden_dim, hidden_dim, num_layers=n_layers, nonlinearity='relu', batch_first=True)\n",
    "        self.classifier = nn.Linear(hidden_dim, 1)\n",
    "\n",
    "    def forward(self, x_org):\n",
    "        x = self.embedding(x_org)\n",
    "        x, _ = self.rnn(x)\n",
    "\n",
    "        lengths = (x_org != tokenizer.pad_token_id).sum(dim=-1) - 1\n",
    "        lengths = lengths[:, None, None].repeat(1, 1, self.hidden_dim)\n",
    "\n",
    "        x = x.gather(1, lengths)\n",
    "        x = x[:, 0]\n",
    "\n",
    "        x = self.classifier(x)\n",
    "        return x\n",
    "\n",
    "\n",
    "model = TextClassifier(len(tokenizer), 32, 2)"
   ],
   "outputs": [],
   "execution_count": 19
  },
  {
   "cell_type": "markdown",
   "metadata": {
    "id": "yR2P53tl8dDH"
   },
   "source": [
    "위의 두 줄은 dataloader로 부터 들고온 token list의 batch를 embedding하고 RNN을 태운 결과입니다.\n",
    "RNN은 입력이 (B, S, *)이면 output도 (B, S, *)이 됩니다.\n",
    "각각의 token에 대한 출력 결과를 기본적으로 반환합니다.\n",
    "여기서 중요한 것은 짧은 token list들은 뒷 부분이 padding token으로 채워져 있기 때문에 padding token이 등장하기 전 마지막 token의 출력 결과를 활용하여 text 분류를 진행해야 한다는 점입니다.\n",
    "즉, token list의 진짜 마지막 token에 해당하는 RNN output을 사용해야 합니다.\n",
    "이를 구현한 것이 `forward` 함수의 중간 부분입니다.\n",
    "먼저 batch의 각 입력의 마지막 token의 위치를 길이로 계산하여 얻습니다. 그리고 이를 `.gather`를 활용하여 들고옵니다.\n",
    "마지막으로 `x[:, 0]`를 호출하여 squeeze를 진행합니다.\n",
    "\n",
    "다음은 위에서 확인한 dataloader 첫 batch를 입력으로 넣었을 때, 출력의 shape입니다."
   ]
  },
  {
   "cell_type": "code",
   "metadata": {
    "colab": {
     "base_uri": "https://localhost:8080/"
    },
    "executionInfo": {
     "elapsed": 11,
     "status": "ok",
     "timestamp": 1724034382053,
     "user": {
      "displayName": "조승혁",
      "userId": "15759752471844115325"
     },
     "user_tz": -540
    },
    "id": "_I3016jsJoeq",
    "outputId": "1299015b-5363-4d8d-fb28-75bd2ceabe59",
    "ExecuteTime": {
     "end_time": "2025-04-04T09:47:49.005599Z",
     "start_time": "2025-04-04T09:47:48.985110Z"
    }
   },
   "source": [
    "model(text).shape"
   ],
   "outputs": [
    {
     "data": {
      "text/plain": [
       "torch.Size([64, 1])"
      ]
     },
     "execution_count": 20,
     "metadata": {},
     "output_type": "execute_result"
    }
   ],
   "execution_count": 20
  },
  {
   "cell_type": "markdown",
   "metadata": {
    "id": "BtAZhl6z2oUl"
   },
   "source": [
    "## 학습\n",
    "\n",
    "마지막으로 구현한 RNN을 가지고 학습하는 코드를 구현합니다. 학습 코드는 이전 MNIST 실습과 완전히 동일하기 때문에 설명없이 결과만 확인해보도록 하겠습니다."
   ]
  },
  {
   "cell_type": "code",
   "metadata": {
    "executionInfo": {
     "elapsed": 676,
     "status": "ok",
     "timestamp": 1724034382723,
     "user": {
      "displayName": "조승혁",
      "userId": "15759752471844115325"
     },
     "user_tz": -540
    },
    "id": "YHVVsWBPQmnv",
    "outputId": "390560b9-4b74-4dc6-accd-ed73ea68fa70",
    "ExecuteTime": {
     "end_time": "2025-04-04T09:47:55.387023Z",
     "start_time": "2025-04-04T09:47:51.336490Z"
    }
   },
   "source": [
    "from torch.optim import Adam\n",
    "\n",
    "lr = 0.001\n",
    "model = model.to('cuda')\n",
    "# loss_fn = nn.CrossEntropyLoss()\n",
    "loss_fn = nn.BCEWithLogitsLoss()\n",
    "\n",
    "optimizer = Adam(model.parameters(), lr=lr)"
   ],
   "outputs": [],
   "execution_count": 21
  },
  {
   "cell_type": "code",
   "metadata": {
    "id": "HSSDAv8lRV5z",
    "ExecuteTime": {
     "end_time": "2025-04-04T09:47:59.430909Z",
     "start_time": "2025-04-04T09:47:59.427667Z"
    }
   },
   "source": [
    "import numpy as np\n",
    "import matplotlib.pyplot as plt\n",
    "\n",
    "\n",
    "def accuracy(model, dataloader):\n",
    "    cnt = 0\n",
    "    acc = 0\n",
    "\n",
    "    for data in dataloader:\n",
    "        inputs, labels = data\n",
    "        inputs, labels = inputs.to('cuda'), labels.to('cuda')\n",
    "\n",
    "        preds = model(inputs)\n",
    "        # preds = torch.argmax(preds, dim=-1)\n",
    "        preds = (preds > 0).long()[..., 0]\n",
    "\n",
    "        cnt += labels.shape[0]\n",
    "        acc += (labels == preds).sum().item()\n",
    "\n",
    "    return acc / cnt"
   ],
   "outputs": [],
   "execution_count": 22
  },
  {
   "cell_type": "code",
   "metadata": {
    "colab": {
     "base_uri": "https://localhost:8080/"
    },
    "id": "al_b56TYRILq",
    "outputId": "2c7ee484-6425-486f-e11e-e80498488451",
    "ExecuteTime": {
     "end_time": "2025-04-04T09:56:22.794871Z",
     "start_time": "2025-04-04T09:48:04.610785Z"
    }
   },
   "source": [
    "n_epochs = 50\n",
    "\n",
    "for epoch in range(n_epochs):\n",
    "    total_loss = 0.\n",
    "    model.train()  # 모델을 학습 모드로 설정\n",
    "    for data in train_loader:\n",
    "        model.zero_grad()\n",
    "        inputs, labels = data\n",
    "        inputs, labels = inputs.to('cuda'), labels.to('cuda').float()\n",
    "\n",
    "        preds = model(inputs)[..., 0]\n",
    "        loss = loss_fn(preds, labels)\n",
    "        loss.backward() # 역전파\n",
    "        optimizer.step()\n",
    "\n",
    "        total_loss += loss.item()\n",
    "\n",
    "    print(f\"Epoch {epoch:3d} | Train Loss: {total_loss}\")\n",
    "\n",
    "    with torch.no_grad():  # 기울기 계산을 비활성화해서 메모리 사용을 줄이고 연산 속도를 높임.\n",
    "        model.eval()  # 모델을 평가 모드로 설정\n",
    "        train_acc = accuracy(model, train_loader)\n",
    "        test_acc = accuracy(model, test_loader)\n",
    "        print(f\"=========> Train acc: {train_acc:.3f} | Test acc: {test_acc:.3f}\")"
   ],
   "outputs": [
    {
     "name": "stdout",
     "output_type": "stream",
     "text": [
      "Epoch   0 | Train Loss: 269.04829454421997\n",
      "=========> Train acc: 0.580 | Test acc: 0.556\n",
      "Epoch   1 | Train Loss: 255.13785415887833\n",
      "=========> Train acc: 0.709 | Test acc: 0.676\n",
      "Epoch   2 | Train Loss: 232.19603180885315\n",
      "=========> Train acc: 0.728 | Test acc: 0.684\n",
      "Epoch   3 | Train Loss: 230.04442247748375\n",
      "=========> Train acc: 0.759 | Test acc: 0.708\n",
      "Epoch   4 | Train Loss: 207.7567858994007\n",
      "=========> Train acc: 0.767 | Test acc: 0.729\n",
      "Epoch   5 | Train Loss: 203.81463387608528\n",
      "=========> Train acc: 0.767 | Test acc: 0.700\n",
      "Epoch   6 | Train Loss: 202.09636679291725\n",
      "=========> Train acc: 0.732 | Test acc: 0.667\n",
      "Epoch   7 | Train Loss: 184.74447122216225\n",
      "=========> Train acc: 0.806 | Test acc: 0.773\n",
      "Epoch   8 | Train Loss: 178.26086556911469\n",
      "=========> Train acc: 0.810 | Test acc: 0.733\n",
      "Epoch   9 | Train Loss: 187.5592381954193\n",
      "=========> Train acc: 0.796 | Test acc: 0.711\n",
      "Epoch  10 | Train Loss: 176.0193133354187\n",
      "=========> Train acc: 0.775 | Test acc: 0.684\n",
      "Epoch  11 | Train Loss: 167.07929062843323\n",
      "=========> Train acc: 0.845 | Test acc: 0.767\n",
      "Epoch  12 | Train Loss: 153.7377486228943\n",
      "=========> Train acc: 0.782 | Test acc: 0.687\n",
      "Epoch  13 | Train Loss: 137.31129796802998\n",
      "=========> Train acc: 0.882 | Test acc: 0.801\n",
      "Epoch  14 | Train Loss: 116.92925888299942\n",
      "=========> Train acc: 0.876 | Test acc: 0.799\n",
      "Epoch  15 | Train Loss: 167.54053326696157\n",
      "=========> Train acc: 0.833 | Test acc: 0.720\n",
      "Epoch  16 | Train Loss: 136618.85728293657\n",
      "=========> Train acc: 0.689 | Test acc: 0.619\n",
      "Epoch  17 | Train Loss: 219.10237780213356\n",
      "=========> Train acc: 0.713 | Test acc: 0.631\n",
      "Epoch  18 | Train Loss: 210.08811044692993\n",
      "=========> Train acc: 0.731 | Test acc: 0.639\n",
      "Epoch  19 | Train Loss: 202.66426774859428\n",
      "=========> Train acc: 0.745 | Test acc: 0.645\n",
      "Epoch  20 | Train Loss: 196.65978693962097\n",
      "=========> Train acc: 0.758 | Test acc: 0.650\n",
      "Epoch  21 | Train Loss: 191.22186535596848\n",
      "=========> Train acc: 0.769 | Test acc: 0.655\n",
      "Epoch  22 | Train Loss: 185.8381530046463\n",
      "=========> Train acc: 0.781 | Test acc: 0.663\n",
      "Epoch  23 | Train Loss: 178.35815730690956\n",
      "=========> Train acc: 0.814 | Test acc: 0.690\n",
      "Epoch  24 | Train Loss: 147.24134230613708\n",
      "=========> Train acc: 0.856 | Test acc: 0.746\n",
      "Epoch  25 | Train Loss: 135.38294331729412\n",
      "=========> Train acc: 0.871 | Test acc: 0.748\n",
      "Epoch  26 | Train Loss: 124.5630646198988\n",
      "=========> Train acc: 0.882 | Test acc: 0.760\n",
      "Epoch  27 | Train Loss: 119.49730880558491\n",
      "=========> Train acc: 0.889 | Test acc: 0.761\n",
      "Epoch  28 | Train Loss: 111.41872020065784\n",
      "=========> Train acc: 0.896 | Test acc: 0.766\n",
      "Epoch  29 | Train Loss: 107.98871167749166\n",
      "=========> Train acc: 0.903 | Test acc: 0.768\n",
      "Epoch  30 | Train Loss: 102.71930409222841\n",
      "=========> Train acc: 0.905 | Test acc: 0.768\n",
      "Epoch  31 | Train Loss: 96.41074236482382\n",
      "=========> Train acc: 0.915 | Test acc: 0.772\n",
      "Epoch  32 | Train Loss: 92.65756808966398\n",
      "=========> Train acc: 0.920 | Test acc: 0.768\n",
      "Epoch  33 | Train Loss: 88.62524427473545\n",
      "=========> Train acc: 0.922 | Test acc: 0.775\n",
      "Epoch  34 | Train Loss: 90.55387750267982\n",
      "=========> Train acc: 0.925 | Test acc: 0.770\n",
      "Epoch  35 | Train Loss: 96.76987097412348\n",
      "=========> Train acc: 0.929 | Test acc: 0.770\n",
      "Epoch  36 | Train Loss: 106.44845121353865\n",
      "=========> Train acc: 0.932 | Test acc: 0.774\n",
      "Epoch  37 | Train Loss: 78.50595987588167\n",
      "=========> Train acc: 0.936 | Test acc: 0.771\n",
      "Epoch  38 | Train Loss: 86.38614804297686\n",
      "=========> Train acc: 0.929 | Test acc: 0.757\n",
      "Epoch  39 | Train Loss: 80.06868762522936\n",
      "=========> Train acc: 0.941 | Test acc: 0.771\n",
      "Epoch  40 | Train Loss: 70.37915397435427\n",
      "=========> Train acc: 0.946 | Test acc: 0.773\n",
      "Epoch  41 | Train Loss: 67.87551233544946\n",
      "=========> Train acc: 0.946 | Test acc: 0.768\n",
      "Epoch  42 | Train Loss: 65.43605656549335\n",
      "=========> Train acc: 0.950 | Test acc: 0.778\n",
      "Epoch  43 | Train Loss: 65.7017818018794\n",
      "=========> Train acc: 0.951 | Test acc: 0.773\n",
      "Epoch  44 | Train Loss: 61.85474196076393\n",
      "=========> Train acc: 0.955 | Test acc: 0.775\n",
      "Epoch  45 | Train Loss: 59.34999665617943\n",
      "=========> Train acc: 0.956 | Test acc: 0.777\n",
      "Epoch  46 | Train Loss: 64.06966575607657\n",
      "=========> Train acc: 0.958 | Test acc: 0.768\n",
      "Epoch  47 | Train Loss: 72.24394364096224\n",
      "=========> Train acc: 0.951 | Test acc: 0.770\n",
      "Epoch  48 | Train Loss: 55.38333974033594\n",
      "=========> Train acc: 0.961 | Test acc: 0.772\n",
      "Epoch  49 | Train Loss: 53.74137134477496\n",
      "=========> Train acc: 0.963 | Test acc: 0.774\n"
     ]
    }
   ],
   "execution_count": 23
  },
  {
   "cell_type": "markdown",
   "metadata": {
    "id": "nK-0-TMS9xde"
   },
   "source": [
    "불안정한 부분들이 있지만, 잘 수렴하는 것을 확인할 수 있습니다. 이전 챕터에서 배운 LSTM이나 GRU는 PyTorch에서 `nn.LSTM`과 `nn.GRU`로 잘 구현되어있습니다. `nn.RNN`의 인자들을 그대로 활용할 수 있기 때문에 코드상에서 대체하여 바로 사용할 수 있습니다."
   ]
  },
  {
   "cell_type": "code",
   "execution_count": null,
   "metadata": {
    "id": "K9H-KxcGQ8iK"
   },
   "outputs": [],
   "source": []
  }
 ],
 "metadata": {
  "accelerator": "GPU",
  "colab": {
   "gpuType": "T4",
   "provenance": []
  },
  "kernelspec": {
   "display_name": "Python 3 (ipykernel)",
   "language": "python",
   "name": "python3"
  },
  "language_info": {
   "codemirror_mode": {
    "name": "ipython",
    "version": 3
   },
   "file_extension": ".py",
   "mimetype": "text/x-python",
   "name": "python",
   "nbconvert_exporter": "python",
   "pygments_lexer": "ipython3",
   "version": "3.10.14"
  }
 },
 "nbformat": 4,
 "nbformat_minor": 0
}
