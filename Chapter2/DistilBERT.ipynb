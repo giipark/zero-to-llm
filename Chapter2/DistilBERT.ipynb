{
  "cells": [
    {
      "cell_type": "markdown",
      "source": [
        "# DistilBERT fine-tuning으로 감정 분석 모델 학습하기\n",
        "\n",
        "이번 실습에서는 pre-trained된 DistilBERT를 불러와 이전 주차 실습에서 사용하던 감정 분석 문제에 적용합니다. 먼저 필요한 library들을 불러옵니다."
      ],
      "metadata": {
        "id": "sbgz49PvHhLt"
      }
    },
    {
      "cell_type": "code",
      "metadata": {
        "colab": {
          "base_uri": "https://localhost:8080/"
        },
        "id": "1LqgujQUbv6X",
        "outputId": "ed6e62c9-a3a3-48be-dce5-6bac80be706c",
        "collapsed": true,
        "ExecuteTime": {
          "end_time": "2025-04-15T18:17:50.696501Z",
          "start_time": "2025-04-15T18:17:44.844014Z"
        }
      },
      "source": [
        "!pip install tqdm boto3 requests regex sentencepiece sacremoses datasets"
      ],
      "outputs": [
        {
          "name": "stdout",
          "output_type": "stream",
          "text": [
            "Defaulting to user installation because normal site-packages is not writeable\n",
            "Requirement already satisfied: tqdm in c:\\users\\rlgus\\appdata\\roaming\\python\\python311\\site-packages (4.67.1)\n",
            "Collecting boto3\n",
            "  Downloading boto3-1.37.34-py3-none-any.whl (139 kB)\n",
            "     ---------------------------------------- 139.9/139.9 kB ? eta 0:00:00\n",
            "Requirement already satisfied: requests in c:\\users\\rlgus\\appdata\\roaming\\python\\python311\\site-packages (2.32.3)\n",
            "Requirement already satisfied: regex in c:\\users\\rlgus\\appdata\\roaming\\python\\python311\\site-packages (2024.11.6)\n",
            "Requirement already satisfied: sentencepiece in c:\\users\\rlgus\\appdata\\roaming\\python\\python311\\site-packages (0.2.0)\n",
            "Requirement already satisfied: sacremoses in c:\\users\\rlgus\\appdata\\roaming\\python\\python311\\site-packages (0.1.1)\n",
            "Requirement already satisfied: datasets in c:\\users\\rlgus\\appdata\\roaming\\python\\python311\\site-packages (3.5.0)\n",
            "Requirement already satisfied: colorama in c:\\users\\rlgus\\appdata\\roaming\\python\\python311\\site-packages (from tqdm) (0.4.6)\n",
            "Collecting botocore<1.38.0,>=1.37.34\n",
            "  Downloading botocore-1.37.34-py3-none-any.whl (13.5 MB)\n",
            "     --------------------------------------- 13.5/13.5 MB 50.4 MB/s eta 0:00:00\n",
            "Collecting jmespath<2.0.0,>=0.7.1\n",
            "  Downloading jmespath-1.0.1-py3-none-any.whl (20 kB)\n",
            "Collecting s3transfer<0.12.0,>=0.11.0\n",
            "  Downloading s3transfer-0.11.4-py3-none-any.whl (84 kB)\n",
            "     ---------------------------------------- 84.4/84.4 kB 4.9 MB/s eta 0:00:00\n",
            "Requirement already satisfied: charset-normalizer<4,>=2 in c:\\users\\rlgus\\appdata\\roaming\\python\\python311\\site-packages (from requests) (3.4.1)\n",
            "Requirement already satisfied: idna<4,>=2.5 in c:\\users\\rlgus\\appdata\\roaming\\python\\python311\\site-packages (from requests) (3.10)\n",
            "Requirement already satisfied: urllib3<3,>=1.21.1 in c:\\users\\rlgus\\appdata\\roaming\\python\\python311\\site-packages (from requests) (2.3.0)\n",
            "Requirement already satisfied: certifi>=2017.4.17 in c:\\users\\rlgus\\appdata\\roaming\\python\\python311\\site-packages (from requests) (2025.1.31)\n",
            "Requirement already satisfied: click in c:\\users\\rlgus\\appdata\\roaming\\python\\python311\\site-packages (from sacremoses) (8.1.8)\n",
            "Requirement already satisfied: joblib in c:\\users\\rlgus\\appdata\\roaming\\python\\python311\\site-packages (from sacremoses) (1.4.2)\n",
            "Requirement already satisfied: filelock in c:\\users\\rlgus\\appdata\\roaming\\python\\python311\\site-packages (from datasets) (3.18.0)\n",
            "Requirement already satisfied: numpy>=1.17 in c:\\users\\rlgus\\appdata\\roaming\\python\\python311\\site-packages (from datasets) (2.2.4)\n",
            "Requirement already satisfied: pyarrow>=15.0.0 in c:\\users\\rlgus\\appdata\\roaming\\python\\python311\\site-packages (from datasets) (19.0.1)\n",
            "Requirement already satisfied: dill<0.3.9,>=0.3.0 in c:\\users\\rlgus\\appdata\\roaming\\python\\python311\\site-packages (from datasets) (0.3.8)\n",
            "Requirement already satisfied: pandas in c:\\users\\rlgus\\appdata\\roaming\\python\\python311\\site-packages (from datasets) (2.2.3)\n",
            "Requirement already satisfied: xxhash in c:\\users\\rlgus\\appdata\\roaming\\python\\python311\\site-packages (from datasets) (3.5.0)\n",
            "Requirement already satisfied: multiprocess<0.70.17 in c:\\users\\rlgus\\appdata\\roaming\\python\\python311\\site-packages (from datasets) (0.70.16)\n",
            "Requirement already satisfied: fsspec[http]<=2024.12.0,>=2023.1.0 in c:\\users\\rlgus\\appdata\\roaming\\python\\python311\\site-packages (from datasets) (2024.12.0)\n",
            "Requirement already satisfied: aiohttp in c:\\users\\rlgus\\appdata\\roaming\\python\\python311\\site-packages (from datasets) (3.11.16)\n",
            "Requirement already satisfied: huggingface-hub>=0.24.0 in c:\\users\\rlgus\\appdata\\roaming\\python\\python311\\site-packages (from datasets) (0.30.1)\n",
            "Requirement already satisfied: packaging in c:\\users\\rlgus\\appdata\\roaming\\python\\python311\\site-packages (from datasets) (24.2)\n",
            "Requirement already satisfied: pyyaml>=5.1 in c:\\users\\rlgus\\appdata\\roaming\\python\\python311\\site-packages (from datasets) (6.0.2)\n",
            "Requirement already satisfied: python-dateutil<3.0.0,>=2.1 in c:\\users\\rlgus\\appdata\\roaming\\python\\python311\\site-packages (from botocore<1.38.0,>=1.37.34->boto3) (2.9.0.post0)\n",
            "Requirement already satisfied: aiohappyeyeballs>=2.3.0 in c:\\users\\rlgus\\appdata\\roaming\\python\\python311\\site-packages (from aiohttp->datasets) (2.6.1)\n",
            "Requirement already satisfied: aiosignal>=1.1.2 in c:\\users\\rlgus\\appdata\\roaming\\python\\python311\\site-packages (from aiohttp->datasets) (1.3.2)\n",
            "Requirement already satisfied: attrs>=17.3.0 in c:\\users\\rlgus\\appdata\\roaming\\python\\python311\\site-packages (from aiohttp->datasets) (25.3.0)\n",
            "Requirement already satisfied: frozenlist>=1.1.1 in c:\\users\\rlgus\\appdata\\roaming\\python\\python311\\site-packages (from aiohttp->datasets) (1.5.0)\n",
            "Requirement already satisfied: multidict<7.0,>=4.5 in c:\\users\\rlgus\\appdata\\roaming\\python\\python311\\site-packages (from aiohttp->datasets) (6.3.2)\n",
            "Requirement already satisfied: propcache>=0.2.0 in c:\\users\\rlgus\\appdata\\roaming\\python\\python311\\site-packages (from aiohttp->datasets) (0.3.1)\n",
            "Requirement already satisfied: yarl<2.0,>=1.17.0 in c:\\users\\rlgus\\appdata\\roaming\\python\\python311\\site-packages (from aiohttp->datasets) (1.18.3)\n",
            "Requirement already satisfied: typing-extensions>=3.7.4.3 in c:\\users\\rlgus\\appdata\\roaming\\python\\python311\\site-packages (from huggingface-hub>=0.24.0->datasets) (4.13.0)\n",
            "Requirement already satisfied: pytz>=2020.1 in c:\\users\\rlgus\\appdata\\roaming\\python\\python311\\site-packages (from pandas->datasets) (2025.2)\n",
            "Requirement already satisfied: tzdata>=2022.7 in c:\\users\\rlgus\\appdata\\roaming\\python\\python311\\site-packages (from pandas->datasets) (2025.2)\n",
            "Requirement already satisfied: six>=1.5 in c:\\users\\rlgus\\appdata\\roaming\\python\\python311\\site-packages (from python-dateutil<3.0.0,>=2.1->botocore<1.38.0,>=1.37.34->boto3) (1.17.0)\n",
            "Installing collected packages: jmespath, botocore, s3transfer, boto3\n",
            "Successfully installed boto3-1.37.34 botocore-1.37.34 jmespath-1.0.1 s3transfer-0.11.4\n"
          ]
        },
        {
          "name": "stderr",
          "output_type": "stream",
          "text": [
            "\n",
            "[notice] A new release of pip available: 22.3.1 -> 25.0.1\n",
            "[notice] To update, run: python.exe -m pip install --upgrade pip\n"
          ]
        }
      ],
      "execution_count": 1
    },
    {
      "cell_type": "markdown",
      "source": [
        "그 후, 우리가 사용하는 DistilBERT pre-training 때 사용한 tokenizer를 불러옵니다."
      ],
      "metadata": {
        "id": "6YP3FxG9IF7O"
      }
    },
    {
      "cell_type": "code",
      "metadata": {
        "colab": {
          "base_uri": "https://localhost:8080/",
          "height": 308,
          "referenced_widgets": [
            "2733d8b46cf740038122c33ce3b34624",
            "0c86975074f549458f7866684794f75d",
            "ba44b4a0d3274795b8709a740926f7ce",
            "bd15d1af512b4fefaaf63c5fe345272f",
            "63f72ab3150e49cabe34a0c0c6acb06e",
            "54ff6651b8d4452cab79a78f35c76476",
            "e8442c7d752d46b087548ba5ecf18e94",
            "e6338e1407a1450dbbe0618584251008",
            "12086b6e9292461cbe9e5b7f117ae60f",
            "96e562c1b52f4580bd07e601c95b836f",
            "859e66d7069a4cbda2066af02a217aea",
            "f6690801945641528c251d4644b93dd2",
            "7cccf8c4adc54ff6a07944b8951d049a",
            "4fddf66e3b334ccab021c663342b8eb1",
            "3754441121dc4636a59ce43f505d479d",
            "990e92483b8844028f4673531f0d0ca7",
            "224731885aee40c6a9ea4e403bcd76ed",
            "eec52b72113644bcae16128375f1e791",
            "188c7bfcdd1d42baa922b4d6ce0e35ac",
            "83329c6c8dbe4cbf844bc8e8f6f73901",
            "e391cb9e68094ab282a19da6419fc30d",
            "4fd1ed8123d44bfa8583258037fbd438",
            "16e3b5ad591a4839bc44f8f57075a66e",
            "76d3584208f540ed9ddad8f37e1a7ca9",
            "bcbd69c9398e4fafa4f04fc98dd8c9e1",
            "fa83346546294e12b266f367d29fa013",
            "34ef0e04dbfb41da8040d6f3b519eca2",
            "9e1a25905b4a4a8d8e53b7ea66d955ba",
            "4831c6a0e5da462cbb4fd774eeaf6771",
            "6ce3258b7af54a8f99c1254f7c35a7c8",
            "7060a81d05f14184b1d4ad85f6d65f78",
            "3420966778e74887a31d81ee4beb17d1",
            "2a9866c086fb4fdc800797b311af946f",
            "a626029c14c347c7b4b7da5301cdb47f",
            "74f6a0d88274467ab7b1e3138e15b985",
            "269565d1ba7d4885bcb22886fd2e508c",
            "29dcb1bc83254bdcb199dbaabd3be4a7",
            "2df8261e958c4003b480878c56d950cc",
            "4718dc3fa804411a86c915bc03ac0860",
            "94f60b674c02473e9518d5c718bd5852",
            "fbf089c1ca394a0dba7a658a18a6f2e1",
            "05662f137d5b40ddb349e31aed80338f",
            "0f6ba2c15d564ffcaee51a34e98520da",
            "867ac01076db45028d8757497ed6741f"
          ]
        },
        "id": "6lGiZUoPby6e",
        "outputId": "986e32f2-206a-413b-c3fd-13d526491d8a",
        "ExecuteTime": {
          "end_time": "2025-04-15T18:59:46.719162Z",
          "start_time": "2025-04-15T18:59:42.043543Z"
        }
      },
      "source": [
        "import torch\n",
        "from datasets import load_dataset\n",
        "from torch.utils.data import DataLoader\n",
        "\n",
        "# DistilBERT 모델용 tokenizer 로드 (pretrained)\n",
        "# 이 tokenizer는 문장을 토큰화해서 모델이 이해할 수 있는 input_ids로 변환해줌\n",
        "tokenizer = torch.hub.load('huggingface/pytorch-transformers', 'tokenizer', 'distilbert-base-uncased')"
      ],
      "outputs": [
        {
          "name": "stderr",
          "output_type": "stream",
          "text": [
            "C:\\Users\\rlgus\\AppData\\Roaming\\Python\\Python311\\site-packages\\tqdm\\auto.py:21: TqdmWarning: IProgress not found. Please update jupyter and ipywidgets. See https://ipywidgets.readthedocs.io/en/stable/user_install.html\n",
            "  from .autonotebook import tqdm as notebook_tqdm\n",
            "Using cache found in C:\\Users\\rlgus/.cache\\torch\\hub\\huggingface_pytorch-transformers_main\n"
          ]
        }
      ],
      "execution_count": 1
    },
    {
      "cell_type": "markdown",
      "source": [
        "DistilBERT의 tokenizer를 불러왔으면 이제 `collate_fn`과 data loader를 정의합니다. 이 과정은 이전 실습과 동일하게 다음과 같이 구현할 수 있습니다."
      ],
      "metadata": {
        "id": "Cvfl_uFLIMWO"
      }
    },
    {
      "cell_type": "code",
      "source": [
        "# IMDB 감정 분석 데이터셋의 5%만 로드 (학습 데이터와 테스트 데이터 각각)\n",
        "train_ds = load_dataset(\"stanfordnlp/imdb\", split=\"train[:5%]\")\n",
        "test_ds = load_dataset(\"stanfordnlp/imdb\", split=\"test[:5%]\")\n",
        "\n",
        "\n",
        "# 데이터를 배치로 묶기 위한 함수 정의\n",
        "def collate_fn(batch):\n",
        "    max_len = 400  # 입력 문장의 최대 길이 설정\n",
        "    texts, labels = [], []  # 입력 문장들과 라벨들을 저장할 리스트\n",
        "\n",
        "    # 배치 내 각 샘플에 대해 text와 label 추출\n",
        "    for row in batch:\n",
        "        labels.append(row['label'])\n",
        "        texts.append(row['text'])\n",
        "\n",
        "    # tokenizer로 텍스트를 토큰화하고, 최대 길이로 패딩 및 자르기\n",
        "    # tokenizer는 사전에 정의되어 있어야 함 (예: tokenizer = AutoTokenizer.from_pretrained(...))\n",
        "    texts = torch.LongTensor(\n",
        "        tokenizer(texts, padding=True, truncation=True, max_length=max_len).input_ids\n",
        "    )\n",
        "\n",
        "    # 라벨 리스트를 LongTensor로 변환\n",
        "    labels = torch.LongTensor(labels)\n",
        "\n",
        "    # 모델 학습에 필요한 입력 (토큰화된 문장들)과 정답 라벨 반환\n",
        "    return texts, labels\n",
        "\n",
        "\n",
        "# 학습용 DataLoader 정의 (shuffle=True로 배치 순서 랜덤화)\n",
        "train_loader = DataLoader(\n",
        "    train_ds, batch_size=64, shuffle=True, collate_fn=collate_fn\n",
        ")\n",
        "\n",
        "# 테스트용 DataLoader 정의 (shuffle=False로 배치 순서 고정)\n",
        "test_loader = DataLoader(\n",
        "    test_ds, batch_size=64, shuffle=False, collate_fn=collate_fn\n",
        ")"
      ],
      "metadata": {
        "id": "rE-y8sY9HuwP",
        "colab": {
          "base_uri": "https://localhost:8080/",
          "height": 241,
          "referenced_widgets": [
            "f3c64bc3666145e6976db0d62765daf1",
            "97aae33a82c54dddb4eb123af989d911",
            "08ca056b6f8e4ab6948945e08e281088",
            "32b40a27a2f4486bb09fbf77c10c6d1d",
            "a1a034be010a4c4eb44e7752f1a43bed",
            "288a4871149d44c892dbb3b8514ee8f7",
            "cee4cf5246a4445ba3539d2b23db95d4",
            "d155f367e9b14d2b9204772c8fc09582",
            "4c1e0ce027e54be68d366b79b2b3c127",
            "f75e62bc331c4de987344866e450c79e",
            "ae9bbcee50f64bfe970d952bb004e57e",
            "27c09ca6d50e47b3b268c5df83b86b0d",
            "50327c1399b14d669faffd5e880da60c",
            "f0d7d2ab32e24e01a377481ad12538c9",
            "49108d0d2731431eb20bfc304db5f0db",
            "315f364c0ed545e19b5584f4b009cad3",
            "506f656a99c045d29a13d055a2943212",
            "71b47894341b4811bbf33ea9f677f560",
            "29a432d0381a4c68a3e3038d5f2db6c5",
            "6a31a1ab39c34b3a8e081040f198284a",
            "4a0c8be47fef4c25b45088bed6ca0c00",
            "f30b12aed3784764822927c4deb24794",
            "b9c0de55ffa840798447b9afc35f348a",
            "54bd0eea32ca4305bab176efd5a0949d",
            "ee8c598613b0447c9a89816eeb924f55",
            "8a136f2b1e934568a6089d83168d842a",
            "b5942b577c3c40609e5017da7c62ca5e",
            "fd5b11f1f3a24e5e9cee215d534dc77a",
            "aa95c2f3d5dd438aa43afb8d280f4e9d",
            "83517e8cd1cf4628931c1b0e8132ccb1",
            "ce5230453d8b408b81521c550514ec27",
            "71d6279b786146c98ed0ab3ecb04f358",
            "47e3e55c8ec547b2bedd30cd2ca4f899",
            "f659989964de4a738d439a7ab887386e",
            "f05cfa8a420e4baebe4323b19e30a3ae",
            "57e48c2909fe4c05b629e078dd647a7c",
            "93a0768579c3425b9e4617e3b8dfd808",
            "378d3f05b8f54811962c283990094422",
            "46851605fa4a418da43115890c1d4780",
            "6d5de7b87191496aa4b974f2e9028324",
            "a00d36edb1cd48d9a331f6861f0e9ff4",
            "1d9ca3cedc9e4f88899f8e1e424f916a",
            "1c1b825ebd764854ad34b194db719d22",
            "ab5e43f497bc4ebca5f7acb345513d1e",
            "fa46b5d89dd9489a854a2335b0a936e1",
            "a7fa012542d7433bbc6ababe2dc4579f",
            "c38eb0d7e30d4fc3bdbc96000d7ac823",
            "6b704f9d79434811ba871f665183797a",
            "74bc7d2276e84546863fa911706ee2c3",
            "8c353e9640a0454399be68192a5e5eff",
            "27a6ce3323fa4c70904de4206cbc1b41",
            "f2e5a963c098400d96eb1b1ee98990ad",
            "56213d7aa0314203804eda2fd71aa2a1",
            "311e9b7fa20e42f5b892e3825a4eb1ce",
            "70ee9950dc714b0dac55ffb8dadba4ed",
            "f3cc1107287347948dc63e6d4a88a5df",
            "15f32a7619a846a3a810b29e1bb10f8d",
            "9b5df20c73814b9a85756fc4b601ec32",
            "fde9f0aea8ea4e62a2942c33b589cb9b",
            "e32cbe0d0d5f43b9ac890dac7be91924",
            "787f095a5c9c4580ae22fb3eb1aefbb6",
            "96355a8679774b43adbcc75bbd65330a",
            "54e9b7d14aba401f816ae3ac5b42b94c",
            "99f98da451d14d3c9b9a485beb3f4aa6",
            "6e4ddd250faf43c896a90af6c239cac8",
            "02239bc9db88414b85f7ed122403acba",
            "9e24258337304405a40476fc0e32ebbb",
            "3108fb0c59c142b8a1e47a49f3e24690",
            "a8fe339a1f7d4671bfd86842753b2f65",
            "1f49a21e9f5248e582467b30c262354a",
            "8b48ce3ac24545caab626468b12a5e19",
            "489f4dcaca3c4f41856687bb46226cdf",
            "93f0f6740df74927a6a36d8c10da3473",
            "5e12f4e0c76f42098282eadff750eabf",
            "ccb0ce1342b241cc9303fddd393efbd0",
            "0ee8f2ff9ffe4fdab12264f1d2bcae29",
            "9612d7be93b14084a5390222d5fd2ea6"
          ]
        },
        "outputId": "61af698c-fb91-42b9-9bfc-afbb85a77ece",
        "ExecuteTime": {
          "end_time": "2025-04-15T18:59:58.262749Z",
          "start_time": "2025-04-15T18:59:47.698056Z"
        }
      },
      "outputs": [],
      "execution_count": 2
    },
    {
      "cell_type": "markdown",
      "source": [
        "이제 pre-trained DistilBERT를 불러옵니다. 이번에는 PyTorch hub에서 제공하는 DistilBERT를 불러봅시다."
      ],
      "metadata": {
        "id": "bF34XkoYIeEm"
      }
    },
    {
      "cell_type": "code",
      "metadata": {
        "colab": {
          "base_uri": "https://localhost:8080/",
          "height": 585,
          "referenced_widgets": [
            "7c5157ae5d374b53b86549e0b5d2b7fd",
            "ebc7a2ef2dc54a0dbbc953a3e9ae0b2a",
            "25ea627c042047b4b8ebf7303c109658",
            "d457f8a801a24ba28b65ed8c16aec0b7",
            "b4d6977bc5d047e6a76e04e3e5d4645e",
            "9f643a223cb940e0bcc691778c125023",
            "27b8fd6c77d74c108a76ebba5544f39d",
            "1da8f8ace9034c6f90687850f08234da",
            "1069762390904750925fca6d902ada1e",
            "a64a839ed4cd46099c3f670d2b7107d6",
            "b9be76ecb6b04e5084abe699a3f15929"
          ]
        },
        "id": "HJaUp2Vob0U-",
        "outputId": "f56be9d4-4e15-4acd-a05f-aae2e207cff4",
        "ExecuteTime": {
          "end_time": "2025-04-15T19:00:01.133659Z",
          "start_time": "2025-04-15T18:59:59.666341Z"
        }
      },
      "source": [
        "#DistilBERT 모델을 PyTorch Hub에서 로드 후 model 출력\n",
        "model = torch.hub.load('huggingface/pytorch-transformers', 'model', 'distilbert-base-uncased')\n",
        "model"
      ],
      "outputs": [
        {
          "name": "stderr",
          "output_type": "stream",
          "text": [
            "Using cache found in C:\\Users\\rlgus/.cache\\torch\\hub\\huggingface_pytorch-transformers_main\n"
          ]
        },
        {
          "data": {
            "text/plain": [
              "DistilBertModel(\n",
              "  (embeddings): Embeddings(\n",
              "    (word_embeddings): Embedding(30522, 768, padding_idx=0)\n",
              "    (position_embeddings): Embedding(512, 768)\n",
              "    (LayerNorm): LayerNorm((768,), eps=1e-12, elementwise_affine=True)\n",
              "    (dropout): Dropout(p=0.1, inplace=False)\n",
              "  )\n",
              "  (transformer): Transformer(\n",
              "    (layer): ModuleList(\n",
              "      (0-5): 6 x TransformerBlock(\n",
              "        (attention): DistilBertSdpaAttention(\n",
              "          (dropout): Dropout(p=0.1, inplace=False)\n",
              "          (q_lin): Linear(in_features=768, out_features=768, bias=True)\n",
              "          (k_lin): Linear(in_features=768, out_features=768, bias=True)\n",
              "          (v_lin): Linear(in_features=768, out_features=768, bias=True)\n",
              "          (out_lin): Linear(in_features=768, out_features=768, bias=True)\n",
              "        )\n",
              "        (sa_layer_norm): LayerNorm((768,), eps=1e-12, elementwise_affine=True)\n",
              "        (ffn): FFN(\n",
              "          (dropout): Dropout(p=0.1, inplace=False)\n",
              "          (lin1): Linear(in_features=768, out_features=3072, bias=True)\n",
              "          (lin2): Linear(in_features=3072, out_features=768, bias=True)\n",
              "          (activation): GELUActivation()\n",
              "        )\n",
              "        (output_layer_norm): LayerNorm((768,), eps=1e-12, elementwise_affine=True)\n",
              "      )\n",
              "    )\n",
              "  )\n",
              ")"
            ]
          },
          "execution_count": 3,
          "metadata": {},
          "output_type": "execute_result"
        }
      ],
      "execution_count": 3
    },
    {
      "cell_type": "markdown",
      "source": [
        "출력 결과를 통해 우리는 DistilBERT의 architecture는 일반적인 Transformer와 동일한 것을 알 수 있습니다.\n",
        "Embedding layer로 시작해서 여러 layer의 Attention, FFN를 거칩니다.\n",
        "\n",
        "이제 DistilBERT를 거치고 난 `[CLS]` token의 representation을 가지고 text 분류를 하는 모델을 구현합시다."
      ],
      "metadata": {
        "id": "uh-tqY8WInQt"
      }
    },
    {
      "cell_type": "code",
      "metadata": {
        "colab": {
          "base_uri": "https://localhost:8080/"
        },
        "id": "xW7ETZQzzNp2",
        "outputId": "6f7fb562-a638-4a7e-84e8-7a238fb5b84d",
        "ExecuteTime": {
          "end_time": "2025-04-15T19:00:04.529277Z",
          "start_time": "2025-04-15T19:00:03.997822Z"
        }
      },
      "source": [
        "from torch import nn\n",
        "\n",
        "\n",
        "# 텍스트 분류 모델 정의 (DistilBERT + Linear layer)\n",
        "class TextClassifier(nn.Module):\n",
        "    def __init__(self):\n",
        "        super().__init__()\n",
        "\n",
        "        # 사전학습된 DistilBERT 모델을 encoder로 불러옴 (pretrained transformer)\n",
        "        self.encoder = torch.hub.load('huggingface/pytorch-transformers', 'model', 'distilbert-base-uncased')\n",
        "\n",
        "        # [CLS] 토큰 분류기 정의\n",
        "        self.classifier = nn.Linear(768, 1)\n",
        "\n",
        "    def forward(self, x):\n",
        "        # encoder에 input_ids 전달\n",
        "        x = self.encoder(x)['last_hidden_state']\n",
        "\n",
        "        # [CLS] 토큰 위치 벡터를 classification head에 전달\n",
        "        x = self.classifier(x[:, 0])\n",
        "\n",
        "        return x  # logit 출력\n",
        "\n",
        "\n",
        "model = TextClassifier()"
      ],
      "outputs": [
        {
          "name": "stderr",
          "output_type": "stream",
          "text": [
            "Using cache found in C:\\Users\\rlgus/.cache\\torch\\hub\\huggingface_pytorch-transformers_main\n"
          ]
        }
      ],
      "execution_count": 4
    },
    {
      "cell_type": "markdown",
      "source": [
        "위와 같이 `TextClassifier`의 `encoder`를 불러온 DistilBERT, 그리고 `classifier`를 linear layer로 설정합니다.\n",
        "그리고 `forward` 함수에서 순차적으로 사용하여 예측 결과를 반환합니다.\n",
        "\n",
        "다음은 마지막 classifier layer를 제외한 나머지 부분을 freeze하는 코드를 구현합니다."
      ],
      "metadata": {
        "id": "_hFvSis0JLju"
      }
    },
    {
      "cell_type": "code",
      "metadata": {
        "id": "uyTciaPZ0KYo",
        "ExecuteTime": {
          "end_time": "2025-04-15T19:00:06.125678Z",
          "start_time": "2025-04-15T19:00:06.122334Z"
        }
      },
      "source": [
        "for param in model.encoder.parameters():\n",
        "    param.requires_grad = False"
      ],
      "outputs": [],
      "execution_count": 5
    },
    {
      "cell_type": "markdown",
      "source": [
        "위의 코드는 `encoder`에 해당하는 parameter들의 `requires_grad`를 `False`로 설정하는 모습입니다.\n",
        "`requires_grad`를 `False`로 두는 경우, gradient 계산 및 업데이트가 이루어지지 않아 결과적으로 학습이 되지 않습니다.\n",
        "즉, 마지막 `classifier`에 해당하는 linear layer만 학습이 이루어집니다.\n",
        "이런 식으로 특정 부분들을 freeze하게 되면 효율적으로 학습을 할 수 있습니다.\n",
        "\n",
        "마지막으로 이전과 같은 코드를 사용하여 학습 결과를 확인해봅시다."
      ],
      "metadata": {
        "id": "hU7BWEbgJeKm"
      }
    },
    {
      "metadata": {
        "ExecuteTime": {
          "end_time": "2025-04-15T19:00:07.474466Z",
          "start_time": "2025-04-15T19:00:07.469994Z"
        }
      },
      "cell_type": "code",
      "source": [
        "def accuracy(model, dataloader):\n",
        "    cnt = 0  # 전체 샘플 수\n",
        "    acc = 0  # 정답 개수 누적\n",
        "\n",
        "    for data in dataloader:\n",
        "        inputs, labels = data\n",
        "        inputs, labels = inputs.to('cuda'), labels.to('cuda')\n",
        "\n",
        "        preds = model(inputs)  # 로짓(logit) 출력\n",
        "\n",
        "        # 시그모이드는 생략 가능 (BCEWithLogitsLoss를 썼다면 threshold만 적용)\n",
        "        # preds = torch.argmax(preds, dim=-1)\n",
        "        preds = (preds > 0).long()[..., 0]\n",
        "\n",
        "        cnt += labels.shape[0]  # 총 샘플 수 누적\n",
        "        acc += (labels == preds).sum().item()  # 예측이 맞은 수 누적\n",
        "\n",
        "    return acc / cnt  # 정확도 반환"
      ],
      "outputs": [],
      "execution_count": 6
    },
    {
      "cell_type": "code",
      "metadata": {
        "colab": {
          "base_uri": "https://localhost:8080/"
        },
        "id": "XvvaAEwCznt-",
        "outputId": "0c6daa2d-1a4a-44d3-90b0-a1bdc813c755",
        "ExecuteTime": {
          "end_time": "2025-04-15T19:00:59.680180Z",
          "start_time": "2025-04-15T19:00:08.731455Z"
        }
      },
      "source": [
        "from torch.optim import Adam\n",
        "import numpy as np\n",
        "import matplotlib.pyplot as plt\n",
        "\n",
        "# 학습 설정\n",
        "lr = 0.001\n",
        "model = model.to('cuda')  # 모델을 GPU로 이동\n",
        "loss_fn = nn.BCEWithLogitsLoss()  # 이진 분류용 손실 함수\n",
        "\n",
        "optimizer = Adam(model.parameters(), lr=lr)\n",
        "n_epochs = 5\n",
        "\n",
        "# 정확도 및 손실 추적을 위한 리스트\n",
        "train_losses = []\n",
        "train_accs = []\n",
        "test_accs = []\n",
        "\n",
        "# 학습 루프\n",
        "for epoch in range(n_epochs):\n",
        "    total_loss = 0.\n",
        "    model.train()  # 학습 모드 설정\n",
        "\n",
        "    for data in train_loader:\n",
        "        model.zero_grad()  # 이전 gradient 초기화\n",
        "\n",
        "        inputs, labels = data\n",
        "        inputs, labels = inputs.to('cuda'), labels.to('cuda').float()  # GPU 이동 및 float 변환\n",
        "\n",
        "        preds = model(inputs)[..., 0]  # 출력 차원 맞추기 (batch_size,)\n",
        "\n",
        "        loss = loss_fn(preds, labels)  # 손실 계산\n",
        "        loss.backward()  # 역전파\n",
        "        optimizer.step()  # 파라미터 업데이트\n",
        "\n",
        "        total_loss += loss.item()  # loss 누적\n",
        "\n",
        "    train_losses.append(total_loss)\n",
        "    print(f\"Epoch {epoch:3d} | Train Loss: {total_loss}\")\n",
        "\n",
        "    # 평가 시 gradient 계산 비활성화\n",
        "    with torch.no_grad():\n",
        "        model.eval()  # 평가 모드로 전환 (계산 비활성화)\n",
        "        train_acc = accuracy(model, train_loader)\n",
        "        train_accs.append(train_acc)\n",
        "\n",
        "        test_acc = accuracy(model, test_loader)\n",
        "        test_accs.append(test_acc)\n",
        "\n",
        "        print(f\"=========> Train acc: {train_acc:.3f} | Test acc: {test_acc:.3f}\")"
      ],
      "outputs": [
        {
          "name": "stderr",
          "output_type": "stream",
          "text": [
            "We strongly recommend passing in an `attention_mask` since your input_ids may be padded. See https://huggingface.co/docs/transformers/troubleshooting#incorrect-output-when-padding-tokens-arent-masked.\n"
          ]
        },
        {
          "name": "stdout",
          "output_type": "stream",
          "text": [
            "Epoch   0 | Train Loss: 5.37998665869236\n",
            "=========> Train acc: 1.000 | Test acc: 1.000\n",
            "Epoch   1 | Train Loss: 0.755624333396554\n",
            "=========> Train acc: 1.000 | Test acc: 1.000\n",
            "Epoch   2 | Train Loss: 0.33039866108447313\n",
            "=========> Train acc: 1.000 | Test acc: 1.000\n",
            "Epoch   3 | Train Loss: 0.22262925002723932\n",
            "=========> Train acc: 1.000 | Test acc: 1.000\n",
            "Epoch   4 | Train Loss: 0.17024813126772642\n",
            "=========> Train acc: 1.000 | Test acc: 1.000\n"
          ]
        }
      ],
      "execution_count": 7
    },
    {
      "cell_type": "code",
      "source": [
        "# 손실 시각화\n",
        "import matplotlib.pyplot as plt\n",
        "\n",
        "plt.figure(figsize=(12, 6))\n",
        "\n",
        "# 첫 번째 그래프: Train Loss\n",
        "plt.subplot(1, 2, 1)\n",
        "plt.plot(train_losses, label='Train Loss', marker='o', color='b')\n",
        "plt.title('Train Loss over Epochs')\n",
        "plt.xlabel('Epochs')\n",
        "plt.ylabel('Loss')\n",
        "plt.legend(loc='upper right')\n",
        "plt.grid(True)\n",
        "\n",
        "# 두 번째 그래프: Test Loss\n",
        "plt.subplot(1, 2, 2)\n",
        "plt.plot(train_accs, label='Test Loss', marker='x', color='b')\n",
        "plt.plot(test_accs, label='Test Loss', marker='x', color='r')\n",
        "plt.title('Train & Test Accuracy over Epochs')\n",
        "plt.xlabel('Epochs')\n",
        "plt.ylabel('Accuracy')\n",
        "plt.legend(loc='upper right')\n",
        "plt.grid(True)\n",
        "\n",
        "plt.tight_layout()\n",
        "plt.show()\n"
      ],
      "metadata": {
        "id": "Foks5u95ZQ1_",
        "ExecuteTime": {
          "end_time": "2025-04-15T19:01:03.187988Z",
          "start_time": "2025-04-15T19:01:03.030693Z"
        }
      },
      "outputs": [
        {
          "data": {
            "text/plain": [
              "<Figure size 1200x600 with 2 Axes>"
            ],
            "image/png": "[encoded data removed]"
          },
          "metadata": {},
          "output_type": "display_data"
        }
      ],
      "execution_count": 8
    }
  ],
  "metadata": {
    "accelerator": "GPU",
    "colab": {
      "gpuType": "T4",
      "provenance": []
    },
    "kernelspec": {
      "display_name": "Python 3 (ipykernel)",
      "name": "python3",
      "language": "python"
    },
    "language_info": {
      "name": "python"
    }
  },
  "nbformat": 4,
  "nbformat_minor": 0
}