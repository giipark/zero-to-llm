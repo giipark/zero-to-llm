{
 "nbformat": 4,
 "nbformat_minor": 0,
 "metadata": {
  "colab": {
   "provenance": [],
   "gpuType": "T4",
   "authorship_tag": "ABX9TyOz7vBAsZ4WYLph4xp9q2ee"
  },
  "kernelspec": {
   "name": "python3",
   "display_name": "Python 3 (ipykernel)",
   "language": "python"
  },
  "language_info": {
   "name": "python"
  },
  "accelerator": "GPU"
 },
 "cells": [
  {
   "cell_type": "markdown",
   "source": [
    "# MNIST 실습\n",
    "\n",
    "이번에는 28x28 흑백 손글씨 이미지를 보고 0~9 사이의 숫자 중 어떤 숫자를 쓴 것인지 예측하는 문제를 실습합니다.\n",
    "이번 실습에서는 GPU를 활용할 것이기 때문에, 이전 챕터에서 Colab에서 GPU를 설정하는 방법을 따라해주시길 바랍니다.\n",
    "\n",
    "GPU를 설정했으면 library들을 import합니다."
   ],
   "metadata": {
    "id": "OPJenlrhihrh"
   }
  },
  {
   "cell_type": "code",
   "metadata": {
    "id": "6lXVfXoDtoQh",
    "executionInfo": {
     "status": "ok",
     "timestamp": 1724212693193,
     "user_tz": -540,
     "elapsed": 6315,
     "user": {
      "displayName": "조승혁",
      "userId": "15759752471844115325"
     }
    },
    "ExecuteTime": {
     "end_time": "2025-03-27T22:54:39.921561Z",
     "start_time": "2025-03-27T22:54:37.917300Z"
    }
   },
   "source": [
    "import torch\n",
    "import torchvision\n",
    "import torchvision.transforms as transforms"
   ],
   "outputs": [],
   "execution_count": 2
  },
  {
   "cell_type": "markdown",
   "source": [
    "다음은 dataset을 준비합니다. 손글씨 dataset은 MNIST라는 유명한 dataset이 있습니다. 이 dataset은 `torchvision`에서 제공하고 있으며, 다음과 같이 다운로드 받을 수 있습니다."
   ],
   "metadata": {
    "id": "pF-1zQvmiult"
   }
  },
  {
   "cell_type": "code",
   "source": [
    "transform = transforms.ToTensor()\n",
    "\n",
    "trainset = torchvision.datasets.MNIST(\n",
    "    root='./data',\n",
    "    train=True,\n",
    "    download=True,\n",
    "    transform=transform\n",
    ")"
   ],
   "metadata": {
    "id": "KAYlqPaRt6ti",
    "colab": {
     "base_uri": "https://localhost:8080/"
    },
    "executionInfo": {
     "status": "ok",
     "timestamp": 1724212718261,
     "user_tz": -540,
     "elapsed": 22007,
     "user": {
      "displayName": "조승혁",
      "userId": "15759752471844115325"
     }
    },
    "outputId": "67e51d96-85b4-4129-efc8-7938006afdd4",
    "ExecuteTime": {
     "end_time": "2025-03-27T22:54:41.017962Z",
     "start_time": "2025-03-27T22:54:40.983537Z"
    }
   },
   "outputs": [],
   "execution_count": 3
  },
  {
   "cell_type": "markdown",
   "source": [
    "MNIST는 손글씨 사진과 어떤 숫자를 의미하는지에 대한 label의 pair들로 구성되어있습니다.\n",
    "이 때, 우리는 PyTorch model을 사용할 것이기 때문에 손글씨 사진들을 모두 tensor로 변환해야합니다.\n",
    "이러한 부가적인 변환들은 `torchvision.transforms`에서 제공하고 있으며, `torchvision.datasets.MNIST`에서 `transform` 인자로 받을 수 있습니다.\n",
    "우리는 단순히 사진을 tensor로 바꾸고 싶기 때문에 `transforms.ToTensor()` transformation을 넘겨줍니다.\n",
    "\n",
    "다음은 전체 data의 개수와 첫 번째 data를 출력한 결과입니다."
   ],
   "metadata": {
    "id": "p-GqH7_ZjVMs"
   }
  },
  {
   "cell_type": "code",
   "source": [
    "from matplotlib import pyplot as plt\n",
    "\n",
    "print(len(trainset))\n",
    "print(trainset[0][0].shape, trainset[0][1])\n",
    "plt.imshow(trainset[0][0][0], cmap='gray')"
   ],
   "metadata": {
    "colab": {
     "base_uri": "https://localhost:8080/",
     "height": 481
    },
    "id": "Zsp3sHmojyhT",
    "executionInfo": {
     "status": "ok",
     "timestamp": 1724212727291,
     "user_tz": -540,
     "elapsed": 601,
     "user": {
      "displayName": "조승혁",
      "userId": "15759752471844115325"
     }
    },
    "outputId": "3511bb75-e677-4fb8-894b-69e22c80f4bc",
    "ExecuteTime": {
     "end_time": "2025-03-27T22:54:42.666767Z",
     "start_time": "2025-03-27T22:54:42.597825Z"
    }
   },
   "outputs": [
    {
     "name": "stdout",
     "output_type": "stream",
     "text": [
      "60000\n",
      "torch.Size([1, 28, 28]) 5\n"
     ]
    },
    {
     "data": {
      "text/plain": [
       "<matplotlib.image.AxesImage at 0x1dcc6b00b50>"
      ]
     },
     "execution_count": 4,
     "metadata": {},
     "output_type": "execute_result"
    },
    {
     "data": {
      "text/plain": [
       "<Figure size 640x480 with 1 Axes>"
      ],
      "image/png": "[encoded data removed]"
     },
     "metadata": {},
     "output_type": "display_data"
    }
   ],
   "execution_count": 4
  },
  {
   "cell_type": "markdown",
   "source": [
    "첫 번째 출력결과를 통해 우리는 6만장의 손글씨 data가 있는 것을 알 수 있습니다.\n",
    "그리고 두 번째 출력결과를 통해 첫 번째 data의 shape은 (1, 28, 28)이고 5라는 숫자를 쓴 사진이라는 것을 알 수 있습니다.\n",
    "마지막으로 `plt.imshow`를 통해 visualize 했을 때 5라는 숫자가 나오는 것을 알 수 있습니다.\n",
    "\n",
    "다음은 SGD를 위해 dataset을 여러 개의 batch로 나누는 과정을 PyTorch로 구현한 모습입니다."
   ],
   "metadata": {
    "id": "udm8wDBsi301"
   }
  },
  {
   "cell_type": "code",
   "source": [
    "batch_size = 64\n",
    "\n",
    "trainloader = torch.utils.data.DataLoader(\n",
    "    trainset,\n",
    "    batch_size=batch_size,\n",
    "    shuffle=True\n",
    ")"
   ],
   "metadata": {
    "id": "UxKu3kA2i5WH",
    "ExecuteTime": {
     "end_time": "2025-03-27T22:54:44.458984Z",
     "start_time": "2025-03-27T22:54:44.455984Z"
    }
   },
   "outputs": [],
   "execution_count": 5
  },
  {
   "cell_type": "markdown",
   "source": [
    "PyTorch에서는 `DataLoader`가 dataset을 인자로 받아 batch로 나눠줍니다.\n",
    "부가적으로 `batch_size`라는 인자를 통해 batch size를 받고 있으며, `shuffle`이라는 인자를 통해 data들을 섞을지 결정해줍니다.\n",
    "우리는 SGD가 완전 랜덤으로 batch를 구성해야 잘 동작하는 것을 알고 있기 때문에 `shuffle`에 `True`를 넘겨주고 있습니다.\n",
    "\n",
    "다음은 첫 번째 batch를 출력한 모습입니다."
   ],
   "metadata": {
    "id": "z4Qyrm4WlzWt"
   }
  },
  {
   "cell_type": "code",
   "source": [
    "dataiter = iter(trainloader)\n",
    "images, labels = next(dataiter)\n",
    "print(images.shape, labels.shape)"
   ],
   "metadata": {
    "colab": {
     "base_uri": "https://localhost:8080/"
    },
    "id": "_Hd7XxyAvVNz",
    "executionInfo": {
     "status": "ok",
     "timestamp": 1723366306519,
     "user_tz": -540,
     "elapsed": 33,
     "user": {
      "displayName": "조승혁",
      "userId": "15759752471844115325"
     }
    },
    "outputId": "185acb61-2ed7-4110-b325-c0e016ca60b0",
    "ExecuteTime": {
     "end_time": "2025-03-27T22:54:45.846442Z",
     "start_time": "2025-03-27T22:54:45.839316Z"
    }
   },
   "outputs": [
    {
     "name": "stdout",
     "output_type": "stream",
     "text": [
      "torch.Size([64, 1, 28, 28]) torch.Size([64])\n"
     ]
    }
   ],
   "execution_count": 6
  },
  {
   "cell_type": "markdown",
   "source": [
    "`images`는 첫 번째 batch의 image들이고 `labels`는 첫 번째 batch의 label들입니다.\n",
    "위에서 batch size를 64로 설정했기 때문에 총 64개의 image와 label들이 있어야 합니다.\n",
    "실제 shape 출력 결과를 보면 그렇다는 것을 알 수 있습니다.\n",
    "\n",
    "다음은 (n, 1, 28, 28) shape의 image를 입력받아 0~9 사이의 정수 하나를 출력하는 3-layer MLP를 구현합니다."
   ],
   "metadata": {
    "id": "h0ZY5mDimRUK"
   }
  },
  {
   "cell_type": "code",
   "source": [
    "from torch import nn\n",
    "\n",
    "\n",
    "class Model(nn.Module):\n",
    "    def __init__(self, input_dim, n_dim):\n",
    "        super().__init__()\n",
    "\n",
    "        self.layer1 = nn.Linear(input_dim, n_dim)\n",
    "        self.layer2 = nn.Linear(n_dim, n_dim)\n",
    "        self.layer3 = nn.Linear(n_dim, 1)\n",
    "\n",
    "        self.act = nn.ReLU()\n",
    "\n",
    "    def forward(self, x):\n",
    "        x = torch.flatten(x, start_dim=1)\n",
    "        x = self.act(self.layer1(x))\n",
    "        x = self.act(self.layer2(x))\n",
    "        x = self.act(self.layer3(x))\n",
    "\n",
    "        return x\n",
    "\n",
    "\n",
    "model = Model(28 * 28 * 1, 1024)"
   ],
   "metadata": {
    "id": "OLOA-ZGTuVVG",
    "ExecuteTime": {
     "end_time": "2025-03-27T22:54:48.842262Z",
     "start_time": "2025-03-27T22:54:48.832236Z"
    }
   },
   "outputs": [],
   "execution_count": 8
  },
  {
   "cell_type": "markdown",
   "source": [
    "이전의 2-layer MLP와 유사한 형태임을 알 수 있습니다.\n",
    "여기서 특이사항은 `forward`의 첫 번째 줄에 `torch.flatten`을 사용한다는 것입니다.\n",
    "`Linear`는 이전에도 봤다시피 (n, d) 형태의 shape을 입력받습니다.\n",
    "이미지는 (n, 1, 28, 28)이기 때문에 (n, 1 * 28 * 28)로 shape을 변환해야 선형 함수에 입력으로 주어줄 수 있게 됩니다.\n",
    "이 역할을 수행하는 것이 바로 `torch.flatten`입니다.\n",
    "우리는 첫 번째 shape인 n을 보존할 것이기 때문에 flatten할 차원은 `start_dim=1`로 넘겨주게 됩니다.\n",
    "\n",
    "다음은 gradient descent를 수행해줄 optimizer를 구현하는 모습입니다."
   ],
   "metadata": {
    "id": "tag1rNcwmnAr"
   }
  },
  {
   "cell_type": "code",
   "source": [
    "from torch.optim import SGD\n",
    "\n",
    "lr = 0.001\n",
    "model = model.to('cuda')\n",
    "\n",
    "optimizer = SGD(model.parameters(), lr=lr)"
   ],
   "metadata": {
    "id": "ypS0TcOlvBhZ",
    "ExecuteTime": {
     "end_time": "2025-03-27T22:54:50.721673Z",
     "start_time": "2025-03-27T22:54:50.625349Z"
    }
   },
   "outputs": [],
   "execution_count": 9
  },
  {
   "cell_type": "markdown",
   "source": [
    "이전 코드와 거의 똑같습니다. 다른 점은 `model.to('cuda')` 코드를 통해 우리가 구현한 model을 GPU로 옮긴 것입니다.\n",
    "MNIST 부터는 모델과 data가 커지면서 훨씬 많은 행렬 연산이 이루어지기 때문에 GPU를 활용하는 것이 빠릅니다.\n",
    "\n",
    "다음은 model을 MNIST에 학습하는 코드입니다."
   ],
   "metadata": {
    "id": "5PooeOKMnRfZ"
   }
  },
  {
   "cell_type": "code",
   "source": [
    "n_epochs = 100\n",
    "losses = []\n",
    "\n",
    "for epoch in range(n_epochs):\n",
    "    total_loss = 0.\n",
    "    for data in trainloader:\n",
    "        model.zero_grad()\n",
    "        inputs, labels = data\n",
    "        inputs, labels = inputs.to('cuda'), labels.to('cuda')\n",
    "\n",
    "        preds = model(inputs)\n",
    "        loss = (preds[:, 0] - labels).pow(2).mean()\n",
    "        loss.backward()\n",
    "        optimizer.step()\n",
    "\n",
    "        total_loss += loss.item()\n",
    "\n",
    "    losses.append(total_loss)\n",
    "    print(f\"Epoch {epoch:3d} | Loss: {total_loss}\")"
   ],
   "metadata": {
    "colab": {
     "base_uri": "https://localhost:8080/"
    },
    "id": "TryX1hewvNiB",
    "executionInfo": {
     "status": "ok",
     "timestamp": 1723367093025,
     "user_tz": -540,
     "elapsed": 786155,
     "user": {
      "displayName": "조승혁",
      "userId": "15759752471844115325"
     }
    },
    "outputId": "4e4a9282-d49a-40ff-c26c-d00fb7c0af79",
    "ExecuteTime": {
     "end_time": "2025-03-27T23:00:27.127214Z",
     "start_time": "2025-03-27T22:54:51.932876Z"
    }
   },
   "outputs": [
    {
     "name": "stdout",
     "output_type": "stream",
     "text": [
      "Epoch   0 | Loss: 4653.361239910126\n",
      "Epoch   1 | Loss: 2544.970354795456\n",
      "Epoch   2 | Loss: 1835.3598884940147\n",
      "Epoch   3 | Loss: 1438.732589662075\n",
      "Epoch   4 | Loss: 1209.7793376147747\n",
      "Epoch   5 | Loss: 1062.8184399306774\n",
      "Epoch   6 | Loss: 960.9373769164085\n",
      "Epoch   7 | Loss: 883.3040600121021\n",
      "Epoch   8 | Loss: 823.2702743858099\n",
      "Epoch   9 | Loss: 773.278782248497\n",
      "Epoch  10 | Loss: 731.0208967924118\n",
      "Epoch  11 | Loss: 693.4884618371725\n",
      "Epoch  12 | Loss: 661.354599699378\n",
      "Epoch  13 | Loss: 632.5384222567081\n",
      "Epoch  14 | Loss: 605.1739873588085\n",
      "Epoch  15 | Loss: 578.8748390078545\n",
      "Epoch  16 | Loss: 561.2138386517763\n",
      "Epoch  17 | Loss: 540.6792529821396\n",
      "Epoch  18 | Loss: 517.4816453456879\n",
      "Epoch  19 | Loss: 502.7401005476713\n",
      "Epoch  20 | Loss: 486.7490088492632\n",
      "Epoch  21 | Loss: 471.68053886294365\n",
      "Epoch  22 | Loss: 457.13710854947567\n",
      "Epoch  23 | Loss: 441.32884988188744\n",
      "Epoch  24 | Loss: 429.07660564780235\n",
      "Epoch  25 | Loss: 413.8574169576168\n",
      "Epoch  26 | Loss: 405.9315018951893\n",
      "Epoch  27 | Loss: 392.8143771365285\n",
      "Epoch  28 | Loss: 382.1170326769352\n",
      "Epoch  29 | Loss: 372.20144848525524\n",
      "Epoch  30 | Loss: 366.43981463462114\n",
      "Epoch  31 | Loss: 355.9028485119343\n",
      "Epoch  32 | Loss: 345.80656610429287\n",
      "Epoch  33 | Loss: 340.1567706167698\n",
      "Epoch  34 | Loss: 330.01812601834536\n",
      "Epoch  35 | Loss: 321.8916928321123\n",
      "Epoch  36 | Loss: 316.1197966039181\n",
      "Epoch  37 | Loss: 303.82248701155186\n",
      "Epoch  38 | Loss: 298.02979946136475\n",
      "Epoch  39 | Loss: 295.95895021408796\n",
      "Epoch  40 | Loss: 285.90919706970453\n",
      "Epoch  41 | Loss: 284.0907249227166\n",
      "Epoch  42 | Loss: 278.84249610453844\n",
      "Epoch  43 | Loss: 268.91908383369446\n",
      "Epoch  44 | Loss: 261.91031505167484\n",
      "Epoch  45 | Loss: 261.09954527020454\n",
      "Epoch  46 | Loss: 257.36796230077744\n",
      "Epoch  47 | Loss: 246.4644155576825\n",
      "Epoch  48 | Loss: 248.426717877388\n",
      "Epoch  49 | Loss: 237.52638644725084\n",
      "Epoch  50 | Loss: 237.65692961215973\n",
      "Epoch  51 | Loss: 229.09620720893145\n",
      "Epoch  52 | Loss: 223.087468162179\n",
      "Epoch  53 | Loss: 224.77211422100663\n",
      "Epoch  54 | Loss: 223.28098456561565\n",
      "Epoch  55 | Loss: 211.93358697742224\n",
      "Epoch  56 | Loss: 207.69992814213037\n",
      "Epoch  57 | Loss: 207.57156076282263\n",
      "Epoch  58 | Loss: 205.24876750260592\n",
      "Epoch  59 | Loss: 195.30422758311033\n",
      "Epoch  60 | Loss: 195.7396669127047\n",
      "Epoch  61 | Loss: 198.95537953823805\n",
      "Epoch  62 | Loss: 185.7009030804038\n",
      "Epoch  63 | Loss: 185.85957610234618\n",
      "Epoch  64 | Loss: 184.64125801622868\n",
      "Epoch  65 | Loss: 178.6428257972002\n",
      "Epoch  66 | Loss: 181.27444461360574\n",
      "Epoch  67 | Loss: 173.26482915878296\n",
      "Epoch  68 | Loss: 174.51405496895313\n",
      "Epoch  69 | Loss: 164.5822707861662\n",
      "Epoch  70 | Loss: 160.01455134153366\n",
      "Epoch  71 | Loss: 168.64406327158213\n",
      "Epoch  72 | Loss: 161.47356671839952\n",
      "Epoch  73 | Loss: 157.10338452085853\n",
      "Epoch  74 | Loss: 155.37993439659476\n",
      "Epoch  75 | Loss: 154.49206467345357\n",
      "Epoch  76 | Loss: 148.12868736311793\n",
      "Epoch  77 | Loss: 148.15539724379778\n",
      "Epoch  78 | Loss: 143.13394489884377\n",
      "Epoch  79 | Loss: 142.55437660962343\n",
      "Epoch  80 | Loss: 140.7254669368267\n",
      "Epoch  81 | Loss: 143.68301586061716\n",
      "Epoch  82 | Loss: 135.97317923232913\n",
      "Epoch  83 | Loss: 132.3170458637178\n",
      "Epoch  84 | Loss: 128.04524482041597\n",
      "Epoch  85 | Loss: 131.2097830325365\n",
      "Epoch  86 | Loss: 130.94107741117477\n",
      "Epoch  87 | Loss: 127.79287917166948\n",
      "Epoch  88 | Loss: 122.60764939337969\n",
      "Epoch  89 | Loss: 121.44891233369708\n",
      "Epoch  90 | Loss: 121.64923939853907\n",
      "Epoch  91 | Loss: 120.86482766643167\n",
      "Epoch  92 | Loss: 116.12756545841694\n",
      "Epoch  93 | Loss: 119.12011180445552\n",
      "Epoch  94 | Loss: 114.75567111372948\n",
      "Epoch  95 | Loss: 113.81124499440193\n",
      "Epoch  96 | Loss: 119.8455315977335\n",
      "Epoch  97 | Loss: 116.67870925366879\n",
      "Epoch  98 | Loss: 107.19076978042722\n",
      "Epoch  99 | Loss: 101.74237007275224\n"
     ]
    }
   ],
   "execution_count": 10
  },
  {
   "cell_type": "markdown",
   "source": [
    "출력 결과를 보면 잘 수렴하는 것을 볼 수 있습니다.\n",
    "이전 구현과 다른 점은 다음 두 가지입니다.\n",
    "- `for data in trainloader`를 통해 batch들을 iterate하면서 model을 학습합니다.\n",
    "- `inputs, labels = inputs.to('cuda'), labels.to('cuda')`를 통해 model의 입력으로 들어가는 tensor들을 GPU로 보냅니다.\n",
    "\n",
    "마지막으로 첫 번째 data에 대한 예측 결과를 살펴봅시다."
   ],
   "metadata": {
    "id": "YRDcptrqniX7"
   }
  },
  {
   "cell_type": "code",
   "source": [
    "idx = 0\n",
    "\n",
    "x = trainset[idx][0][None]  # (1, 1, 28, 28)\n",
    "x = x.to('cuda')\n",
    "\n",
    "print(model(x))\n",
    "print(trainset[idx][1])"
   ],
   "metadata": {
    "id": "Zct0ssSKwjt1",
    "executionInfo": {
     "status": "ok",
     "timestamp": 1723367093026,
     "user_tz": -540,
     "elapsed": 31,
     "user": {
      "displayName": "조승혁",
      "userId": "15759752471844115325"
     }
    },
    "colab": {
     "base_uri": "https://localhost:8080/"
    },
    "outputId": "4a8d7062-1a43-4522-895e-cfebb9c02cdb",
    "ExecuteTime": {
     "end_time": "2025-03-27T23:00:38.117777Z",
     "start_time": "2025-03-27T23:00:38.106791Z"
    }
   },
   "outputs": [
    {
     "name": "stdout",
     "output_type": "stream",
     "text": [
      "tensor([[4.9696]], device='cuda:0', grad_fn=<ReluBackward0>)\n",
      "5\n"
     ]
    }
   ],
   "execution_count": 11
  },
  {
   "cell_type": "markdown",
   "source": [
    "여기서 idx를 조정하여 다른 data에 대한 출력 결과도 볼 수 있습니다.\n",
    "예측 결과를 보시면 아직 성능이 그렇게 좋지 않은 것을 알 수 있습니다."
   ],
   "metadata": {
    "id": "qzgSOrMsoZ2z"
   }
  },
  {
   "metadata": {
    "ExecuteTime": {
     "end_time": "2025-03-27T23:00:40.072975Z",
     "start_time": "2025-03-27T23:00:40.022507Z"
    }
   },
   "cell_type": "code",
   "source": [
    "import matplotlib.pyplot as plt\n",
    "\n",
    "plt.plot(losses)\n",
    "plt.xlabel('Epoch')\n",
    "plt.ylabel('Loss')\n",
    "plt.title('Training Loss over Epochs')\n",
    "plt.show()"
   ],
   "outputs": [
    {
     "data": {
      "text/plain": [
       "<Figure size 640x480 with 1 Axes>"
      ],
      "image/png": "[encoded data removed]"
     },
     "metadata": {},
     "output_type": "display_data"
    }
   ],
   "execution_count": 12
  }
 ]
}
