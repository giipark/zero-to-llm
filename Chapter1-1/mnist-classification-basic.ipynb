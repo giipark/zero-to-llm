{
 "cells": [
  {
   "metadata": {},
   "cell_type": "markdown",
   "source": [
    "## [1주차] 기본과제 - MNIST를 분류 모델로 학습하기\n",
    "\n",
    "과제 목표:  MNIST를 regression model이 아닌 classification model로 구현합니다. 그리고 train과 test data에 대한 모델의 정확도를 plot하여 generalization error를 살펴봅니다.\n",
    "\n",
    "### 1. 필요한 라이브러리 import"
   ],
   "id": "3247b1aab94e9b5"
  },
  {
   "metadata": {
    "ExecuteTime": {
     "end_time": "2025-03-27T22:26:51.391608Z",
     "start_time": "2025-03-27T22:26:48.802687Z"
    }
   },
   "cell_type": "code",
   "source": [
    "import torch\n",
    "import torchvision\n",
    "import torchvision.transforms as transforms"
   ],
   "id": "1bfd3e999131d117",
   "outputs": [],
   "execution_count": 1
  },
  {
   "metadata": {},
   "cell_type": "markdown",
   "source": [
    "### 2. MNIST Dataset 로딩\n",
    "- torchvision의 `MNIST` 클래스를 사용해 학습/테스트 데이터를 불러옵니다.\n",
    "- 이미지 데이터는 tensor 형태로 변환합니다. (PyTorch 모델은 tensor만 이해할 수 있기 때문)"
   ],
   "id": "4f58b3215a2c76bc"
  },
  {
   "metadata": {
    "ExecuteTime": {
     "end_time": "2025-03-27T22:26:53.779442Z",
     "start_time": "2025-03-27T22:26:53.744049Z"
    }
   },
   "cell_type": "code",
   "source": [
    "transform = transforms.ToTensor()\n",
    "\n",
    "trainset = torchvision.datasets.MNIST(\n",
    "    root='./data',\n",
    "    train=True,\n",
    "    download=True,\n",
    "    transform=transform\n",
    ")\n",
    "\n",
    "testset = torchvision.datasets.MNIST(\n",
    "    root='./data',\n",
    "    train=False,\n",
    "    download=True,\n",
    "    transform=transform\n",
    ")"
   ],
   "id": "40421be376ec42a1",
   "outputs": [],
   "execution_count": 2
  },
  {
   "metadata": {},
   "cell_type": "markdown",
   "source": [
    "### 3. 데이터 확인\n",
    "- 전체 학습 데이터 수, 첫 번째 이미지의 shape 및 레이블을 확인합니다.\n",
    "- 시각화를 통해 첫 번째 이미지가 어떤 숫자인지 확인합니다."
   ],
   "id": "6f1234d29763fc60"
  },
  {
   "metadata": {
    "ExecuteTime": {
     "end_time": "2025-03-27T22:26:57.397720Z",
     "start_time": "2025-03-27T22:26:57.120825Z"
    }
   },
   "cell_type": "code",
   "source": [
    "from matplotlib import pyplot as plt\n",
    "\n",
    "print(len(trainset))\n",
    "print(trainset[0][0].shape, trainset[0][1])\n",
    "plt.imshow(trainset[0][0][0], cmap='gray')"
   ],
   "id": "630bd487b8ef3dd0",
   "outputs": [
    {
     "name": "stdout",
     "output_type": "stream",
     "text": [
      "60000\n",
      "torch.Size([1, 28, 28]) 5\n"
     ]
    },
    {
     "data": {
      "text/plain": [
       "<matplotlib.image.AxesImage at 0x17fda4b0e10>"
      ]
     },
     "execution_count": 3,
     "metadata": {},
     "output_type": "execute_result"
    },
    {
     "data": {
      "text/plain": [
       "<Figure size 640x480 with 1 Axes>"
      ],
      "image/png": "[encoded data removed]"
     },
     "metadata": {},
     "output_type": "display_data"
    }
   ],
   "execution_count": 3
  },
  {
   "metadata": {},
   "cell_type": "markdown",
   "source": [
    "### 4. DataLoader 생성\n",
    "- 학습과 테스트 데이터를 batch 단위로 불러올 수 있도록 DataLoader를 구성합니다.\n",
    "- `shuffle=True`는 학습 데이터 섞기용입니다.\n",
    "- Test data는 랜덤하게 섞일 필요가 없기 때문에 `shuffle=False`로 설정"
   ],
   "id": "f4b5f8616bd543db"
  },
  {
   "metadata": {
    "ExecuteTime": {
     "end_time": "2025-03-27T22:27:00.502861Z",
     "start_time": "2025-03-27T22:27:00.499528Z"
    }
   },
   "cell_type": "code",
   "source": [
    "batch_size = 256\n",
    "\n",
    "trainloader = torch.utils.data.DataLoader(\n",
    "    trainset,\n",
    "    batch_size=batch_size,\n",
    "    shuffle=True\n",
    ")\n",
    "\n",
    "testloader = torch.utils.data.DataLoader(\n",
    "    testset,\n",
    "    batch_size=batch_size,\n",
    "    shuffle=False\n",
    ")"
   ],
   "id": "2832ad2d2c88ac04",
   "outputs": [],
   "execution_count": 4
  },
  {
   "metadata": {},
   "cell_type": "markdown",
   "source": [
    "### 5. 첫 번째 batch 확인\n",
    "- DataLoader가 batch 단위로 데이터를 어떻게 제공하는지 shape을 통해 확인해봅니다."
   ],
   "id": "31a2935bf864e102"
  },
  {
   "metadata": {
    "ExecuteTime": {
     "end_time": "2025-03-27T22:27:02.624793Z",
     "start_time": "2025-03-27T22:27:02.610517Z"
    }
   },
   "cell_type": "code",
   "source": [
    "dataiter = iter(trainloader)\n",
    "images, labels = next(dataiter)\n",
    "print(images.shape, labels.shape)"
   ],
   "id": "484d190e0e62c858",
   "outputs": [
    {
     "name": "stdout",
     "output_type": "stream",
     "text": [
      "torch.Size([256, 1, 28, 28]) torch.Size([256])\n"
     ]
    }
   ],
   "execution_count": 5
  },
  {
   "metadata": {},
   "cell_type": "markdown",
   "source": [
    "### 6. MLP 모델 정의\n",
    "- 3개의 선형 계층(`Linear`)과 `ReLU` 활성화 함수를 사용하여 다층 퍼셉트론(MLP) 분류 모델을 구성합니다.\n",
    "- 최종 출력 차원은 **10**으로 설정되어 있으며, 이는 **MNIST가 0부터 9까지 총 10개의 클래스를 가지기 때문입니다.**\n",
    "- 마지막 출력층(`layer3`) 뒤에는 `ReLU`나 `Softmax` 같은 **활성화 함수(activation)를 사용하지 않습니다.**\n",
    "    - 그 이유는 `CrossEntropyLoss`가 내부적으로 `LogSoftmax`를 포함하고 있어,\n",
    "      **모델의 출력은 소프트맥스가 적용되지 않은 \"로짓(logits)\" 상태여야 하기 때문입니다.**\n",
    "    - ReLU는 음수를 0으로 만들어버리기 때문에, **softmax가 올바른 확률 분포를 계산하지 못할 수 있습니다.**"
   ],
   "id": "edb298999abb1e27"
  },
  {
   "metadata": {
    "ExecuteTime": {
     "end_time": "2025-03-27T22:27:04.976907Z",
     "start_time": "2025-03-27T22:27:04.966910Z"
    }
   },
   "cell_type": "code",
   "source": [
    "from torch import nn\n",
    "\n",
    "\n",
    "class Model(nn.Module):\n",
    "    def __init__(self, input_dim, n_dim):\n",
    "        super().__init__()\n",
    "        self.layer1 = nn.Linear(input_dim, n_dim)\n",
    "        self.layer2 = nn.Linear(n_dim, n_dim)\n",
    "        self.layer3 = nn.Linear(n_dim, 10)  # CrossEntropy용: 10개의 클래스 출력\n",
    "        self.act = nn.ReLU()\n",
    "\n",
    "    def forward(self, x):\n",
    "        x = torch.flatten(x, start_dim=1)\n",
    "        x = self.act(self.layer1(x))\n",
    "        x = self.act(self.layer2(x))\n",
    "        x = self.layer3(x)  # 마지막에 softmax 안 씀! CrossEntropyLoss가 내부에서 처리함\n",
    "        return x\n",
    "\n",
    "\n",
    "model = Model(28 * 28 * 1, 1024)"
   ],
   "id": "2d516758fb39b911",
   "outputs": [],
   "execution_count": 6
  },
  {
   "metadata": {},
   "cell_type": "markdown",
   "source": [
    "### 7. 손실 함수 및 Optimizer 설정\n",
    "- `CrossEntropyLoss`를 손실 함수로 사용하고, `SGD(Stochastic Gradient Descent)`를 기반으로 optimizer를 구현합니다."
   ],
   "id": "2d3fdc155b181c1f"
  },
  {
   "metadata": {
    "ExecuteTime": {
     "end_time": "2025-03-27T22:27:08.037483Z",
     "start_time": "2025-03-27T22:27:07.942367Z"
    }
   },
   "cell_type": "code",
   "source": [
    "from torch.optim import SGD\n",
    "\n",
    "model = model.to('cuda')\n",
    "criterion = nn.CrossEntropyLoss()\n",
    "optimizer = SGD(model.parameters(), lr=0.001)"
   ],
   "id": "2238e79eac9dd557",
   "outputs": [],
   "execution_count": 7
  },
  {
   "metadata": {},
   "cell_type": "markdown",
   "source": [
    "### 8. 정확도 측정 함수 정의\n",
    "- 주어진 dataloader에 대해 model의 정확도를 측정하는 코드를 정의합니다."
   ],
   "id": "bc5d891ac1d454d1"
  },
  {
   "metadata": {
    "ExecuteTime": {
     "end_time": "2025-03-27T22:27:09.916939Z",
     "start_time": "2025-03-27T22:27:09.913750Z"
    }
   },
   "cell_type": "code",
   "source": [
    "def accuracy(model, dataloader):\n",
    "    cnt = 0\n",
    "    acc = 0\n",
    "\n",
    "    model.eval()\n",
    "    with torch.no_grad():\n",
    "        for data in dataloader:\n",
    "            inputs, labels = data\n",
    "            inputs, labels = inputs.to('cuda'), labels.to('cuda')\n",
    "\n",
    "            preds = model(inputs)\n",
    "            preds = torch.argmax(preds, dim=-1)\n",
    "\n",
    "            cnt += labels.shape[0]\n",
    "            acc += (labels == preds).sum().item()\n",
    "    model.train()\n",
    "    return acc / cnt"
   ],
   "id": "408e3b156a0e4ce6",
   "outputs": [],
   "execution_count": 8
  },
  {
   "metadata": {},
   "cell_type": "markdown",
   "source": [
    "### 9. 모델 학습\n",
    "- 매 epoch가 끝난 뒤, 모델의 trainloader와 testloader에 대한 정확도를 각각 리스트에 저장합니다.\n",
    "- 훈련 중 측정된 trainloader와 testloader에 대한 정확도는 추후 시각화를 위해 사용됩니다."
   ],
   "id": "aefd1eb7038922f1"
  },
  {
   "metadata": {
    "ExecuteTime": {
     "end_time": "2025-03-27T22:35:09.466126Z",
     "start_time": "2025-03-27T22:27:13.659373Z"
    }
   },
   "cell_type": "code",
   "source": [
    "n_epochs = 100\n",
    "train_accs = []\n",
    "test_accs = []\n",
    "\n",
    "for epoch in range(n_epochs):\n",
    "    total_loss = 0.\n",
    "\n",
    "    for data in trainloader:\n",
    "        inputs, labels = data\n",
    "        inputs, labels = inputs.to('cuda'), labels.to('cuda')\n",
    "\n",
    "        optimizer.zero_grad()\n",
    "        preds = model(inputs)\n",
    "        loss = criterion(preds, labels)\n",
    "        loss.backward()\n",
    "        optimizer.step()\n",
    "\n",
    "        total_loss += loss.item()\n",
    "\n",
    "    train_acc = accuracy(model, trainloader)\n",
    "    test_acc = accuracy(model, testloader)\n",
    "    train_accs.append(train_acc)\n",
    "    test_accs.append(test_acc)\n",
    "\n",
    "    print(f\"Epoch {epoch:3d} | Loss: {total_loss} | Train Acc: {train_acc} | Test Acc: {test_acc}\")"
   ],
   "id": "cc661f2f2fd7d9e6",
   "outputs": [
    {
     "name": "stdout",
     "output_type": "stream",
     "text": [
      "Epoch   0 | Loss: 539.2643678188324 | Train Acc: 0.19451666666666667 | Test Acc: 0.1927\n",
      "Epoch   1 | Loss: 535.494190454483 | Train Acc: 0.30916666666666665 | Test Acc: 0.3059\n",
      "Epoch   2 | Loss: 531.6052701473236 | Train Acc: 0.41301666666666664 | Test Acc: 0.414\n",
      "Epoch   3 | Loss: 527.4581410884857 | Train Acc: 0.4922666666666667 | Test Acc: 0.4958\n",
      "Epoch   4 | Loss: 522.9468715190887 | Train Acc: 0.55005 | Test Acc: 0.5547\n",
      "Epoch   5 | Loss: 517.9231629371643 | Train Acc: 0.5932833333333334 | Test Acc: 0.5981\n",
      "Epoch   6 | Loss: 512.2646968364716 | Train Acc: 0.6248833333333333 | Test Acc: 0.6287\n",
      "Epoch   7 | Loss: 505.8041567802429 | Train Acc: 0.6477333333333334 | Test Acc: 0.6507\n",
      "Epoch   8 | Loss: 498.39490151405334 | Train Acc: 0.6671166666666667 | Test Acc: 0.6681\n",
      "Epoch   9 | Loss: 489.90041303634644 | Train Acc: 0.6836333333333333 | Test Acc: 0.6841\n",
      "Epoch  10 | Loss: 480.1197612285614 | Train Acc: 0.69825 | Test Acc: 0.6971\n",
      "Epoch  11 | Loss: 468.95275032520294 | Train Acc: 0.7107 | Test Acc: 0.7098\n",
      "Epoch  12 | Loss: 456.2074737548828 | Train Acc: 0.7216 | Test Acc: 0.7227\n",
      "Epoch  13 | Loss: 441.88081216812134 | Train Acc: 0.7297833333333333 | Test Acc: 0.7344\n",
      "Epoch  14 | Loss: 425.8635011911392 | Train Acc: 0.7371833333333333 | Test Acc: 0.7426\n",
      "Epoch  15 | Loss: 408.3543392419815 | Train Acc: 0.7429833333333333 | Test Acc: 0.7482\n",
      "Epoch  16 | Loss: 389.52258682250977 | Train Acc: 0.7474666666666666 | Test Acc: 0.7523\n",
      "Epoch  17 | Loss: 369.77850699424744 | Train Acc: 0.75145 | Test Acc: 0.7553\n",
      "Epoch  18 | Loss: 349.59959983825684 | Train Acc: 0.7562666666666666 | Test Acc: 0.7631\n",
      "Epoch  19 | Loss: 329.5168836116791 | Train Acc: 0.7624666666666666 | Test Acc: 0.7699\n",
      "Epoch  20 | Loss: 310.0343017578125 | Train Acc: 0.7695166666666666 | Test Acc: 0.7783\n",
      "Epoch  21 | Loss: 291.5353229045868 | Train Acc: 0.77775 | Test Acc: 0.7858\n",
      "Epoch  22 | Loss: 274.4592709541321 | Train Acc: 0.7860166666666667 | Test Acc: 0.7946\n",
      "Epoch  23 | Loss: 258.73397171497345 | Train Acc: 0.7923666666666667 | Test Acc: 0.7997\n",
      "Epoch  24 | Loss: 244.6157130599022 | Train Acc: 0.79855 | Test Acc: 0.8073\n",
      "Epoch  25 | Loss: 231.9218938946724 | Train Acc: 0.8057333333333333 | Test Acc: 0.8125\n",
      "Epoch  26 | Loss: 220.38819825649261 | Train Acc: 0.8108666666666666 | Test Acc: 0.8175\n",
      "Epoch  27 | Loss: 210.16344368457794 | Train Acc: 0.8151166666666667 | Test Acc: 0.8216\n",
      "Epoch  28 | Loss: 200.99083530902863 | Train Acc: 0.8201166666666667 | Test Acc: 0.8267\n",
      "Epoch  29 | Loss: 192.68464118242264 | Train Acc: 0.8243166666666667 | Test Acc: 0.8298\n",
      "Epoch  30 | Loss: 185.18860960006714 | Train Acc: 0.8290666666666666 | Test Acc: 0.8346\n",
      "Epoch  31 | Loss: 178.55723828077316 | Train Acc: 0.8323833333333334 | Test Acc: 0.8376\n",
      "Epoch  32 | Loss: 172.30849397182465 | Train Acc: 0.8353666666666667 | Test Acc: 0.8397\n",
      "Epoch  33 | Loss: 166.8136960864067 | Train Acc: 0.8382833333333334 | Test Acc: 0.8437\n",
      "Epoch  34 | Loss: 161.77865433692932 | Train Acc: 0.841 | Test Acc: 0.8468\n",
      "Epoch  35 | Loss: 157.07749128341675 | Train Acc: 0.8441333333333333 | Test Acc: 0.8493\n",
      "Epoch  36 | Loss: 152.7501095533371 | Train Acc: 0.84705 | Test Acc: 0.8531\n",
      "Epoch  37 | Loss: 148.8535406589508 | Train Acc: 0.8492833333333333 | Test Acc: 0.8555\n",
      "Epoch  38 | Loss: 145.18148106336594 | Train Acc: 0.8520333333333333 | Test Acc: 0.8583\n",
      "Epoch  39 | Loss: 141.7982097864151 | Train Acc: 0.8542833333333333 | Test Acc: 0.8597\n",
      "Epoch  40 | Loss: 138.6117055118084 | Train Acc: 0.8567 | Test Acc: 0.8623\n",
      "Epoch  41 | Loss: 135.69661715626717 | Train Acc: 0.8592 | Test Acc: 0.8638\n",
      "Epoch  42 | Loss: 133.00359919667244 | Train Acc: 0.8605833333333334 | Test Acc: 0.8651\n",
      "Epoch  43 | Loss: 130.4925345480442 | Train Acc: 0.8628666666666667 | Test Acc: 0.8665\n",
      "Epoch  44 | Loss: 128.13558939099312 | Train Acc: 0.8646833333333334 | Test Acc: 0.8675\n",
      "Epoch  45 | Loss: 125.78862369060516 | Train Acc: 0.8663666666666666 | Test Acc: 0.8695\n",
      "Epoch  46 | Loss: 123.72648417949677 | Train Acc: 0.8679833333333333 | Test Acc: 0.8718\n",
      "Epoch  47 | Loss: 121.83520394563675 | Train Acc: 0.8696 | Test Acc: 0.8732\n",
      "Epoch  48 | Loss: 119.84429678320885 | Train Acc: 0.87095 | Test Acc: 0.8746\n",
      "Epoch  49 | Loss: 118.04104843735695 | Train Acc: 0.8718333333333333 | Test Acc: 0.876\n",
      "Epoch  50 | Loss: 116.3867983520031 | Train Acc: 0.8731833333333333 | Test Acc: 0.8776\n",
      "Epoch  51 | Loss: 114.86824572086334 | Train Acc: 0.8743666666666666 | Test Acc: 0.8791\n",
      "Epoch  52 | Loss: 113.29622000455856 | Train Acc: 0.8756666666666667 | Test Acc: 0.8809\n",
      "Epoch  53 | Loss: 111.8729487657547 | Train Acc: 0.8768 | Test Acc: 0.8823\n",
      "Epoch  54 | Loss: 110.59499809145927 | Train Acc: 0.8778833333333333 | Test Acc: 0.8829\n",
      "Epoch  55 | Loss: 109.2672626376152 | Train Acc: 0.87895 | Test Acc: 0.8837\n",
      "Epoch  56 | Loss: 107.94924733042717 | Train Acc: 0.8797166666666667 | Test Acc: 0.8848\n",
      "Epoch  57 | Loss: 106.82379326224327 | Train Acc: 0.8806333333333334 | Test Acc: 0.8855\n",
      "Epoch  58 | Loss: 105.73007595539093 | Train Acc: 0.8815666666666667 | Test Acc: 0.8873\n",
      "Epoch  59 | Loss: 104.60702487826347 | Train Acc: 0.88235 | Test Acc: 0.8882\n",
      "Epoch  60 | Loss: 103.61556023359299 | Train Acc: 0.8833166666666666 | Test Acc: 0.8891\n",
      "Epoch  61 | Loss: 102.60779505968094 | Train Acc: 0.8840333333333333 | Test Acc: 0.8894\n",
      "Epoch  62 | Loss: 101.65738806128502 | Train Acc: 0.8848166666666667 | Test Acc: 0.8903\n",
      "Epoch  63 | Loss: 100.84669053554535 | Train Acc: 0.8857 | Test Acc: 0.8913\n",
      "Epoch  64 | Loss: 99.90505713224411 | Train Acc: 0.88595 | Test Acc: 0.8922\n",
      "Epoch  65 | Loss: 99.07548210024834 | Train Acc: 0.8864666666666666 | Test Acc: 0.8918\n",
      "Epoch  66 | Loss: 98.31418511271477 | Train Acc: 0.8871833333333333 | Test Acc: 0.8936\n",
      "Epoch  67 | Loss: 97.51619613170624 | Train Acc: 0.8882 | Test Acc: 0.8935\n",
      "Epoch  68 | Loss: 96.7742135822773 | Train Acc: 0.8887833333333334 | Test Acc: 0.8943\n",
      "Epoch  69 | Loss: 96.11691018939018 | Train Acc: 0.8893166666666666 | Test Acc: 0.8949\n",
      "Epoch  70 | Loss: 95.3682579100132 | Train Acc: 0.8901166666666667 | Test Acc: 0.8953\n",
      "Epoch  71 | Loss: 94.66542750597 | Train Acc: 0.8906 | Test Acc: 0.8958\n",
      "Epoch  72 | Loss: 94.01172834634781 | Train Acc: 0.8909 | Test Acc: 0.8965\n",
      "Epoch  73 | Loss: 93.51464778184891 | Train Acc: 0.8917666666666667 | Test Acc: 0.8963\n",
      "Epoch  74 | Loss: 92.89909602701664 | Train Acc: 0.8923166666666666 | Test Acc: 0.8973\n",
      "Epoch  75 | Loss: 92.22636151313782 | Train Acc: 0.8927333333333334 | Test Acc: 0.8978\n",
      "Epoch  76 | Loss: 91.83478552103043 | Train Acc: 0.8933166666666666 | Test Acc: 0.8982\n",
      "Epoch  77 | Loss: 91.14272645115852 | Train Acc: 0.89365 | Test Acc: 0.8989\n",
      "Epoch  78 | Loss: 90.64475867152214 | Train Acc: 0.8942833333333333 | Test Acc: 0.8992\n",
      "Epoch  79 | Loss: 90.04686138033867 | Train Acc: 0.8945833333333333 | Test Acc: 0.899\n",
      "Epoch  80 | Loss: 89.58691141009331 | Train Acc: 0.8952833333333333 | Test Acc: 0.8998\n",
      "Epoch  81 | Loss: 89.08598905801773 | Train Acc: 0.89535 | Test Acc: 0.8998\n",
      "Epoch  82 | Loss: 88.66788762807846 | Train Acc: 0.8959166666666667 | Test Acc: 0.9\n",
      "Epoch  83 | Loss: 88.15208822488785 | Train Acc: 0.8967 | Test Acc: 0.901\n",
      "Epoch  84 | Loss: 87.7210405766964 | Train Acc: 0.8969 | Test Acc: 0.9009\n",
      "Epoch  85 | Loss: 87.40397557616234 | Train Acc: 0.8972166666666667 | Test Acc: 0.901\n",
      "Epoch  86 | Loss: 86.94771447777748 | Train Acc: 0.8975333333333333 | Test Acc: 0.9014\n",
      "Epoch  87 | Loss: 86.50581753253937 | Train Acc: 0.8979 | Test Acc: 0.9014\n",
      "Epoch  88 | Loss: 86.1110514998436 | Train Acc: 0.8983 | Test Acc: 0.9017\n",
      "Epoch  89 | Loss: 85.70333099365234 | Train Acc: 0.8986333333333333 | Test Acc: 0.9019\n",
      "Epoch  90 | Loss: 85.2328873872757 | Train Acc: 0.89885 | Test Acc: 0.9028\n",
      "Epoch  91 | Loss: 85.02883699536324 | Train Acc: 0.8993833333333333 | Test Acc: 0.9035\n",
      "Epoch  92 | Loss: 84.57019053399563 | Train Acc: 0.8996833333333333 | Test Acc: 0.9025\n",
      "Epoch  93 | Loss: 84.21019086241722 | Train Acc: 0.8999166666666667 | Test Acc: 0.9034\n",
      "Epoch  94 | Loss: 83.81499870121479 | Train Acc: 0.9000833333333333 | Test Acc: 0.9038\n",
      "Epoch  95 | Loss: 83.55722278356552 | Train Acc: 0.9004833333333333 | Test Acc: 0.9043\n",
      "Epoch  96 | Loss: 83.24767857789993 | Train Acc: 0.9006333333333333 | Test Acc: 0.9041\n",
      "Epoch  97 | Loss: 82.829386100173 | Train Acc: 0.9008833333333334 | Test Acc: 0.9049\n",
      "Epoch  98 | Loss: 82.6059702038765 | Train Acc: 0.9011 | Test Acc: 0.9053\n",
      "Epoch  99 | Loss: 82.23310196399689 | Train Acc: 0.9018166666666667 | Test Acc: 0.9054\n"
     ]
    }
   ],
   "execution_count": 9
  },
  {
   "metadata": {},
   "cell_type": "markdown",
   "source": [
    "### 10. 정확도 시각화\n",
    "- 학습 및 테스트 데이터셋에 대한 정확도를 epoch 단위로 시각화합니다."
   ],
   "id": "9873ce530c51d19b"
  },
  {
   "metadata": {
    "ExecuteTime": {
     "end_time": "2025-03-27T22:35:18.221427Z",
     "start_time": "2025-03-27T22:35:18.132720Z"
    }
   },
   "cell_type": "code",
   "source": [
    "import numpy as np\n",
    "\n",
    "\n",
    "def plot_acc(train_accs, test_accs, label1='train', label2='test'):\n",
    "    x = np.arange(len(train_accs))\n",
    "    plt.plot(x, train_accs, label=label1)\n",
    "    plt.plot(x, test_accs, label=label2)\n",
    "    plt.xlabel('Epoch')\n",
    "    plt.ylabel('Accuracy')\n",
    "    plt.legend()\n",
    "    plt.title('Train/Test Accuracy over Epochs')\n",
    "    plt.show()\n",
    "\n",
    "\n",
    "plot_acc(train_accs, test_accs)"
   ],
   "id": "843033b287c6783",
   "outputs": [
    {
     "data": {
      "text/plain": [
       "<Figure size 640x480 with 1 Axes>"
      ],
      "image/png": "[encoded data removed]"
     },
     "metadata": {},
     "output_type": "display_data"
    }
   ],
   "execution_count": 10
  }
 ],
 "metadata": {
  "kernelspec": {
   "display_name": "Python 3",
   "language": "python",
   "name": "python3"
  },
  "language_info": {
   "codemirror_mode": {
    "name": "ipython",
    "version": 2
   },
   "file_extension": ".py",
   "mimetype": "text/x-python",
   "name": "python",
   "nbconvert_exporter": "python",
   "pygments_lexer": "ipython2",
   "version": "2.7.6"
  }
 },
 "nbformat": 4,
 "nbformat_minor": 5
}
