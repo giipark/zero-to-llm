{
 "cells": [
  {
   "metadata": {},
   "cell_type": "markdown",
   "source": [
    "## [1주차] 심화과제 - MNIST 예측 모델에 deep learning techniques 적용하기\n",
    "\n",
    "과제 목표: 기존 mnist-classification-basic 에서 구현한 코드를 기반으로, 필요한 부분을 수정하거나 기능을 추가합니다.\n",
    "\n",
    "### 1. 필요한 라이브러리 import"
   ],
   "id": "a8093f470ee8403f"
  },
  {
   "metadata": {
    "ExecuteTime": {
     "end_time": "2025-03-28T00:35:08.514337Z",
     "start_time": "2025-03-28T00:35:06.068130Z"
    }
   },
   "cell_type": "code",
   "source": [
    "import torch\n",
    "import torchvision\n",
    "import torchvision.transforms as transforms"
   ],
   "id": "72f6fcf7732aec2b",
   "outputs": [],
   "execution_count": 1
  },
  {
   "metadata": {},
   "cell_type": "markdown",
   "source": [
    "### 2. CIFAR10 Dataset 로딩\n",
    "- Dataset을 MNIST에서 CIFAR10으로 변경해줍니다."
   ],
   "id": "87d1a42ee8905590"
  },
  {
   "metadata": {
    "ExecuteTime": {
     "end_time": "2025-03-28T00:35:44.219341Z",
     "start_time": "2025-03-28T00:35:09.884001Z"
    }
   },
   "cell_type": "code",
   "source": [
    "transform = transforms.ToTensor()\n",
    "\n",
    "trainset = torchvision.datasets.CIFAR10(\n",
    "    root='./data',\n",
    "    train=True,\n",
    "    download=True,\n",
    "    transform=transform\n",
    ")\n",
    "\n",
    "testset = torchvision.datasets.CIFAR10(\n",
    "    root='./data',\n",
    "    train=False,\n",
    "    download=True,\n",
    "    transform=transform\n",
    ")"
   ],
   "id": "de07d2c76c1dec8d",
   "outputs": [
    {
     "name": "stderr",
     "output_type": "stream",
     "text": [
      "100.0%\n"
     ]
    }
   ],
   "execution_count": 2
  },
  {
   "metadata": {},
   "cell_type": "markdown",
   "source": [
    "### 3. 데이터 확인\n",
    "- CIFAR10은 MNIST와 다른 입력 shape을 가지고 있습니다.\n",
    "- 입력 shape은 model을 선언할 때 중요하기 때문에 MNIST 실습 자료에서 사용한 방식과 똑같이 shape을 확인합니다."
   ],
   "id": "57ae512b74ef10e5"
  },
  {
   "metadata": {
    "ExecuteTime": {
     "end_time": "2025-03-28T00:35:46.515757Z",
     "start_time": "2025-03-28T00:35:46.228750Z"
    }
   },
   "cell_type": "code",
   "source": [
    "from matplotlib import pyplot as plt\n",
    "\n",
    "print(len(trainset))\n",
    "print(trainset[0][0].shape, trainset[0][1])\n",
    "plt.imshow(trainset[0][0][0], cmap='gray')"
   ],
   "id": "3e1f594ee2801f78",
   "outputs": [
    {
     "name": "stdout",
     "output_type": "stream",
     "text": [
      "50000\n",
      "torch.Size([3, 32, 32]) 6\n"
     ]
    },
    {
     "data": {
      "text/plain": [
       "<matplotlib.image.AxesImage at 0x2cbb300a090>"
      ]
     },
     "execution_count": 3,
     "metadata": {},
     "output_type": "execute_result"
    },
    {
     "data": {
      "text/plain": [
       "<Figure size 640x480 with 1 Axes>"
      ],
      "image/png": "[encoded data removed]"
     },
     "metadata": {},
     "output_type": "display_data"
    }
   ],
   "execution_count": 3
  },
  {
   "metadata": {},
   "cell_type": "markdown",
   "source": "### 4. DataLoader 생성",
   "id": "ff294e7dd17d98c5"
  },
  {
   "metadata": {
    "ExecuteTime": {
     "end_time": "2025-03-28T00:35:49.457317Z",
     "start_time": "2025-03-28T00:35:49.454507Z"
    }
   },
   "cell_type": "code",
   "source": [
    "batch_size = 256\n",
    "\n",
    "trainloader = torch.utils.data.DataLoader(\n",
    "    trainset,\n",
    "    batch_size=batch_size,\n",
    "    shuffle=True\n",
    ")\n",
    "\n",
    "testloader = torch.utils.data.DataLoader(\n",
    "    testset,\n",
    "    batch_size=batch_size,\n",
    "    shuffle=False\n",
    ")"
   ],
   "id": "a097995e11c8a07a",
   "outputs": [],
   "execution_count": 4
  },
  {
   "metadata": {},
   "cell_type": "markdown",
   "source": "### 5. 첫 번째 batch 확인",
   "id": "4e69fbe7bfad5e0f"
  },
  {
   "metadata": {
    "ExecuteTime": {
     "end_time": "2025-03-28T00:35:52.151990Z",
     "start_time": "2025-03-28T00:35:52.128465Z"
    }
   },
   "cell_type": "code",
   "source": [
    "dataiter = iter(trainloader)\n",
    "images, labels = next(dataiter)\n",
    "print(images.shape, labels.shape)"
   ],
   "id": "7c48b66f4029f5be",
   "outputs": [
    {
     "name": "stdout",
     "output_type": "stream",
     "text": [
      "torch.Size([256, 3, 32, 32]) torch.Size([256])\n"
     ]
    }
   ],
   "execution_count": 5
  },
  {
   "metadata": {},
   "cell_type": "markdown",
   "source": [
    "### 6. MLP 모델 정의\n",
    "- Activation 함수를 nn.ReLU에서 nn.LeakyReLU로 변경합니다.\n",
    "- CIFAR10은 (3, 32, 32) size 이므로, **Model(3 * 32 * 32, 1024)로 생성**합니다.\n",
    "- LeakyReLU를 사용한 기본 Model을 정의합니다."
   ],
   "id": "5a65f76d38ee5ea"
  },
  {
   "metadata": {
    "ExecuteTime": {
     "end_time": "2025-03-28T00:35:54.248105Z",
     "start_time": "2025-03-28T00:35:54.231301Z"
    }
   },
   "cell_type": "code",
   "source": [
    "from torch import nn\n",
    "\n",
    "\n",
    "class Model(nn.Module):\n",
    "    def __init__(self, input_dim, n_dim):\n",
    "        super().__init__()\n",
    "        self.layer1 = nn.Linear(input_dim, n_dim)\n",
    "        self.layer2 = nn.Linear(n_dim, n_dim)\n",
    "        self.layer3 = nn.Linear(n_dim, 10)\n",
    "        self.act = nn.LeakyReLU()\n",
    "\n",
    "    def forward(self, x):\n",
    "        x = torch.flatten(x, start_dim=1)\n",
    "        x = self.act(self.layer1(x))\n",
    "        x = self.act(self.layer2(x))\n",
    "        x = self.layer3(x)\n",
    "        return x\n",
    "\n",
    "\n",
    "model = Model(3 * 32 * 32, 1024)"
   ],
   "id": "8a371b146896f15a",
   "outputs": [],
   "execution_count": 6
  },
  {
   "metadata": {},
   "cell_type": "markdown",
   "source": "### 7. 정확도 측정 함수 정의",
   "id": "b745ce862202824b"
  },
  {
   "metadata": {
    "ExecuteTime": {
     "end_time": "2025-03-28T00:35:57.006365Z",
     "start_time": "2025-03-28T00:35:57.002259Z"
    }
   },
   "cell_type": "code",
   "source": [
    "def accuracy(model, dataloader):\n",
    "    cnt = 0\n",
    "    acc = 0\n",
    "\n",
    "    model.eval()\n",
    "    with torch.no_grad():\n",
    "        for data in dataloader:\n",
    "            inputs, labels = data\n",
    "            inputs, labels = inputs.to('cuda'), labels.to('cuda')\n",
    "\n",
    "            preds = model(inputs)\n",
    "            preds = torch.argmax(preds, dim=-1)\n",
    "\n",
    "            cnt += labels.shape[0]\n",
    "            acc += (labels == preds).sum().item()\n",
    "    model.train()\n",
    "    return acc / cnt"
   ],
   "id": "bec1607c1982fb0e",
   "outputs": [],
   "execution_count": 7
  },
  {
   "metadata": {},
   "cell_type": "markdown",
   "source": [
    "### 8. 모델 학습\n",
    "- 학습 인자는 n_epochs = 50 으로 설정합니다.\n",
    "- 여러 모델을 학습시키기 위해서 모델 학습 함수를 따로 정의합니다.\n",
    "    - Model: LeakyReLU() 사용한 기본 Model\n",
    "    - Model_Sigmoid: Sigmoid() 사용한 기본 Model"
   ],
   "id": "6b329b01afccb6e5"
  },
  {
   "metadata": {
    "ExecuteTime": {
     "end_time": "2025-03-28T00:35:59.658383Z",
     "start_time": "2025-03-28T00:35:59.655023Z"
    }
   },
   "cell_type": "code",
   "source": [
    "def train(model, optimizer):\n",
    "    n_epochs = 50\n",
    "    model = model.to('cuda')\n",
    "    train_accs = []\n",
    "\n",
    "    for epoch in range(n_epochs):\n",
    "        total_loss = 0.\n",
    "\n",
    "        for data in trainloader:\n",
    "            inputs, labels = data\n",
    "            inputs, labels = inputs.to('cuda'), labels.to('cuda')\n",
    "\n",
    "            optimizer.zero_grad()\n",
    "            preds = model(inputs)\n",
    "            loss = nn.CrossEntropyLoss()(preds, labels)\n",
    "            loss.backward()\n",
    "            optimizer.step()\n",
    "\n",
    "            total_loss += loss.item()\n",
    "\n",
    "        train_acc = accuracy(model, trainloader)\n",
    "        train_accs.append(train_acc)\n",
    "\n",
    "        print(f\"Epoch {epoch:3d} | Loss: {total_loss}\")\n",
    "\n",
    "    return train_accs"
   ],
   "id": "a6c1a43282965071",
   "outputs": [],
   "execution_count": 8
  },
  {
   "metadata": {},
   "cell_type": "markdown",
   "source": [
    "### 9. 정확도 시각화\n",
    "- 정확도 시각화를 위한 함수를 정의합니다."
   ],
   "id": "b70f7683a458f8a5"
  },
  {
   "metadata": {
    "ExecuteTime": {
     "end_time": "2025-03-28T00:36:01.961098Z",
     "start_time": "2025-03-28T00:36:01.957102Z"
    }
   },
   "cell_type": "code",
   "source": [
    "def plot_acc(acc_lists, labels, title):\n",
    "    for acc, label in zip(acc_lists, labels):\n",
    "        x = np.arange(len(acc))\n",
    "        plt.plot(x, acc, label=label)\n",
    "    plt.xlabel('Epoch')\n",
    "    plt.ylabel('Accuracy')\n",
    "    plt.legend()\n",
    "    plt.title(title)\n",
    "    plt.show()"
   ],
   "id": "7a21cdf7fd3af2af",
   "outputs": [],
   "execution_count": 9
  },
  {
   "metadata": {},
   "cell_type": "markdown",
   "source": "### 10. Plot 1 - SGD vs Adam",
   "id": "26870f8a84c5669a"
  },
  {
   "metadata": {
    "ExecuteTime": {
     "end_time": "2025-03-28T00:45:56.579241Z",
     "start_time": "2025-03-28T00:36:03.785275Z"
    }
   },
   "cell_type": "code",
   "source": [
    "from torch.optim import SGD, Adam\n",
    "import numpy as np\n",
    "\n",
    "sgd_model = model.to('cuda')\n",
    "adam_model = model.to('cuda')\n",
    "\n",
    "sgd_accs = train(sgd_model, SGD(sgd_model.parameters(), lr=0.001))\n",
    "adam_accs = train(adam_model, Adam(adam_model.parameters(), lr=0.001))\n",
    "\n",
    "plot_acc([sgd_accs, adam_accs], [\"SGD\", \"Adam\"], \"Train Accuracy: SGD vs Adam\")"
   ],
   "id": "2cbee2db1e526d60",
   "outputs": [
    {
     "name": "stdout",
     "output_type": "stream",
     "text": [
      "Epoch   0 | Loss: 450.28078627586365\n",
      "Epoch   1 | Loss: 448.06680488586426\n",
      "Epoch   2 | Loss: 446.21130442619324\n",
      "Epoch   3 | Loss: 444.37434816360474\n",
      "Epoch   4 | Loss: 442.4800124168396\n",
      "Epoch   5 | Loss: 440.414115190506\n",
      "Epoch   6 | Loss: 438.18549847602844\n",
      "Epoch   7 | Loss: 435.78039503097534\n",
      "Epoch   8 | Loss: 433.16779613494873\n",
      "Epoch   9 | Loss: 430.37061738967896\n",
      "Epoch  10 | Loss: 427.46008467674255\n",
      "Epoch  11 | Loss: 424.482031583786\n",
      "Epoch  12 | Loss: 421.4029629230499\n",
      "Epoch  13 | Loss: 418.45939683914185\n",
      "Epoch  14 | Loss: 415.5639717578888\n",
      "Epoch  15 | Loss: 412.8538465499878\n",
      "Epoch  16 | Loss: 410.2949459552765\n",
      "Epoch  17 | Loss: 407.9402484893799\n",
      "Epoch  18 | Loss: 405.7229232788086\n",
      "Epoch  19 | Loss: 403.6913080215454\n",
      "Epoch  20 | Loss: 401.66666626930237\n",
      "Epoch  21 | Loss: 399.7748279571533\n",
      "Epoch  22 | Loss: 398.0252139568329\n",
      "Epoch  23 | Loss: 396.33467233181\n",
      "Epoch  24 | Loss: 394.72303318977356\n",
      "Epoch  25 | Loss: 393.19023871421814\n",
      "Epoch  26 | Loss: 391.6166549921036\n",
      "Epoch  27 | Loss: 390.34388625621796\n",
      "Epoch  28 | Loss: 388.9816701412201\n",
      "Epoch  29 | Loss: 387.69181287288666\n",
      "Epoch  30 | Loss: 386.36040246486664\n",
      "Epoch  31 | Loss: 385.2211652994156\n",
      "Epoch  32 | Loss: 384.07843351364136\n",
      "Epoch  33 | Loss: 382.96999955177307\n",
      "Epoch  34 | Loss: 381.9217565059662\n",
      "Epoch  35 | Loss: 380.95769107341766\n",
      "Epoch  36 | Loss: 379.97541666030884\n",
      "Epoch  37 | Loss: 379.00157594680786\n",
      "Epoch  38 | Loss: 378.1991585493088\n",
      "Epoch  39 | Loss: 377.3256789445877\n",
      "Epoch  40 | Loss: 376.42856776714325\n",
      "Epoch  41 | Loss: 375.6479961872101\n",
      "Epoch  42 | Loss: 374.90919506549835\n",
      "Epoch  43 | Loss: 374.0898553133011\n",
      "Epoch  44 | Loss: 373.32608461380005\n",
      "Epoch  45 | Loss: 372.6125544309616\n",
      "Epoch  46 | Loss: 371.9575800895691\n",
      "Epoch  47 | Loss: 371.2967609167099\n",
      "Epoch  48 | Loss: 370.6161233186722\n",
      "Epoch  49 | Loss: 369.9534504413605\n",
      "Epoch   0 | Loss: 373.84216928482056\n",
      "Epoch   1 | Loss: 328.1026349067688\n",
      "Epoch   2 | Loss: 310.51458632946014\n",
      "Epoch   3 | Loss: 297.3176852464676\n",
      "Epoch   4 | Loss: 290.5941832065582\n",
      "Epoch   5 | Loss: 282.17701637744904\n",
      "Epoch   6 | Loss: 276.3506484031677\n",
      "Epoch   7 | Loss: 267.4358253479004\n",
      "Epoch   8 | Loss: 262.2724561691284\n",
      "Epoch   9 | Loss: 255.1627378463745\n",
      "Epoch  10 | Loss: 249.5087971687317\n",
      "Epoch  11 | Loss: 244.996133685112\n",
      "Epoch  12 | Loss: 239.50280034542084\n",
      "Epoch  13 | Loss: 235.43040263652802\n",
      "Epoch  14 | Loss: 227.68938744068146\n",
      "Epoch  15 | Loss: 223.76241540908813\n",
      "Epoch  16 | Loss: 218.78763735294342\n",
      "Epoch  17 | Loss: 213.36163192987442\n",
      "Epoch  18 | Loss: 208.65074348449707\n",
      "Epoch  19 | Loss: 203.8418284058571\n",
      "Epoch  20 | Loss: 200.43203049898148\n",
      "Epoch  21 | Loss: 193.54556339979172\n",
      "Epoch  22 | Loss: 189.9609323143959\n",
      "Epoch  23 | Loss: 184.41070806980133\n",
      "Epoch  24 | Loss: 178.85240584611893\n",
      "Epoch  25 | Loss: 173.87388187646866\n",
      "Epoch  26 | Loss: 169.33690518140793\n",
      "Epoch  27 | Loss: 162.36999440193176\n",
      "Epoch  28 | Loss: 159.1171790957451\n",
      "Epoch  29 | Loss: 153.66834998130798\n",
      "Epoch  30 | Loss: 148.51100796461105\n",
      "Epoch  31 | Loss: 143.90078902244568\n",
      "Epoch  32 | Loss: 139.68501377105713\n",
      "Epoch  33 | Loss: 135.93694883584976\n",
      "Epoch  34 | Loss: 130.2765840291977\n",
      "Epoch  35 | Loss: 125.03599810600281\n",
      "Epoch  36 | Loss: 120.56741949915886\n",
      "Epoch  37 | Loss: 118.70122763514519\n",
      "Epoch  38 | Loss: 112.57742807269096\n",
      "Epoch  39 | Loss: 110.10305246710777\n",
      "Epoch  40 | Loss: 104.32745200395584\n",
      "Epoch  41 | Loss: 100.4808144569397\n",
      "Epoch  42 | Loss: 97.24637654423714\n",
      "Epoch  43 | Loss: 93.28154528141022\n",
      "Epoch  44 | Loss: 90.72492444515228\n",
      "Epoch  45 | Loss: 85.87877187132835\n",
      "Epoch  46 | Loss: 85.38010743260384\n",
      "Epoch  47 | Loss: 79.18187728524208\n",
      "Epoch  48 | Loss: 77.02872982621193\n",
      "Epoch  49 | Loss: 72.73979891836643\n"
     ]
    },
    {
     "data": {
      "text/plain": [
       "<Figure size 640x480 with 1 Axes>"
      ],
      "image/png": "[encoded data removed]"
     },
     "metadata": {},
     "output_type": "display_data"
    }
   ],
   "execution_count": 10
  },
  {
   "metadata": {},
   "cell_type": "markdown",
   "source": [
    "### 11. MLP 모델 정의 2\n",
    "- Sigmoid를 사용한 기본 Model을 정의합니다."
   ],
   "id": "cfcf9d3a55824b15"
  },
  {
   "metadata": {
    "ExecuteTime": {
     "end_time": "2025-03-28T00:46:20.049478Z",
     "start_time": "2025-03-28T00:46:20.034005Z"
    }
   },
   "cell_type": "code",
   "source": [
    "class Model_Sigmoid(Model):\n",
    "    def __init__(self, input_dim, hidden_dim):\n",
    "        super().__init__(input_dim, hidden_dim)\n",
    "        self.act = nn.Sigmoid()\n",
    "\n",
    "\n",
    "model_sigmoid = Model_Sigmoid(3 * 32 * 32, 1024)"
   ],
   "id": "8214731959ce489b",
   "outputs": [],
   "execution_count": 11
  },
  {
   "metadata": {},
   "cell_type": "markdown",
   "source": "### 12. Plot 2 - LeakyReLU vs Sigmoid (Adam)\n",
   "id": "2b1455f24b481e82"
  },
  {
   "metadata": {
    "ExecuteTime": {
     "end_time": "2025-03-28T00:56:27.064761Z",
     "start_time": "2025-03-28T00:46:22.421919Z"
    }
   },
   "cell_type": "code",
   "source": [
    "leaky_model = model.to('cuda')\n",
    "sigmoid_model = model_sigmoid.to('cuda')\n",
    "\n",
    "leaky_accs = train(leaky_model, Adam(leaky_model.parameters(), lr=0.001))\n",
    "sigmoid_accs = train(sigmoid_model, Adam(sigmoid_model.parameters(), lr=0.001))\n",
    "\n",
    "plot_acc([leaky_accs, sigmoid_accs], [\"LeakyReLU\", \"Sigmoid\"], \"Train Accuracy: LeakyReLU vs Sigmoid\")"
   ],
   "id": "a589854167e81278",
   "outputs": [
    {
     "name": "stdout",
     "output_type": "stream",
     "text": [
      "Epoch   0 | Loss: 74.07212841510773\n",
      "Epoch   1 | Loss: 69.59333181381226\n",
      "Epoch   2 | Loss: 65.93355914950371\n",
      "Epoch   3 | Loss: 65.47293744981289\n",
      "Epoch   4 | Loss: 62.28989163041115\n",
      "Epoch   5 | Loss: 59.777705773711205\n",
      "Epoch   6 | Loss: 60.771269008517265\n",
      "Epoch   7 | Loss: 58.047598868608475\n",
      "Epoch   8 | Loss: 55.114128455519676\n",
      "Epoch   9 | Loss: 50.25709445774555\n",
      "Epoch  10 | Loss: 49.13353829085827\n",
      "Epoch  11 | Loss: 49.64255014061928\n",
      "Epoch  12 | Loss: 51.902634382247925\n",
      "Epoch  13 | Loss: 49.32301849126816\n",
      "Epoch  14 | Loss: 50.408396139740944\n",
      "Epoch  15 | Loss: 50.25848099589348\n",
      "Epoch  16 | Loss: 44.928095795214176\n",
      "Epoch  17 | Loss: 40.20495194196701\n",
      "Epoch  18 | Loss: 42.02452892810106\n",
      "Epoch  19 | Loss: 39.76926797628403\n",
      "Epoch  20 | Loss: 41.07203055173159\n",
      "Epoch  21 | Loss: 40.1163060888648\n",
      "Epoch  22 | Loss: 37.038579024374485\n",
      "Epoch  23 | Loss: 34.152844816446304\n",
      "Epoch  24 | Loss: 36.91007722169161\n",
      "Epoch  25 | Loss: 45.85758224129677\n",
      "Epoch  26 | Loss: 46.900957845151424\n",
      "Epoch  27 | Loss: 32.578624211251736\n",
      "Epoch  28 | Loss: 27.320616610348225\n",
      "Epoch  29 | Loss: 30.294476732611656\n",
      "Epoch  30 | Loss: 36.2715837135911\n",
      "Epoch  31 | Loss: 34.72754120826721\n",
      "Epoch  32 | Loss: 31.184092432260513\n",
      "Epoch  33 | Loss: 31.749364338815212\n",
      "Epoch  34 | Loss: 32.97579590976238\n",
      "Epoch  35 | Loss: 31.416301675140858\n",
      "Epoch  36 | Loss: 31.49782144278288\n",
      "Epoch  37 | Loss: 32.72799554467201\n",
      "Epoch  38 | Loss: 31.409092746675014\n",
      "Epoch  39 | Loss: 31.88639111816883\n",
      "Epoch  40 | Loss: 27.442017763853073\n",
      "Epoch  41 | Loss: 27.45773082971573\n",
      "Epoch  42 | Loss: 28.87511433660984\n",
      "Epoch  43 | Loss: 27.42715450003743\n",
      "Epoch  44 | Loss: 29.372261431068182\n",
      "Epoch  45 | Loss: 24.855241633951664\n",
      "Epoch  46 | Loss: 33.359494633972645\n",
      "Epoch  47 | Loss: 23.06678443402052\n",
      "Epoch  48 | Loss: 29.129584424197674\n",
      "Epoch  49 | Loss: 24.07001893594861\n",
      "Epoch   0 | Loss: 383.08071994781494\n",
      "Epoch   1 | Loss: 335.8785227537155\n",
      "Epoch   2 | Loss: 317.6985881328583\n",
      "Epoch   3 | Loss: 305.34819316864014\n",
      "Epoch   4 | Loss: 295.94701874256134\n",
      "Epoch   5 | Loss: 289.33701372146606\n",
      "Epoch   6 | Loss: 283.7491407394409\n",
      "Epoch   7 | Loss: 277.3300256729126\n",
      "Epoch   8 | Loss: 272.01799857616425\n",
      "Epoch   9 | Loss: 268.5168615579605\n",
      "Epoch  10 | Loss: 261.5059653520584\n",
      "Epoch  11 | Loss: 258.52314019203186\n",
      "Epoch  12 | Loss: 254.3839863538742\n",
      "Epoch  13 | Loss: 251.1819280385971\n",
      "Epoch  14 | Loss: 245.14309060573578\n",
      "Epoch  15 | Loss: 241.31366908550262\n",
      "Epoch  16 | Loss: 237.94057440757751\n",
      "Epoch  17 | Loss: 234.25414264202118\n",
      "Epoch  18 | Loss: 230.1214781999588\n",
      "Epoch  19 | Loss: 226.11097264289856\n",
      "Epoch  20 | Loss: 225.84493589401245\n",
      "Epoch  21 | Loss: 217.56440371274948\n",
      "Epoch  22 | Loss: 215.9280349612236\n",
      "Epoch  23 | Loss: 212.32385051250458\n",
      "Epoch  24 | Loss: 209.7335902452469\n",
      "Epoch  25 | Loss: 205.3595244884491\n",
      "Epoch  26 | Loss: 201.88553422689438\n",
      "Epoch  27 | Loss: 200.60244208574295\n",
      "Epoch  28 | Loss: 195.47422528266907\n",
      "Epoch  29 | Loss: 192.09856635332108\n",
      "Epoch  30 | Loss: 187.72410416603088\n",
      "Epoch  31 | Loss: 184.03388822078705\n",
      "Epoch  32 | Loss: 182.1570999622345\n",
      "Epoch  33 | Loss: 177.94899660348892\n",
      "Epoch  34 | Loss: 176.74052208662033\n",
      "Epoch  35 | Loss: 172.19306933879852\n",
      "Epoch  36 | Loss: 168.88756263256073\n",
      "Epoch  37 | Loss: 167.8550243973732\n",
      "Epoch  38 | Loss: 163.3995589017868\n",
      "Epoch  39 | Loss: 161.05725300312042\n",
      "Epoch  40 | Loss: 155.24383997917175\n",
      "Epoch  41 | Loss: 153.64351111650467\n",
      "Epoch  42 | Loss: 151.51309716701508\n",
      "Epoch  43 | Loss: 148.52563166618347\n",
      "Epoch  44 | Loss: 145.52804446220398\n",
      "Epoch  45 | Loss: 143.47076165676117\n",
      "Epoch  46 | Loss: 138.9876189827919\n",
      "Epoch  47 | Loss: 137.41632843017578\n",
      "Epoch  48 | Loss: 133.63493865728378\n",
      "Epoch  49 | Loss: 133.03213393688202\n"
     ]
    },
    {
     "data": {
      "text/plain": [
       "<Figure size 640x480 with 1 Axes>"
      ],
      "image/png": "[encoded data removed]"
     },
     "metadata": {},
     "output_type": "display_data"
    }
   ],
   "execution_count": 12
  },
  {
   "metadata": {},
   "cell_type": "markdown",
   "source": [
    "### 13. MLP 모델 정의 3\n",
    "- LeakyReLU + Dropout를 적용한 Model을 정의합니다."
   ],
   "id": "e415cc62b4222636"
  },
  {
   "metadata": {
    "ExecuteTime": {
     "end_time": "2025-03-28T00:56:39.831098Z",
     "start_time": "2025-03-28T00:56:39.814088Z"
    }
   },
   "cell_type": "code",
   "source": [
    "class Model_Dropout(nn.Module):\n",
    "    def __init__(self, input_dim, hidden_dim):\n",
    "        super().__init__()\n",
    "        self.layer1 = nn.Linear(input_dim, hidden_dim)\n",
    "        self.layer2 = nn.Linear(hidden_dim, hidden_dim)\n",
    "        self.layer3 = nn.Linear(hidden_dim, 10)\n",
    "        self.act = nn.LeakyReLU()\n",
    "        self.dropout = nn.Dropout(0.1)\n",
    "\n",
    "    def forward(self, x):\n",
    "        x = torch.flatten(x, start_dim=1)\n",
    "        x = self.dropout(self.act(self.layer1(x)))\n",
    "        x = self.dropout(self.act(self.layer2(x)))\n",
    "        x = self.layer3(x)\n",
    "        return x\n",
    "\n",
    "\n",
    "model_dropout = Model_Dropout(3 * 32 * 32, 1024)"
   ],
   "id": "30ba77c4804bf9ea",
   "outputs": [],
   "execution_count": 14
  },
  {
   "metadata": {},
   "cell_type": "markdown",
   "source": "### 14. Plot 3 - Dropout 모델의 Train/Test Accuracy",
   "id": "53354453a8caf48a"
  },
  {
   "metadata": {
    "ExecuteTime": {
     "end_time": "2025-03-28T01:21:10.957537Z",
     "start_time": "2025-03-28T01:15:52.160912Z"
    }
   },
   "cell_type": "code",
   "source": [
    "dropout_model = model_dropout.to('cuda')\n",
    "optimizer = Adam(model_dropout.parameters(), lr=0.001)\n",
    "\n",
    "n_epochs = 50\n",
    "train_accs = []\n",
    "test_accs = []\n",
    "\n",
    "for epoch in range(n_epochs):\n",
    "    dropout_model.train()\n",
    "    for data in trainloader:\n",
    "        inputs, labels = data\n",
    "        inputs, labels = inputs.to('cuda'), labels.to('cuda')\n",
    "\n",
    "        optimizer.zero_grad()\n",
    "        pred = dropout_model(inputs)\n",
    "        loss = nn.CrossEntropyLoss()(pred, labels)\n",
    "        loss.backward()\n",
    "        optimizer.step()\n",
    "\n",
    "    with torch.no_grad():\n",
    "        dropout_model.eval()\n",
    "        train_accs.append(accuracy(dropout_model, trainloader))\n",
    "        test_accs.append(accuracy(dropout_model, testloader))\n",
    "    print(f\"Epoch {epoch + 1:3d} | Train: {train_accs[-1]:.4f}, Test: {test_accs[-1]:.4f}\")\n",
    "\n",
    "plot_acc([train_accs, test_accs], [\"Train\", \"Test\"], \"Train/Test Accuracy with Dropout\")"
   ],
   "id": "5e84916affd73f6e",
   "outputs": [
    {
     "name": "stdout",
     "output_type": "stream",
     "text": [
      "Epoch   1 | Train: 0.7812, Test: 0.5481\n",
      "Epoch   2 | Train: 0.7736, Test: 0.5513\n",
      "Epoch   3 | Train: 0.7905, Test: 0.5521\n",
      "Epoch   4 | Train: 0.7642, Test: 0.5348\n",
      "Epoch   5 | Train: 0.7806, Test: 0.5433\n",
      "Epoch   6 | Train: 0.7852, Test: 0.5481\n",
      "Epoch   7 | Train: 0.8013, Test: 0.5471\n",
      "Epoch   8 | Train: 0.8049, Test: 0.5454\n",
      "Epoch   9 | Train: 0.8013, Test: 0.5434\n",
      "Epoch  10 | Train: 0.8072, Test: 0.5456\n",
      "Epoch  11 | Train: 0.7965, Test: 0.5405\n",
      "Epoch  12 | Train: 0.8179, Test: 0.5497\n",
      "Epoch  13 | Train: 0.8090, Test: 0.5443\n",
      "Epoch  14 | Train: 0.8088, Test: 0.5448\n",
      "Epoch  15 | Train: 0.8171, Test: 0.5404\n",
      "Epoch  16 | Train: 0.8244, Test: 0.5477\n",
      "Epoch  17 | Train: 0.8245, Test: 0.5400\n",
      "Epoch  18 | Train: 0.8294, Test: 0.5418\n",
      "Epoch  19 | Train: 0.8234, Test: 0.5372\n",
      "Epoch  20 | Train: 0.8306, Test: 0.5470\n",
      "Epoch  21 | Train: 0.8370, Test: 0.5430\n",
      "Epoch  22 | Train: 0.8363, Test: 0.5429\n",
      "Epoch  23 | Train: 0.8478, Test: 0.5384\n",
      "Epoch  24 | Train: 0.8338, Test: 0.5398\n",
      "Epoch  25 | Train: 0.8391, Test: 0.5391\n",
      "Epoch  26 | Train: 0.8431, Test: 0.5448\n",
      "Epoch  27 | Train: 0.8458, Test: 0.5400\n",
      "Epoch  28 | Train: 0.8582, Test: 0.5424\n",
      "Epoch  29 | Train: 0.8498, Test: 0.5366\n",
      "Epoch  30 | Train: 0.8684, Test: 0.5498\n",
      "Epoch  31 | Train: 0.8562, Test: 0.5362\n",
      "Epoch  32 | Train: 0.8569, Test: 0.5403\n",
      "Epoch  33 | Train: 0.8464, Test: 0.5297\n",
      "Epoch  34 | Train: 0.8583, Test: 0.5399\n",
      "Epoch  35 | Train: 0.8650, Test: 0.5414\n",
      "Epoch  36 | Train: 0.8647, Test: 0.5428\n",
      "Epoch  37 | Train: 0.8709, Test: 0.5399\n",
      "Epoch  38 | Train: 0.8669, Test: 0.5421\n",
      "Epoch  39 | Train: 0.8654, Test: 0.5435\n",
      "Epoch  40 | Train: 0.8718, Test: 0.5433\n",
      "Epoch  41 | Train: 0.8644, Test: 0.5359\n",
      "Epoch  42 | Train: 0.8826, Test: 0.5426\n",
      "Epoch  43 | Train: 0.8868, Test: 0.5406\n",
      "Epoch  44 | Train: 0.8801, Test: 0.5399\n",
      "Epoch  45 | Train: 0.8946, Test: 0.5465\n",
      "Epoch  46 | Train: 0.8754, Test: 0.5402\n",
      "Epoch  47 | Train: 0.8803, Test: 0.5400\n",
      "Epoch  48 | Train: 0.8857, Test: 0.5408\n",
      "Epoch  49 | Train: 0.8855, Test: 0.5455\n",
      "Epoch  50 | Train: 0.8820, Test: 0.5406\n"
     ]
    },
    {
     "data": {
      "text/plain": [
       "<Figure size 640x480 with 1 Axes>"
      ],
      "image/png": "[encoded data removed]"
     },
     "metadata": {},
     "output_type": "display_data"
    }
   ],
   "execution_count": 16
  }
 ],
 "metadata": {
  "kernelspec": {
   "display_name": "Python 3",
   "language": "python",
   "name": "python3"
  },
  "language_info": {
   "codemirror_mode": {
    "name": "ipython",
    "version": 2
   },
   "file_extension": ".py",
   "mimetype": "text/x-python",
   "name": "python",
   "nbconvert_exporter": "python",
   "pygments_lexer": "ipython2",
   "version": "2.7.6"
  }
 },
 "nbformat": 4,
 "nbformat_minor": 5
}
