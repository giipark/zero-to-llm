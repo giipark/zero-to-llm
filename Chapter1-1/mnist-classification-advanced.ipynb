{
 "cells": [
  {
   "metadata": {},
   "cell_type": "markdown",
   "source": [
    "## [1주차] 심화과제 - MNIST 예측 모델에 deep learning techniques 적용하기\n",
    "\n",
    "과제 목표: 기존 mnist-classification-basic 에서 구현한 코드를 기반으로, 필요한 부분을 수정하거나 기능을 추가합니다.\n",
    "\n",
    "### 1. 필요한 라이브러리 import"
   ],
   "id": "a8093f470ee8403f"
  },
  {
   "metadata": {
    "ExecuteTime": {
     "end_time": "2025-03-28T01:33:31.013053Z",
     "start_time": "2025-03-28T01:33:27.404193Z"
    }
   },
   "cell_type": "code",
   "source": [
    "import torch\n",
    "import torchvision\n",
    "import torchvision.transforms as transforms"
   ],
   "id": "72f6fcf7732aec2b",
   "outputs": [],
   "execution_count": 1
  },
  {
   "metadata": {},
   "cell_type": "markdown",
   "source": [
    "### 2. CIFAR10 Dataset 로딩\n",
    "- Dataset을 MNIST에서 CIFAR10으로 변경해줍니다."
   ],
   "id": "87d1a42ee8905590"
  },
  {
   "metadata": {
    "ExecuteTime": {
     "end_time": "2025-03-28T01:34:19.137020Z",
     "start_time": "2025-03-28T01:33:56.097471Z"
    }
   },
   "cell_type": "code",
   "source": [
    "transform = transforms.ToTensor()\n",
    "\n",
    "trainset = torchvision.datasets.CIFAR10(\n",
    "    root='./data',\n",
    "    train=True,\n",
    "    download=True,\n",
    "    transform=transform\n",
    ")\n",
    "\n",
    "testset = torchvision.datasets.CIFAR10(\n",
    "    root='./data',\n",
    "    train=False,\n",
    "    download=True,\n",
    "    transform=transform\n",
    ")"
   ],
   "id": "de07d2c76c1dec8d",
   "outputs": [
    {
     "name": "stderr",
     "output_type": "stream",
     "text": [
      "100.0%\n"
     ]
    }
   ],
   "execution_count": 2
  },
  {
   "metadata": {},
   "cell_type": "markdown",
   "source": [
    "### 3. 데이터 확인\n",
    "- CIFAR10은 MNIST와 다른 입력 shape을 가지고 있습니다.\n",
    "- 입력 shape은 model을 선언할 때 중요하기 때문에 MNIST 실습 자료에서 사용한 방식과 똑같이 shape을 확인합니다."
   ],
   "id": "57ae512b74ef10e5"
  },
  {
   "metadata": {
    "ExecuteTime": {
     "end_time": "2025-03-28T01:34:27.923367Z",
     "start_time": "2025-03-28T01:34:27.593078Z"
    }
   },
   "cell_type": "code",
   "source": [
    "from matplotlib import pyplot as plt\n",
    "\n",
    "print(len(trainset))\n",
    "print(trainset[0][0].shape, trainset[0][1])\n",
    "plt.imshow(trainset[0][0][0], cmap='gray')"
   ],
   "id": "3e1f594ee2801f78",
   "outputs": [
    {
     "name": "stdout",
     "output_type": "stream",
     "text": [
      "50000\n",
      "torch.Size([3, 32, 32]) 6\n"
     ]
    },
    {
     "data": {
      "text/plain": [
       "<matplotlib.image.AxesImage at 0x191d3a9a0d0>"
      ]
     },
     "execution_count": 3,
     "metadata": {},
     "output_type": "execute_result"
    },
    {
     "data": {
      "text/plain": [
       "<Figure size 640x480 with 1 Axes>"
      ],
      "image/png": "[encoded data removed]"
     },
     "metadata": {},
     "output_type": "display_data"
    }
   ],
   "execution_count": 3
  },
  {
   "metadata": {},
   "cell_type": "markdown",
   "source": "### 4. DataLoader 생성",
   "id": "ff294e7dd17d98c5"
  },
  {
   "metadata": {
    "ExecuteTime": {
     "end_time": "2025-03-28T01:36:09.142612Z",
     "start_time": "2025-03-28T01:36:09.138674Z"
    }
   },
   "cell_type": "code",
   "source": [
    "batch_size = 256\n",
    "\n",
    "trainloader = torch.utils.data.DataLoader(\n",
    "    trainset,\n",
    "    batch_size=batch_size,\n",
    "    shuffle=True\n",
    ")\n",
    "\n",
    "testloader = torch.utils.data.DataLoader(\n",
    "    testset,\n",
    "    batch_size=batch_size,\n",
    "    shuffle=False\n",
    ")"
   ],
   "id": "a097995e11c8a07a",
   "outputs": [],
   "execution_count": 4
  },
  {
   "metadata": {},
   "cell_type": "markdown",
   "source": "### 5. 첫 번째 batch 확인",
   "id": "4e69fbe7bfad5e0f"
  },
  {
   "metadata": {
    "ExecuteTime": {
     "end_time": "2025-03-28T01:36:15.229658Z",
     "start_time": "2025-03-28T01:36:15.201636Z"
    }
   },
   "cell_type": "code",
   "source": [
    "dataiter = iter(trainloader)\n",
    "images, labels = next(dataiter)\n",
    "print(images.shape, labels.shape)"
   ],
   "id": "7c48b66f4029f5be",
   "outputs": [
    {
     "name": "stdout",
     "output_type": "stream",
     "text": [
      "torch.Size([256, 3, 32, 32]) torch.Size([256])\n"
     ]
    }
   ],
   "execution_count": 5
  },
  {
   "metadata": {},
   "cell_type": "markdown",
   "source": [
    "### 6. MLP 모델 정의\n",
    "- Activation 함수를 nn.ReLU에서 nn.LeakyReLU로 변경합니다.\n",
    "- CIFAR10은 (3, 32, 32) size 이므로, **Model(3 * 32 * 32, 1024)로 생성**합니다.\n",
    "- LeakyReLU를 사용한 기본 Model을 정의합니다."
   ],
   "id": "5a65f76d38ee5ea"
  },
  {
   "metadata": {
    "ExecuteTime": {
     "end_time": "2025-03-28T01:36:48.105053Z",
     "start_time": "2025-03-28T01:36:48.089537Z"
    }
   },
   "cell_type": "code",
   "source": [
    "from torch import nn\n",
    "\n",
    "\n",
    "class Model(nn.Module):\n",
    "    def __init__(self, input_dim, n_dim):\n",
    "        super().__init__()\n",
    "        self.layer1 = nn.Linear(input_dim, n_dim)\n",
    "        self.layer2 = nn.Linear(n_dim, n_dim)\n",
    "        self.layer3 = nn.Linear(n_dim, 10)\n",
    "        self.act = nn.LeakyReLU()\n",
    "\n",
    "    def forward(self, x):\n",
    "        x = torch.flatten(x, start_dim=1)\n",
    "        x = self.act(self.layer1(x))\n",
    "        x = self.act(self.layer2(x))\n",
    "        x = self.layer3(x)\n",
    "        return x\n",
    "\n",
    "\n",
    "model = Model(3 * 32 * 32, 1024)"
   ],
   "id": "8a371b146896f15a",
   "outputs": [],
   "execution_count": 6
  },
  {
   "metadata": {},
   "cell_type": "markdown",
   "source": "### 7. 정확도 측정 함수 정의",
   "id": "b745ce862202824b"
  },
  {
   "metadata": {
    "ExecuteTime": {
     "end_time": "2025-03-28T01:39:43.888636Z",
     "start_time": "2025-03-28T01:39:43.884312Z"
    }
   },
   "cell_type": "code",
   "source": [
    "def accuracy(model, dataloader):\n",
    "    cnt = 0\n",
    "    acc = 0\n",
    "\n",
    "    model.eval()\n",
    "    with torch.no_grad():\n",
    "        for data in dataloader:\n",
    "            inputs, labels = data\n",
    "            inputs, labels = inputs.to('cuda'), labels.to('cuda')\n",
    "\n",
    "            preds = model(inputs)\n",
    "            preds = torch.argmax(preds, dim=-1)\n",
    "\n",
    "            cnt += labels.shape[0]\n",
    "            acc += (labels == preds).sum().item()\n",
    "    model.train()\n",
    "    return acc / cnt"
   ],
   "id": "bec1607c1982fb0e",
   "outputs": [],
   "execution_count": 7
  },
  {
   "metadata": {},
   "cell_type": "markdown",
   "source": [
    "### 8. 모델 학습\n",
    "- 학습 인자는 n_epochs = 50 으로 설정합니다.\n",
    "- 여러 모델을 학습시키기 위해서 모델 학습 함수를 따로 정의합니다.\n",
    "    - Model: LeakyReLU() 사용한 기본 Model\n",
    "    - Model_Sigmoid: Sigmoid() 사용한 기본 Model"
   ],
   "id": "6b329b01afccb6e5"
  },
  {
   "metadata": {
    "ExecuteTime": {
     "end_time": "2025-03-28T01:49:17.291346Z",
     "start_time": "2025-03-28T01:49:17.287711Z"
    }
   },
   "cell_type": "code",
   "source": [
    "def train(model, optimizer):\n",
    "    n_epochs = 50\n",
    "    model = model.to('cuda')\n",
    "    train_accs = []\n",
    "\n",
    "    for epoch in range(n_epochs):\n",
    "        total_loss = 0.\n",
    "\n",
    "        for data in trainloader:\n",
    "            inputs, labels = data\n",
    "            inputs, labels = inputs.to('cuda'), labels.to('cuda')\n",
    "\n",
    "            optimizer.zero_grad()\n",
    "            preds = model(inputs)\n",
    "            loss = nn.CrossEntropyLoss()(preds, labels)\n",
    "            loss.backward()\n",
    "            optimizer.step()\n",
    "\n",
    "            total_loss += loss.item()\n",
    "\n",
    "        train_acc = accuracy(model, trainloader)\n",
    "        train_accs.append(train_acc)\n",
    "\n",
    "        print(f\"Epoch {epoch:3d} | Loss: {total_loss}\")\n",
    "\n",
    "    return train_accs"
   ],
   "id": "a6c1a43282965071",
   "outputs": [],
   "execution_count": 8
  },
  {
   "metadata": {},
   "cell_type": "markdown",
   "source": [
    "### 9. 정확도 시각화\n",
    "- 정확도 시각화를 위한 함수를 정의합니다."
   ],
   "id": "b70f7683a458f8a5"
  },
  {
   "metadata": {
    "ExecuteTime": {
     "end_time": "2025-03-28T01:49:22.973120Z",
     "start_time": "2025-03-28T01:49:22.969785Z"
    }
   },
   "cell_type": "code",
   "source": [
    "def plot_acc(acc_lists, labels, title):\n",
    "    for acc, label in zip(acc_lists, labels):\n",
    "        x = np.arange(len(acc))\n",
    "        plt.plot(x, acc, label=label)\n",
    "    plt.xlabel('Epoch')\n",
    "    plt.ylabel('Accuracy')\n",
    "    plt.legend()\n",
    "    plt.title(title)\n",
    "    plt.show()"
   ],
   "id": "7a21cdf7fd3af2af",
   "outputs": [],
   "execution_count": 9
  },
  {
   "metadata": {},
   "cell_type": "markdown",
   "source": "### 10. Plot 1 - SGD vs Adam",
   "id": "26870f8a84c5669a"
  },
  {
   "metadata": {
    "ExecuteTime": {
     "end_time": "2025-03-28T01:59:38.940313Z",
     "start_time": "2025-03-28T01:49:26.190365Z"
    }
   },
   "cell_type": "code",
   "source": [
    "from torch.optim import SGD, Adam\n",
    "import numpy as np\n",
    "\n",
    "sgd_model = model.to('cuda')\n",
    "adam_model = model.to('cuda')\n",
    "\n",
    "sgd_accs = train(sgd_model, SGD(sgd_model.parameters(), lr=0.001))\n",
    "adam_accs = train(adam_model, Adam(adam_model.parameters(), lr=0.001))\n",
    "\n",
    "plot_acc([sgd_accs, adam_accs], [\"SGD\", \"Adam\"], \"Train Accuracy: SGD vs Adam\")"
   ],
   "id": "2cbee2db1e526d60",
   "outputs": [
    {
     "name": "stdout",
     "output_type": "stream",
     "text": [
      "Epoch   0 | Loss: 449.7118396759033\n",
      "Epoch   1 | Loss: 447.6072657108307\n",
      "Epoch   2 | Loss: 445.68342995643616\n",
      "Epoch   3 | Loss: 443.7384629249573\n",
      "Epoch   4 | Loss: 441.6965036392212\n",
      "Epoch   5 | Loss: 439.511878490448\n",
      "Epoch   6 | Loss: 437.13055539131165\n",
      "Epoch   7 | Loss: 434.58496022224426\n",
      "Epoch   8 | Loss: 431.89638805389404\n",
      "Epoch   9 | Loss: 429.0262396335602\n",
      "Epoch  10 | Loss: 426.03916335105896\n",
      "Epoch  11 | Loss: 422.975625038147\n",
      "Epoch  12 | Loss: 419.89524960517883\n",
      "Epoch  13 | Loss: 416.9048504829407\n",
      "Epoch  14 | Loss: 414.084734916687\n",
      "Epoch  15 | Loss: 411.35818433761597\n",
      "Epoch  16 | Loss: 408.83638405799866\n",
      "Epoch  17 | Loss: 406.47101759910583\n",
      "Epoch  18 | Loss: 404.25576090812683\n",
      "Epoch  19 | Loss: 402.15059995651245\n",
      "Epoch  20 | Loss: 400.25176894664764\n",
      "Epoch  21 | Loss: 398.3299922943115\n",
      "Epoch  22 | Loss: 396.61308217048645\n",
      "Epoch  23 | Loss: 395.01166009902954\n",
      "Epoch  24 | Loss: 393.403155207634\n",
      "Epoch  25 | Loss: 391.81475472450256\n",
      "Epoch  26 | Loss: 390.3923290967941\n",
      "Epoch  27 | Loss: 389.0022705793381\n",
      "Epoch  28 | Loss: 387.69058752059937\n",
      "Epoch  29 | Loss: 386.4658488035202\n",
      "Epoch  30 | Loss: 385.26862251758575\n",
      "Epoch  31 | Loss: 384.05531096458435\n",
      "Epoch  32 | Loss: 382.95535588264465\n",
      "Epoch  33 | Loss: 381.83694863319397\n",
      "Epoch  34 | Loss: 380.89313542842865\n",
      "Epoch  35 | Loss: 379.9118973016739\n",
      "Epoch  36 | Loss: 379.0242578983307\n",
      "Epoch  37 | Loss: 378.1561050415039\n",
      "Epoch  38 | Loss: 377.25214755535126\n",
      "Epoch  39 | Loss: 376.5433408021927\n",
      "Epoch  40 | Loss: 375.71009862422943\n",
      "Epoch  41 | Loss: 374.83707642555237\n",
      "Epoch  42 | Loss: 374.13963985443115\n",
      "Epoch  43 | Loss: 373.3188371658325\n",
      "Epoch  44 | Loss: 372.7341787815094\n",
      "Epoch  45 | Loss: 372.07279574871063\n",
      "Epoch  46 | Loss: 371.4575123786926\n",
      "Epoch  47 | Loss: 370.83483707904816\n",
      "Epoch  48 | Loss: 370.1573669910431\n",
      "Epoch  49 | Loss: 369.6585956811905\n",
      "Epoch   0 | Loss: 385.37459087371826\n",
      "Epoch   1 | Loss: 330.46299052238464\n",
      "Epoch   2 | Loss: 311.70027256011963\n",
      "Epoch   3 | Loss: 300.1900063753128\n",
      "Epoch   4 | Loss: 290.7984654903412\n",
      "Epoch   5 | Loss: 281.77979922294617\n",
      "Epoch   6 | Loss: 274.9831100702286\n",
      "Epoch   7 | Loss: 270.28799748420715\n",
      "Epoch   8 | Loss: 263.0417102575302\n",
      "Epoch   9 | Loss: 256.51588344573975\n",
      "Epoch  10 | Loss: 250.60518383979797\n",
      "Epoch  11 | Loss: 245.6668939590454\n",
      "Epoch  12 | Loss: 241.25032198429108\n",
      "Epoch  13 | Loss: 235.0811453461647\n",
      "Epoch  14 | Loss: 229.86256682872772\n",
      "Epoch  15 | Loss: 223.59883534908295\n",
      "Epoch  16 | Loss: 219.0980790257454\n",
      "Epoch  17 | Loss: 214.6009566783905\n",
      "Epoch  18 | Loss: 209.38432723283768\n",
      "Epoch  19 | Loss: 204.0341991186142\n",
      "Epoch  20 | Loss: 199.63921129703522\n",
      "Epoch  21 | Loss: 192.87248051166534\n",
      "Epoch  22 | Loss: 189.1000738143921\n",
      "Epoch  23 | Loss: 184.91486793756485\n",
      "Epoch  24 | Loss: 179.23240619897842\n",
      "Epoch  25 | Loss: 172.34860944747925\n",
      "Epoch  26 | Loss: 168.58008724451065\n",
      "Epoch  27 | Loss: 162.58670711517334\n",
      "Epoch  28 | Loss: 160.01823419332504\n",
      "Epoch  29 | Loss: 154.96783542633057\n",
      "Epoch  30 | Loss: 150.96035307645798\n",
      "Epoch  31 | Loss: 143.38783085346222\n",
      "Epoch  32 | Loss: 141.27221781015396\n",
      "Epoch  33 | Loss: 134.31714123487473\n",
      "Epoch  34 | Loss: 129.06219506263733\n",
      "Epoch  35 | Loss: 127.51327821612358\n",
      "Epoch  36 | Loss: 121.79528668522835\n",
      "Epoch  37 | Loss: 118.67272108793259\n",
      "Epoch  38 | Loss: 113.19279465079308\n",
      "Epoch  39 | Loss: 109.68471658229828\n",
      "Epoch  40 | Loss: 107.32619944214821\n",
      "Epoch  41 | Loss: 104.4042926132679\n",
      "Epoch  42 | Loss: 99.11889788508415\n",
      "Epoch  43 | Loss: 95.07199490070343\n",
      "Epoch  44 | Loss: 91.49814671278\n",
      "Epoch  45 | Loss: 88.18491491675377\n",
      "Epoch  46 | Loss: 84.98553895950317\n",
      "Epoch  47 | Loss: 82.9706434905529\n",
      "Epoch  48 | Loss: 81.8870452940464\n",
      "Epoch  49 | Loss: 79.75692826509476\n"
     ]
    },
    {
     "data": {
      "text/plain": [
       "<Figure size 640x480 with 1 Axes>"
      ],
      "image/png": "[encoded data removed]"
     },
     "metadata": {},
     "output_type": "display_data"
    }
   ],
   "execution_count": 10
  },
  {
   "metadata": {},
   "cell_type": "markdown",
   "source": [
    "### 11. MLP 모델 정의 2\n",
    "- Sigmoid를 사용한 기본 Model을 정의합니다."
   ],
   "id": "cfcf9d3a55824b15"
  },
  {
   "metadata": {
    "ExecuteTime": {
     "end_time": "2025-03-28T02:02:17.484044Z",
     "start_time": "2025-03-28T02:02:17.469573Z"
    }
   },
   "cell_type": "code",
   "source": [
    "class Model_Sigmoid(Model):\n",
    "    def __init__(self, input_dim, n_dim):\n",
    "        super().__init__(input_dim, n_dim)\n",
    "        self.act = nn.Sigmoid()\n",
    "\n",
    "\n",
    "model_sigmoid = Model_Sigmoid(3 * 32 * 32, 1024)"
   ],
   "id": "8214731959ce489b",
   "outputs": [],
   "execution_count": 11
  },
  {
   "metadata": {},
   "cell_type": "markdown",
   "source": "### 12. Plot 2 - LeakyReLU vs Sigmoid (Adam)\n",
   "id": "2b1455f24b481e82"
  },
  {
   "metadata": {
    "ExecuteTime": {
     "end_time": "2025-03-28T02:13:26.067471Z",
     "start_time": "2025-03-28T02:03:06.215065Z"
    }
   },
   "cell_type": "code",
   "source": [
    "leaky_model = model.to('cuda')\n",
    "sigmoid_model = model_sigmoid.to('cuda')\n",
    "\n",
    "leaky_accs = train(leaky_model, Adam(leaky_model.parameters(), lr=0.001))\n",
    "sigmoid_accs = train(sigmoid_model, Adam(sigmoid_model.parameters(), lr=0.001))\n",
    "\n",
    "plot_acc([leaky_accs, sigmoid_accs], [\"LeakyReLU\", \"Sigmoid\"], \"Train Accuracy: LeakyReLU vs Sigmoid\")"
   ],
   "id": "a589854167e81278",
   "outputs": [
    {
     "name": "stdout",
     "output_type": "stream",
     "text": [
      "Epoch   0 | Loss: 76.51177825033665\n",
      "Epoch   1 | Loss: 72.61214435100555\n",
      "Epoch   2 | Loss: 70.45125459134579\n",
      "Epoch   3 | Loss: 66.83101800084114\n",
      "Epoch   4 | Loss: 64.31021389365196\n",
      "Epoch   5 | Loss: 63.373185217380524\n",
      "Epoch   6 | Loss: 58.37818856537342\n",
      "Epoch   7 | Loss: 59.095650032162666\n",
      "Epoch   8 | Loss: 56.77429239451885\n",
      "Epoch   9 | Loss: 56.23578928411007\n",
      "Epoch  10 | Loss: 52.86151297390461\n",
      "Epoch  11 | Loss: 50.91740320622921\n",
      "Epoch  12 | Loss: 53.21629962325096\n",
      "Epoch  13 | Loss: 49.422660037875175\n",
      "Epoch  14 | Loss: 50.71787005662918\n",
      "Epoch  15 | Loss: 46.12648367881775\n",
      "Epoch  16 | Loss: 49.11659999191761\n",
      "Epoch  17 | Loss: 42.11304022371769\n",
      "Epoch  18 | Loss: 45.43121959269047\n",
      "Epoch  19 | Loss: 40.965702541172504\n",
      "Epoch  20 | Loss: 42.267253793776035\n",
      "Epoch  21 | Loss: 43.79279463738203\n",
      "Epoch  22 | Loss: 43.44035071879625\n",
      "Epoch  23 | Loss: 36.321511536836624\n",
      "Epoch  24 | Loss: 38.49526962637901\n",
      "Epoch  25 | Loss: 36.03624918311834\n",
      "Epoch  26 | Loss: 36.394092939794064\n",
      "Epoch  27 | Loss: 37.41916175186634\n",
      "Epoch  28 | Loss: 36.83122833073139\n",
      "Epoch  29 | Loss: 33.867382265627384\n",
      "Epoch  30 | Loss: 34.90852441638708\n",
      "Epoch  31 | Loss: 38.09844482690096\n",
      "Epoch  32 | Loss: 33.254362136125565\n",
      "Epoch  33 | Loss: 31.95572390407324\n",
      "Epoch  34 | Loss: 37.13155996054411\n",
      "Epoch  35 | Loss: 31.943880520761013\n",
      "Epoch  36 | Loss: 27.484274171292782\n",
      "Epoch  37 | Loss: 24.851125966757536\n",
      "Epoch  38 | Loss: 31.63010945916176\n",
      "Epoch  39 | Loss: 41.228778310120106\n",
      "Epoch  40 | Loss: 36.477210484445095\n",
      "Epoch  41 | Loss: 28.959228482097387\n",
      "Epoch  42 | Loss: 23.559329260140657\n",
      "Epoch  43 | Loss: 24.458990179002285\n",
      "Epoch  44 | Loss: 21.901029221713543\n",
      "Epoch  45 | Loss: 31.305182605981827\n",
      "Epoch  46 | Loss: 32.81797784566879\n",
      "Epoch  47 | Loss: 34.133508302271366\n",
      "Epoch  48 | Loss: 29.53596968948841\n",
      "Epoch  49 | Loss: 34.0456382855773\n",
      "Epoch   0 | Loss: 386.38069891929626\n",
      "Epoch   1 | Loss: 340.53046321868896\n",
      "Epoch   2 | Loss: 322.1827223300934\n",
      "Epoch   3 | Loss: 309.2334426641464\n",
      "Epoch   4 | Loss: 300.14939641952515\n",
      "Epoch   5 | Loss: 293.19921588897705\n",
      "Epoch   6 | Loss: 286.44048058986664\n",
      "Epoch   7 | Loss: 281.0237913131714\n",
      "Epoch   8 | Loss: 276.68036246299744\n",
      "Epoch   9 | Loss: 273.65643882751465\n",
      "Epoch  10 | Loss: 267.0670530796051\n",
      "Epoch  11 | Loss: 263.1252875328064\n",
      "Epoch  12 | Loss: 259.36136865615845\n",
      "Epoch  13 | Loss: 256.18061077594757\n",
      "Epoch  14 | Loss: 252.21256339550018\n",
      "Epoch  15 | Loss: 247.80196869373322\n",
      "Epoch  16 | Loss: 244.6654829978943\n",
      "Epoch  17 | Loss: 241.3930881023407\n",
      "Epoch  18 | Loss: 239.1749962568283\n",
      "Epoch  19 | Loss: 236.34173160791397\n",
      "Epoch  20 | Loss: 233.51473903656006\n",
      "Epoch  21 | Loss: 228.01552712917328\n",
      "Epoch  22 | Loss: 224.83384782075882\n",
      "Epoch  23 | Loss: 221.64673328399658\n",
      "Epoch  24 | Loss: 218.8917868733406\n",
      "Epoch  25 | Loss: 216.75056213140488\n",
      "Epoch  26 | Loss: 213.54180520772934\n",
      "Epoch  27 | Loss: 209.50730860233307\n",
      "Epoch  28 | Loss: 207.71075570583344\n",
      "Epoch  29 | Loss: 205.23296934366226\n",
      "Epoch  30 | Loss: 201.80097937583923\n",
      "Epoch  31 | Loss: 198.79008829593658\n",
      "Epoch  32 | Loss: 196.09330540895462\n",
      "Epoch  33 | Loss: 194.0278835296631\n",
      "Epoch  34 | Loss: 190.7528431415558\n",
      "Epoch  35 | Loss: 189.08686918020248\n",
      "Epoch  36 | Loss: 185.55589878559113\n",
      "Epoch  37 | Loss: 182.7808181643486\n",
      "Epoch  38 | Loss: 178.5288537144661\n",
      "Epoch  39 | Loss: 179.49400746822357\n",
      "Epoch  40 | Loss: 174.93641132116318\n",
      "Epoch  41 | Loss: 174.7850280404091\n",
      "Epoch  42 | Loss: 168.41492027044296\n",
      "Epoch  43 | Loss: 166.28880906105042\n",
      "Epoch  44 | Loss: 164.68252152204514\n",
      "Epoch  45 | Loss: 162.6083859205246\n",
      "Epoch  46 | Loss: 161.3348247408867\n",
      "Epoch  47 | Loss: 156.7483715415001\n",
      "Epoch  48 | Loss: 154.50530403852463\n",
      "Epoch  49 | Loss: 151.42277163267136\n"
     ]
    },
    {
     "data": {
      "text/plain": [
       "<Figure size 640x480 with 1 Axes>"
      ],
      "image/png": "[encoded data removed]"
     },
     "metadata": {},
     "output_type": "display_data"
    }
   ],
   "execution_count": 12
  },
  {
   "metadata": {},
   "cell_type": "markdown",
   "source": [
    "### 13. MLP 모델 정의 3\n",
    "- LeakyReLU + Dropout를 적용한 Model을 정의합니다."
   ],
   "id": "e415cc62b4222636"
  },
  {
   "metadata": {
    "ExecuteTime": {
     "end_time": "2025-03-28T00:56:39.831098Z",
     "start_time": "2025-03-28T00:56:39.814088Z"
    }
   },
   "cell_type": "code",
   "source": [
    "class Model_Dropout(nn.Module):\n",
    "    def __init__(self, input_dim, n_dim):\n",
    "        super().__init__()\n",
    "        self.layer1 = nn.Linear(input_dim, n_dim)\n",
    "        self.layer2 = nn.Linear(n_dim, n_dim)\n",
    "        self.layer3 = nn.Linear(n_dim, 10)\n",
    "        self.act = nn.LeakyReLU()\n",
    "        self.dropout = nn.Dropout(0.1)\n",
    "\n",
    "    def forward(self, x):\n",
    "        x = torch.flatten(x, start_dim=1)\n",
    "        x = self.dropout(self.act(self.layer1(x)))\n",
    "        x = self.dropout(self.act(self.layer2(x)))\n",
    "        x = self.layer3(x)\n",
    "        return x\n",
    "\n",
    "\n",
    "model_dropout = Model_Dropout(3 * 32 * 32, 1024)"
   ],
   "id": "30ba77c4804bf9ea",
   "outputs": [],
   "execution_count": 14
  },
  {
   "metadata": {},
   "cell_type": "markdown",
   "source": "### 14. Plot 3 - Dropout 모델의 Train/Test Accuracy",
   "id": "53354453a8caf48a"
  },
  {
   "metadata": {
    "ExecuteTime": {
     "end_time": "2025-03-28T01:21:10.957537Z",
     "start_time": "2025-03-28T01:15:52.160912Z"
    }
   },
   "cell_type": "code",
   "source": [
    "dropout_model = model_dropout.to('cuda')\n",
    "optimizer = Adam(model_dropout.parameters(), lr=0.001)\n",
    "\n",
    "n_epochs = 50\n",
    "train_accs = []\n",
    "test_accs = []\n",
    "\n",
    "for epoch in range(n_epochs):\n",
    "    dropout_model.train()\n",
    "    for data in trainloader:\n",
    "        inputs, labels = data\n",
    "        inputs, labels = inputs.to('cuda'), labels.to('cuda')\n",
    "\n",
    "        optimizer.zero_grad()\n",
    "        pred = dropout_model(inputs)\n",
    "        loss = nn.CrossEntropyLoss()(pred, labels)\n",
    "        loss.backward()\n",
    "        optimizer.step()\n",
    "\n",
    "    with torch.no_grad():\n",
    "        dropout_model.eval()\n",
    "        train_accs.append(accuracy(dropout_model, trainloader))\n",
    "        test_accs.append(accuracy(dropout_model, testloader))\n",
    "    print(f\"Epoch {epoch + 1:3d} | Train: {train_accs[-1]:.4f}, Test: {test_accs[-1]:.4f}\")\n",
    "\n",
    "plot_acc([train_accs, test_accs], [\"Train\", \"Test\"], \"Train/Test Accuracy with Dropout\")"
   ],
   "id": "5e84916affd73f6e",
   "outputs": [
    {
     "name": "stdout",
     "output_type": "stream",
     "text": [
      "Epoch   1 | Train: 0.7812, Test: 0.5481\n",
      "Epoch   2 | Train: 0.7736, Test: 0.5513\n",
      "Epoch   3 | Train: 0.7905, Test: 0.5521\n",
      "Epoch   4 | Train: 0.7642, Test: 0.5348\n",
      "Epoch   5 | Train: 0.7806, Test: 0.5433\n",
      "Epoch   6 | Train: 0.7852, Test: 0.5481\n",
      "Epoch   7 | Train: 0.8013, Test: 0.5471\n",
      "Epoch   8 | Train: 0.8049, Test: 0.5454\n",
      "Epoch   9 | Train: 0.8013, Test: 0.5434\n",
      "Epoch  10 | Train: 0.8072, Test: 0.5456\n",
      "Epoch  11 | Train: 0.7965, Test: 0.5405\n",
      "Epoch  12 | Train: 0.8179, Test: 0.5497\n",
      "Epoch  13 | Train: 0.8090, Test: 0.5443\n",
      "Epoch  14 | Train: 0.8088, Test: 0.5448\n",
      "Epoch  15 | Train: 0.8171, Test: 0.5404\n",
      "Epoch  16 | Train: 0.8244, Test: 0.5477\n",
      "Epoch  17 | Train: 0.8245, Test: 0.5400\n",
      "Epoch  18 | Train: 0.8294, Test: 0.5418\n",
      "Epoch  19 | Train: 0.8234, Test: 0.5372\n",
      "Epoch  20 | Train: 0.8306, Test: 0.5470\n",
      "Epoch  21 | Train: 0.8370, Test: 0.5430\n",
      "Epoch  22 | Train: 0.8363, Test: 0.5429\n",
      "Epoch  23 | Train: 0.8478, Test: 0.5384\n",
      "Epoch  24 | Train: 0.8338, Test: 0.5398\n",
      "Epoch  25 | Train: 0.8391, Test: 0.5391\n",
      "Epoch  26 | Train: 0.8431, Test: 0.5448\n",
      "Epoch  27 | Train: 0.8458, Test: 0.5400\n",
      "Epoch  28 | Train: 0.8582, Test: 0.5424\n",
      "Epoch  29 | Train: 0.8498, Test: 0.5366\n",
      "Epoch  30 | Train: 0.8684, Test: 0.5498\n",
      "Epoch  31 | Train: 0.8562, Test: 0.5362\n",
      "Epoch  32 | Train: 0.8569, Test: 0.5403\n",
      "Epoch  33 | Train: 0.8464, Test: 0.5297\n",
      "Epoch  34 | Train: 0.8583, Test: 0.5399\n",
      "Epoch  35 | Train: 0.8650, Test: 0.5414\n",
      "Epoch  36 | Train: 0.8647, Test: 0.5428\n",
      "Epoch  37 | Train: 0.8709, Test: 0.5399\n",
      "Epoch  38 | Train: 0.8669, Test: 0.5421\n",
      "Epoch  39 | Train: 0.8654, Test: 0.5435\n",
      "Epoch  40 | Train: 0.8718, Test: 0.5433\n",
      "Epoch  41 | Train: 0.8644, Test: 0.5359\n",
      "Epoch  42 | Train: 0.8826, Test: 0.5426\n",
      "Epoch  43 | Train: 0.8868, Test: 0.5406\n",
      "Epoch  44 | Train: 0.8801, Test: 0.5399\n",
      "Epoch  45 | Train: 0.8946, Test: 0.5465\n",
      "Epoch  46 | Train: 0.8754, Test: 0.5402\n",
      "Epoch  47 | Train: 0.8803, Test: 0.5400\n",
      "Epoch  48 | Train: 0.8857, Test: 0.5408\n",
      "Epoch  49 | Train: 0.8855, Test: 0.5455\n",
      "Epoch  50 | Train: 0.8820, Test: 0.5406\n"
     ]
    },
    {
     "data": {
      "text/plain": [
       "<Figure size 640x480 with 1 Axes>"
      ],
      "image/png": "[encoded data removed]"
     },
     "metadata": {},
     "output_type": "display_data"
    }
   ],
   "execution_count": 16
  }
 ],
 "metadata": {
  "kernelspec": {
   "display_name": "Python 3",
   "language": "python",
   "name": "python3"
  },
  "language_info": {
   "codemirror_mode": {
    "name": "ipython",
    "version": 2
   },
   "file_extension": ".py",
   "mimetype": "text/x-python",
   "name": "python",
   "nbconvert_exporter": "python",
   "pygments_lexer": "ipython2",
   "version": "2.7.6"
  }
 },
 "nbformat": 4,
 "nbformat_minor": 5
}
